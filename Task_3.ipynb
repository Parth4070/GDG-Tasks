{
  "cells": [
    {
      "cell_type": "markdown",
      "metadata": {
        "id": "RkDaTynY7Clu"
      },
      "source": [
        "# F1 Model"
      ]
    },
    {
      "cell_type": "code",
      "execution_count": 43,
      "metadata": {
        "colab": {
          "base_uri": "https://localhost:8080/",
          "height": 377
        },
        "id": "suxRyEPe7Leo",
        "outputId": "dd069708-4b49-4818-faa7-3b784c10f9e9"
      },
      "outputs": [
        {
          "data": {
            "application/vnd.microsoft.datawrangler.viewer.v0+json": {
              "columns": [
                {
                  "name": "index",
                  "rawType": "int64",
                  "type": "integer"
                },
                {
                  "name": "Unnamed: 0",
                  "rawType": "int64",
                  "type": "integer"
                },
                {
                  "name": "year",
                  "rawType": "int64",
                  "type": "integer"
                },
                {
                  "name": "round",
                  "rawType": "int64",
                  "type": "integer"
                },
                {
                  "name": "grid",
                  "rawType": "int64",
                  "type": "integer"
                },
                {
                  "name": "positionOrder",
                  "rawType": "int64",
                  "type": "integer"
                },
                {
                  "name": "points",
                  "rawType": "float64",
                  "type": "float"
                },
                {
                  "name": "laps",
                  "rawType": "float64",
                  "type": "float"
                },
                {
                  "name": "driver_nationality",
                  "rawType": "object",
                  "type": "string"
                },
                {
                  "name": "name",
                  "rawType": "object",
                  "type": "string"
                },
                {
                  "name": "constuctor_nationality",
                  "rawType": "object",
                  "type": "string"
                },
                {
                  "name": "constructor",
                  "rawType": "object",
                  "type": "string"
                },
                {
                  "name": "location",
                  "rawType": "object",
                  "type": "string"
                },
                {
                  "name": "country",
                  "rawType": "object",
                  "type": "string"
                },
                {
                  "name": "lat",
                  "rawType": "float64",
                  "type": "float"
                },
                {
                  "name": "lng",
                  "rawType": "float64",
                  "type": "float"
                },
                {
                  "name": "alt",
                  "rawType": "int64",
                  "type": "integer"
                },
                {
                  "name": "date",
                  "rawType": "object",
                  "type": "string"
                },
                {
                  "name": "target_finish",
                  "rawType": "object",
                  "type": "string"
                },
                {
                  "name": "driver_age",
                  "rawType": "float64",
                  "type": "float"
                },
                {
                  "name": "driver_name",
                  "rawType": "object",
                  "type": "string"
                },
                {
                  "name": "target_finish_e",
                  "rawType": "int64",
                  "type": "integer"
                }
              ],
              "ref": "b6ba9a4e-7b9b-447c-bd6f-69980ecd0ec3",
              "rows": [
                [
                  "0",
                  "0",
                  "2002",
                  "13",
                  "11",
                  "4",
                  "3.0",
                  "77.0",
                  "Finnish",
                  "Hungaroring",
                  "British",
                  "McLaren",
                  "Budapest",
                  "Hungary",
                  "47.5789",
                  "19.2486",
                  "264",
                  "2002-08-18",
                  "Finished",
                  "23.0",
                  "Kimi Räikkönen",
                  "1"
                ],
                [
                  "1",
                  "1",
                  "1981",
                  "1",
                  "23",
                  "21",
                  "0.0",
                  "16.0",
                  "British",
                  "Long Beach",
                  "British",
                  "McLaren",
                  "California",
                  "USA",
                  "33.7651",
                  "-118.189",
                  "12",
                  "1981-03-15",
                  "Not Finished",
                  "35.0",
                  "John Watson",
                  "0"
                ],
                [
                  "2",
                  "2",
                  "1958",
                  "8",
                  "0",
                  "26",
                  "0.0",
                  "0.0",
                  "American",
                  "Nürburgring",
                  "Italian",
                  "Maserati",
                  "Nürburg",
                  "Germany",
                  "50.3356",
                  "6.9475",
                  "578",
                  "1958-08-03",
                  "Not Finished",
                  "28.0",
                  "Troy Ruttman",
                  "0"
                ],
                [
                  "3",
                  "3",
                  "2021",
                  "8",
                  "19",
                  "16",
                  "0.0",
                  "69.0",
                  "German",
                  "Red Bull Ring",
                  "American",
                  "Haas F1 Team",
                  "Spielberg",
                  "Austria",
                  "47.2197",
                  "14.7647",
                  "678",
                  "2021-06-27",
                  "Not Finished",
                  "22.0",
                  "Mick Schumacher",
                  "0"
                ],
                [
                  "4",
                  "4",
                  "1988",
                  "12",
                  "0",
                  "30",
                  "0.0",
                  "0.0",
                  "Italian",
                  "Autodromo Nazionale di Monza",
                  "Italian",
                  "Euro Brun",
                  "Monza",
                  "Italy",
                  "45.6156",
                  "9.28111",
                  "162",
                  "1988-09-11",
                  "Not Finished",
                  "25.0",
                  "Stefano Modena",
                  "0"
                ]
              ],
              "shape": {
                "columns": 21,
                "rows": 5
              }
            },
            "text/html": [
              "<div>\n",
              "<style scoped>\n",
              "    .dataframe tbody tr th:only-of-type {\n",
              "        vertical-align: middle;\n",
              "    }\n",
              "\n",
              "    .dataframe tbody tr th {\n",
              "        vertical-align: top;\n",
              "    }\n",
              "\n",
              "    .dataframe thead th {\n",
              "        text-align: right;\n",
              "    }\n",
              "</style>\n",
              "<table border=\"1\" class=\"dataframe\">\n",
              "  <thead>\n",
              "    <tr style=\"text-align: right;\">\n",
              "      <th></th>\n",
              "      <th>Unnamed: 0</th>\n",
              "      <th>year</th>\n",
              "      <th>round</th>\n",
              "      <th>grid</th>\n",
              "      <th>positionOrder</th>\n",
              "      <th>points</th>\n",
              "      <th>laps</th>\n",
              "      <th>driver_nationality</th>\n",
              "      <th>name</th>\n",
              "      <th>constuctor_nationality</th>\n",
              "      <th>...</th>\n",
              "      <th>location</th>\n",
              "      <th>country</th>\n",
              "      <th>lat</th>\n",
              "      <th>lng</th>\n",
              "      <th>alt</th>\n",
              "      <th>date</th>\n",
              "      <th>target_finish</th>\n",
              "      <th>driver_age</th>\n",
              "      <th>driver_name</th>\n",
              "      <th>target_finish_e</th>\n",
              "    </tr>\n",
              "  </thead>\n",
              "  <tbody>\n",
              "    <tr>\n",
              "      <th>0</th>\n",
              "      <td>0</td>\n",
              "      <td>2002</td>\n",
              "      <td>13</td>\n",
              "      <td>11</td>\n",
              "      <td>4</td>\n",
              "      <td>3.0</td>\n",
              "      <td>77.0</td>\n",
              "      <td>Finnish</td>\n",
              "      <td>Hungaroring</td>\n",
              "      <td>British</td>\n",
              "      <td>...</td>\n",
              "      <td>Budapest</td>\n",
              "      <td>Hungary</td>\n",
              "      <td>47.5789</td>\n",
              "      <td>19.24860</td>\n",
              "      <td>264</td>\n",
              "      <td>2002-08-18</td>\n",
              "      <td>Finished</td>\n",
              "      <td>23.0</td>\n",
              "      <td>Kimi Räikkönen</td>\n",
              "      <td>1</td>\n",
              "    </tr>\n",
              "    <tr>\n",
              "      <th>1</th>\n",
              "      <td>1</td>\n",
              "      <td>1981</td>\n",
              "      <td>1</td>\n",
              "      <td>23</td>\n",
              "      <td>21</td>\n",
              "      <td>0.0</td>\n",
              "      <td>16.0</td>\n",
              "      <td>British</td>\n",
              "      <td>Long Beach</td>\n",
              "      <td>British</td>\n",
              "      <td>...</td>\n",
              "      <td>California</td>\n",
              "      <td>USA</td>\n",
              "      <td>33.7651</td>\n",
              "      <td>-118.18900</td>\n",
              "      <td>12</td>\n",
              "      <td>1981-03-15</td>\n",
              "      <td>Not Finished</td>\n",
              "      <td>35.0</td>\n",
              "      <td>John Watson</td>\n",
              "      <td>0</td>\n",
              "    </tr>\n",
              "    <tr>\n",
              "      <th>2</th>\n",
              "      <td>2</td>\n",
              "      <td>1958</td>\n",
              "      <td>8</td>\n",
              "      <td>0</td>\n",
              "      <td>26</td>\n",
              "      <td>0.0</td>\n",
              "      <td>0.0</td>\n",
              "      <td>American</td>\n",
              "      <td>Nürburgring</td>\n",
              "      <td>Italian</td>\n",
              "      <td>...</td>\n",
              "      <td>Nürburg</td>\n",
              "      <td>Germany</td>\n",
              "      <td>50.3356</td>\n",
              "      <td>6.94750</td>\n",
              "      <td>578</td>\n",
              "      <td>1958-08-03</td>\n",
              "      <td>Not Finished</td>\n",
              "      <td>28.0</td>\n",
              "      <td>Troy Ruttman</td>\n",
              "      <td>0</td>\n",
              "    </tr>\n",
              "    <tr>\n",
              "      <th>3</th>\n",
              "      <td>3</td>\n",
              "      <td>2021</td>\n",
              "      <td>8</td>\n",
              "      <td>19</td>\n",
              "      <td>16</td>\n",
              "      <td>0.0</td>\n",
              "      <td>69.0</td>\n",
              "      <td>German</td>\n",
              "      <td>Red Bull Ring</td>\n",
              "      <td>American</td>\n",
              "      <td>...</td>\n",
              "      <td>Spielberg</td>\n",
              "      <td>Austria</td>\n",
              "      <td>47.2197</td>\n",
              "      <td>14.76470</td>\n",
              "      <td>678</td>\n",
              "      <td>2021-06-27</td>\n",
              "      <td>Not Finished</td>\n",
              "      <td>22.0</td>\n",
              "      <td>Mick Schumacher</td>\n",
              "      <td>0</td>\n",
              "    </tr>\n",
              "    <tr>\n",
              "      <th>4</th>\n",
              "      <td>4</td>\n",
              "      <td>1988</td>\n",
              "      <td>12</td>\n",
              "      <td>0</td>\n",
              "      <td>30</td>\n",
              "      <td>0.0</td>\n",
              "      <td>0.0</td>\n",
              "      <td>Italian</td>\n",
              "      <td>Autodromo Nazionale di Monza</td>\n",
              "      <td>Italian</td>\n",
              "      <td>...</td>\n",
              "      <td>Monza</td>\n",
              "      <td>Italy</td>\n",
              "      <td>45.6156</td>\n",
              "      <td>9.28111</td>\n",
              "      <td>162</td>\n",
              "      <td>1988-09-11</td>\n",
              "      <td>Not Finished</td>\n",
              "      <td>25.0</td>\n",
              "      <td>Stefano Modena</td>\n",
              "      <td>0</td>\n",
              "    </tr>\n",
              "  </tbody>\n",
              "</table>\n",
              "<p>5 rows × 21 columns</p>\n",
              "</div>"
            ],
            "text/plain": [
              "   Unnamed: 0  year  round  grid  positionOrder  points  laps  \\\n",
              "0           0  2002     13    11              4     3.0  77.0   \n",
              "1           1  1981      1    23             21     0.0  16.0   \n",
              "2           2  1958      8     0             26     0.0   0.0   \n",
              "3           3  2021      8    19             16     0.0  69.0   \n",
              "4           4  1988     12     0             30     0.0   0.0   \n",
              "\n",
              "  driver_nationality                          name constuctor_nationality  \\\n",
              "0            Finnish                   Hungaroring                British   \n",
              "1            British                    Long Beach                British   \n",
              "2           American                   Nürburgring                Italian   \n",
              "3             German                 Red Bull Ring               American   \n",
              "4            Italian  Autodromo Nazionale di Monza                Italian   \n",
              "\n",
              "   ...    location  country      lat        lng  alt        date  \\\n",
              "0  ...    Budapest  Hungary  47.5789   19.24860  264  2002-08-18   \n",
              "1  ...  California      USA  33.7651 -118.18900   12  1981-03-15   \n",
              "2  ...     Nürburg  Germany  50.3356    6.94750  578  1958-08-03   \n",
              "3  ...   Spielberg  Austria  47.2197   14.76470  678  2021-06-27   \n",
              "4  ...       Monza    Italy  45.6156    9.28111  162  1988-09-11   \n",
              "\n",
              "  target_finish driver_age      driver_name target_finish_e  \n",
              "0      Finished       23.0   Kimi Räikkönen               1  \n",
              "1  Not Finished       35.0      John Watson               0  \n",
              "2  Not Finished       28.0     Troy Ruttman               0  \n",
              "3  Not Finished       22.0  Mick Schumacher               0  \n",
              "4  Not Finished       25.0   Stefano Modena               0  \n",
              "\n",
              "[5 rows x 21 columns]"
            ]
          },
          "execution_count": 43,
          "metadata": {},
          "output_type": "execute_result"
        }
      ],
      "source": [
        "import pandas as pd\n",
        "import matplotlib.pyplot as plt\n",
        "\n",
        "df = pd.read_csv(\"Final_F1 (1).csv\")\n",
        "df.head()"
      ]
    },
    {
      "cell_type": "code",
      "execution_count": 44,
      "metadata": {
        "id": "zXowf0zp_gsp"
      },
      "outputs": [],
      "source": [
        "df.drop(['Unnamed: 0'], inplace=True, axis=1)"
      ]
    },
    {
      "cell_type": "code",
      "execution_count": 45,
      "metadata": {
        "id": "A-8xCkcN7bZr"
      },
      "outputs": [],
      "source": [
        "df.drop(['target_finish'], inplace=True, axis=1)"
      ]
    },
    {
      "cell_type": "code",
      "execution_count": 46,
      "metadata": {
        "id": "2gEtQg9ADhT0"
      },
      "outputs": [],
      "source": [
        "df.drop(['date'], inplace=True, axis=1)"
      ]
    },
    {
      "cell_type": "code",
      "execution_count": 47,
      "metadata": {
        "colab": {
          "base_uri": "https://localhost:8080/",
          "height": 295
        },
        "id": "u_Bb5Czm7pPY",
        "outputId": "456a59de-6ac2-48a0-c2bc-ade8eabecf94"
      },
      "outputs": [
        {
          "data": {
            "application/vnd.microsoft.datawrangler.viewer.v0+json": {
              "columns": [
                {
                  "name": "index",
                  "rawType": "int64",
                  "type": "integer"
                },
                {
                  "name": "year",
                  "rawType": "int64",
                  "type": "integer"
                },
                {
                  "name": "round",
                  "rawType": "int64",
                  "type": "integer"
                },
                {
                  "name": "grid",
                  "rawType": "int64",
                  "type": "integer"
                },
                {
                  "name": "positionOrder",
                  "rawType": "int64",
                  "type": "integer"
                },
                {
                  "name": "points",
                  "rawType": "float64",
                  "type": "float"
                },
                {
                  "name": "laps",
                  "rawType": "float64",
                  "type": "float"
                },
                {
                  "name": "driver_nationality",
                  "rawType": "object",
                  "type": "string"
                },
                {
                  "name": "name",
                  "rawType": "object",
                  "type": "string"
                },
                {
                  "name": "constuctor_nationality",
                  "rawType": "object",
                  "type": "string"
                },
                {
                  "name": "constructor",
                  "rawType": "object",
                  "type": "string"
                },
                {
                  "name": "location",
                  "rawType": "object",
                  "type": "string"
                },
                {
                  "name": "country",
                  "rawType": "object",
                  "type": "string"
                },
                {
                  "name": "lat",
                  "rawType": "float64",
                  "type": "float"
                },
                {
                  "name": "lng",
                  "rawType": "float64",
                  "type": "float"
                },
                {
                  "name": "alt",
                  "rawType": "int64",
                  "type": "integer"
                },
                {
                  "name": "driver_age",
                  "rawType": "float64",
                  "type": "float"
                },
                {
                  "name": "driver_name",
                  "rawType": "object",
                  "type": "string"
                },
                {
                  "name": "target_finish_e",
                  "rawType": "int64",
                  "type": "integer"
                }
              ],
              "ref": "6181487d-cfa5-416f-9a78-e7b8795cc885",
              "rows": [
                [
                  "0",
                  "2002",
                  "13",
                  "11",
                  "4",
                  "3.0",
                  "77.0",
                  "Finnish",
                  "Hungaroring",
                  "British",
                  "McLaren",
                  "Budapest",
                  "Hungary",
                  "47.5789",
                  "19.2486",
                  "264",
                  "23.0",
                  "Kimi Räikkönen",
                  "1"
                ],
                [
                  "1",
                  "1981",
                  "1",
                  "23",
                  "21",
                  "0.0",
                  "16.0",
                  "British",
                  "Long Beach",
                  "British",
                  "McLaren",
                  "California",
                  "USA",
                  "33.7651",
                  "-118.189",
                  "12",
                  "35.0",
                  "John Watson",
                  "0"
                ],
                [
                  "2",
                  "1958",
                  "8",
                  "0",
                  "26",
                  "0.0",
                  "0.0",
                  "American",
                  "Nürburgring",
                  "Italian",
                  "Maserati",
                  "Nürburg",
                  "Germany",
                  "50.3356",
                  "6.9475",
                  "578",
                  "28.0",
                  "Troy Ruttman",
                  "0"
                ],
                [
                  "3",
                  "2021",
                  "8",
                  "19",
                  "16",
                  "0.0",
                  "69.0",
                  "German",
                  "Red Bull Ring",
                  "American",
                  "Haas F1 Team",
                  "Spielberg",
                  "Austria",
                  "47.2197",
                  "14.7647",
                  "678",
                  "22.0",
                  "Mick Schumacher",
                  "0"
                ],
                [
                  "4",
                  "1988",
                  "12",
                  "0",
                  "30",
                  "0.0",
                  "0.0",
                  "Italian",
                  "Autodromo Nazionale di Monza",
                  "Italian",
                  "Euro Brun",
                  "Monza",
                  "Italy",
                  "45.6156",
                  "9.28111",
                  "162",
                  "25.0",
                  "Stefano Modena",
                  "0"
                ]
              ],
              "shape": {
                "columns": 18,
                "rows": 5
              }
            },
            "text/html": [
              "<div>\n",
              "<style scoped>\n",
              "    .dataframe tbody tr th:only-of-type {\n",
              "        vertical-align: middle;\n",
              "    }\n",
              "\n",
              "    .dataframe tbody tr th {\n",
              "        vertical-align: top;\n",
              "    }\n",
              "\n",
              "    .dataframe thead th {\n",
              "        text-align: right;\n",
              "    }\n",
              "</style>\n",
              "<table border=\"1\" class=\"dataframe\">\n",
              "  <thead>\n",
              "    <tr style=\"text-align: right;\">\n",
              "      <th></th>\n",
              "      <th>year</th>\n",
              "      <th>round</th>\n",
              "      <th>grid</th>\n",
              "      <th>positionOrder</th>\n",
              "      <th>points</th>\n",
              "      <th>laps</th>\n",
              "      <th>driver_nationality</th>\n",
              "      <th>name</th>\n",
              "      <th>constuctor_nationality</th>\n",
              "      <th>constructor</th>\n",
              "      <th>location</th>\n",
              "      <th>country</th>\n",
              "      <th>lat</th>\n",
              "      <th>lng</th>\n",
              "      <th>alt</th>\n",
              "      <th>driver_age</th>\n",
              "      <th>driver_name</th>\n",
              "      <th>target_finish_e</th>\n",
              "    </tr>\n",
              "  </thead>\n",
              "  <tbody>\n",
              "    <tr>\n",
              "      <th>0</th>\n",
              "      <td>2002</td>\n",
              "      <td>13</td>\n",
              "      <td>11</td>\n",
              "      <td>4</td>\n",
              "      <td>3.0</td>\n",
              "      <td>77.0</td>\n",
              "      <td>Finnish</td>\n",
              "      <td>Hungaroring</td>\n",
              "      <td>British</td>\n",
              "      <td>McLaren</td>\n",
              "      <td>Budapest</td>\n",
              "      <td>Hungary</td>\n",
              "      <td>47.5789</td>\n",
              "      <td>19.24860</td>\n",
              "      <td>264</td>\n",
              "      <td>23.0</td>\n",
              "      <td>Kimi Räikkönen</td>\n",
              "      <td>1</td>\n",
              "    </tr>\n",
              "    <tr>\n",
              "      <th>1</th>\n",
              "      <td>1981</td>\n",
              "      <td>1</td>\n",
              "      <td>23</td>\n",
              "      <td>21</td>\n",
              "      <td>0.0</td>\n",
              "      <td>16.0</td>\n",
              "      <td>British</td>\n",
              "      <td>Long Beach</td>\n",
              "      <td>British</td>\n",
              "      <td>McLaren</td>\n",
              "      <td>California</td>\n",
              "      <td>USA</td>\n",
              "      <td>33.7651</td>\n",
              "      <td>-118.18900</td>\n",
              "      <td>12</td>\n",
              "      <td>35.0</td>\n",
              "      <td>John Watson</td>\n",
              "      <td>0</td>\n",
              "    </tr>\n",
              "    <tr>\n",
              "      <th>2</th>\n",
              "      <td>1958</td>\n",
              "      <td>8</td>\n",
              "      <td>0</td>\n",
              "      <td>26</td>\n",
              "      <td>0.0</td>\n",
              "      <td>0.0</td>\n",
              "      <td>American</td>\n",
              "      <td>Nürburgring</td>\n",
              "      <td>Italian</td>\n",
              "      <td>Maserati</td>\n",
              "      <td>Nürburg</td>\n",
              "      <td>Germany</td>\n",
              "      <td>50.3356</td>\n",
              "      <td>6.94750</td>\n",
              "      <td>578</td>\n",
              "      <td>28.0</td>\n",
              "      <td>Troy Ruttman</td>\n",
              "      <td>0</td>\n",
              "    </tr>\n",
              "    <tr>\n",
              "      <th>3</th>\n",
              "      <td>2021</td>\n",
              "      <td>8</td>\n",
              "      <td>19</td>\n",
              "      <td>16</td>\n",
              "      <td>0.0</td>\n",
              "      <td>69.0</td>\n",
              "      <td>German</td>\n",
              "      <td>Red Bull Ring</td>\n",
              "      <td>American</td>\n",
              "      <td>Haas F1 Team</td>\n",
              "      <td>Spielberg</td>\n",
              "      <td>Austria</td>\n",
              "      <td>47.2197</td>\n",
              "      <td>14.76470</td>\n",
              "      <td>678</td>\n",
              "      <td>22.0</td>\n",
              "      <td>Mick Schumacher</td>\n",
              "      <td>0</td>\n",
              "    </tr>\n",
              "    <tr>\n",
              "      <th>4</th>\n",
              "      <td>1988</td>\n",
              "      <td>12</td>\n",
              "      <td>0</td>\n",
              "      <td>30</td>\n",
              "      <td>0.0</td>\n",
              "      <td>0.0</td>\n",
              "      <td>Italian</td>\n",
              "      <td>Autodromo Nazionale di Monza</td>\n",
              "      <td>Italian</td>\n",
              "      <td>Euro Brun</td>\n",
              "      <td>Monza</td>\n",
              "      <td>Italy</td>\n",
              "      <td>45.6156</td>\n",
              "      <td>9.28111</td>\n",
              "      <td>162</td>\n",
              "      <td>25.0</td>\n",
              "      <td>Stefano Modena</td>\n",
              "      <td>0</td>\n",
              "    </tr>\n",
              "  </tbody>\n",
              "</table>\n",
              "</div>"
            ],
            "text/plain": [
              "   year  round  grid  positionOrder  points  laps driver_nationality  \\\n",
              "0  2002     13    11              4     3.0  77.0            Finnish   \n",
              "1  1981      1    23             21     0.0  16.0            British   \n",
              "2  1958      8     0             26     0.0   0.0           American   \n",
              "3  2021      8    19             16     0.0  69.0             German   \n",
              "4  1988     12     0             30     0.0   0.0            Italian   \n",
              "\n",
              "                           name constuctor_nationality   constructor  \\\n",
              "0                   Hungaroring                British       McLaren   \n",
              "1                    Long Beach                British       McLaren   \n",
              "2                   Nürburgring                Italian      Maserati   \n",
              "3                 Red Bull Ring               American  Haas F1 Team   \n",
              "4  Autodromo Nazionale di Monza                Italian     Euro Brun   \n",
              "\n",
              "     location  country      lat        lng  alt  driver_age      driver_name  \\\n",
              "0    Budapest  Hungary  47.5789   19.24860  264        23.0   Kimi Räikkönen   \n",
              "1  California      USA  33.7651 -118.18900   12        35.0      John Watson   \n",
              "2     Nürburg  Germany  50.3356    6.94750  578        28.0     Troy Ruttman   \n",
              "3   Spielberg  Austria  47.2197   14.76470  678        22.0  Mick Schumacher   \n",
              "4       Monza    Italy  45.6156    9.28111  162        25.0   Stefano Modena   \n",
              "\n",
              "   target_finish_e  \n",
              "0                1  \n",
              "1                0  \n",
              "2                0  \n",
              "3                0  \n",
              "4                0  "
            ]
          },
          "execution_count": 47,
          "metadata": {},
          "output_type": "execute_result"
        }
      ],
      "source": [
        "df.head()"
      ]
    },
    {
      "cell_type": "code",
      "execution_count": 48,
      "metadata": {
        "id": "ngNb8m3W7q5s"
      },
      "outputs": [],
      "source": [
        "X = df.drop(['target_finish_e'], axis=1)\n",
        "y = df['target_finish_e']"
      ]
    },
    {
      "cell_type": "code",
      "execution_count": 49,
      "metadata": {
        "colab": {
          "base_uri": "https://localhost:8080/"
        },
        "id": "oXJieTrh_UsL",
        "outputId": "df939046-935d-48a5-95b3-b9811afc6af5"
      },
      "outputs": [
        {
          "data": {
            "text/plain": [
              "['year',\n",
              " 'round',\n",
              " 'grid',\n",
              " 'positionOrder',\n",
              " 'points',\n",
              " 'laps',\n",
              " 'lat',\n",
              " 'lng',\n",
              " 'alt',\n",
              " 'driver_age',\n",
              " 'target_finish_e']"
            ]
          },
          "execution_count": 49,
          "metadata": {},
          "output_type": "execute_result"
        }
      ],
      "source": [
        "numeric = [feature for feature in df.columns if df[feature].dtype != 'O']\n",
        "numeric"
      ]
    },
    {
      "cell_type": "code",
      "execution_count": 50,
      "metadata": {
        "id": "uQfORjhCCMZD"
      },
      "outputs": [],
      "source": [
        "import seaborn as sns"
      ]
    },
    {
      "cell_type": "code",
      "execution_count": 51,
      "metadata": {
        "colab": {
          "base_uri": "https://localhost:8080/",
          "height": 650
        },
        "id": "v2TZTMWn_2-I",
        "outputId": "8ee01e44-3eda-42ad-b3d6-51940afd2d96"
      },
      "outputs": [
        {
          "data": {
            "text/plain": [
              "<Axes: title={'center': 'Correlations between different numeric data'}>"
            ]
          },
          "execution_count": 51,
          "metadata": {},
          "output_type": "execute_result"
        },
        {
          "data": {
            "image/png": "[encoded data removed]",
            "text/plain": [
              "<Figure size 1000x600 with 2 Axes>"
            ]
          },
          "metadata": {},
          "output_type": "display_data"
        }
      ],
      "source": [
        "plt.figure(figsize=(10, 6))\n",
        "plt.title(\"Correlations between different numeric data\")\n",
        "sns.heatmap(df[numeric].corr(), annot=True)\n"
      ]
    },
    {
      "cell_type": "code",
      "execution_count": 52,
      "metadata": {
        "id": "mWQKgg0tCzfV"
      },
      "outputs": [],
      "source": [
        "corr_matrix = df[numeric].corr()"
      ]
    },
    {
      "cell_type": "code",
      "execution_count": 53,
      "metadata": {
        "colab": {
          "base_uri": "https://localhost:8080/"
        },
        "id": "k8ZnBpVJCvqt",
        "outputId": "03937ebc-a249-4fdf-c1fe-e7aba6ccb26d"
      },
      "outputs": [
        {
          "name": "stdout",
          "output_type": "stream",
          "text": [
            "year             0.276936\n",
            "round            0.123115\n",
            "grid            -0.344964\n",
            "positionOrder   -0.632000\n",
            "points           0.610262\n",
            "laps             0.322128\n",
            "lat             -0.023301\n",
            "lng              0.090647\n",
            "alt             -0.043222\n",
            "driver_age      -0.039325\n",
            "Name: target_finish_e, dtype: float64\n"
          ]
        }
      ],
      "source": [
        "target_corr = corr_matrix['target_finish_e'].drop('target_finish_e')  # exclude target itself\n",
        "print(target_corr)"
      ]
    },
    {
      "cell_type": "code",
      "execution_count": 54,
      "metadata": {
        "colab": {
          "base_uri": "https://localhost:8080/"
        },
        "id": "6hW0bTuLDBC-",
        "outputId": "a356cc23-59b9-4421-8c37-d9effb931540"
      },
      "outputs": [
        {
          "data": {
            "text/plain": [
              "['positionOrder', 'points']"
            ]
          },
          "execution_count": 54,
          "metadata": {},
          "output_type": "execute_result"
        }
      ],
      "source": [
        "threshold = 0.6\n",
        "high_corr_features_num = target_corr[abs(target_corr) > threshold]\n",
        "high_corr_features_num = list(high_corr_features_num.index)\n",
        "high_corr_features_num"
      ]
    },
    {
      "cell_type": "code",
      "execution_count": 55,
      "metadata": {
        "id": "lwiHz6VH-Cjz"
      },
      "outputs": [],
      "source": [
        "def eta_squared(feature, target):\n",
        "    groups = [target[feature == lvl] for lvl in feature.unique()]\n",
        "    ss_between = sum([len(g)*(g.mean()-target.mean())**2 for g in groups])\n",
        "    ss_total = ((target - target.mean())**2).sum()\n",
        "    return ss_between / ss_total"
      ]
    },
    {
      "cell_type": "code",
      "execution_count": 56,
      "metadata": {
        "colab": {
          "base_uri": "https://localhost:8080/"
        },
        "id": "vAM8xVbFAgGF",
        "outputId": "edc1be24-4a7c-434a-9ee8-8de4681cb51a"
      },
      "outputs": [
        {
          "data": {
            "text/plain": [
              "['driver_nationality',\n",
              " 'name',\n",
              " 'constuctor_nationality',\n",
              " 'constructor',\n",
              " 'location',\n",
              " 'country',\n",
              " 'driver_name']"
            ]
          },
          "execution_count": 56,
          "metadata": {},
          "output_type": "execute_result"
        }
      ],
      "source": [
        "cat = [feature for feature in df.columns if df[feature].dtype == 'O']\n",
        "cat"
      ]
    },
    {
      "cell_type": "code",
      "execution_count": 57,
      "metadata": {
        "colab": {
          "base_uri": "https://localhost:8080/"
        },
        "id": "6s41oa0vAwiZ",
        "outputId": "35d9cad2-2d4d-49de-bd34-01e110897695"
      },
      "outputs": [
        {
          "name": "stdout",
          "output_type": "stream",
          "text": [
            "EtA of driver_nationality -> target: 0.06386925376517841\n",
            "EtA of name -> target: 0.07004656239273722\n",
            "EtA of constuctor_nationality -> target: 0.06817846339028946\n",
            "EtA of constructor -> target: 0.23984141715271004\n",
            "EtA of location -> target: 0.06987791836996278\n",
            "EtA of country -> target: 0.04306934585738197\n",
            "EtA of driver_name -> target: 0.28565480621300715\n"
          ]
        }
      ],
      "source": [
        "for i in range(len(cat)):\n",
        "  print(f\"EtA of {cat[i]} -> target: {eta_squared(df[cat[i]],df['target_finish_e']) }\")\n"
      ]
    },
    {
      "cell_type": "code",
      "execution_count": 58,
      "metadata": {
        "colab": {
          "base_uri": "https://localhost:8080/"
        },
        "id": "fYVpKDZBBKH_",
        "outputId": "3eb90400-b4d9-41fa-a977-2f9526b8f188"
      },
      "outputs": [
        {
          "data": {
            "text/plain": [
              "['constructor', 'driver_name']"
            ]
          },
          "execution_count": 58,
          "metadata": {},
          "output_type": "execute_result"
        }
      ],
      "source": [
        "thres = 0.20\n",
        "high_corr_features_cat = []\n",
        "for i in range(len(cat)):\n",
        "  if eta_squared(df[cat[i]],df['target_finish_e']) > thres:\n",
        "    high_corr_features_cat.append(cat[i])\n",
        "high_corr_features_cat"
      ]
    },
    {
      "cell_type": "code",
      "execution_count": 59,
      "metadata": {
        "id": "8SV0GCKLEQpE"
      },
      "outputs": [],
      "source": [
        "df_final = df[high_corr_features_num + high_corr_features_cat]"
      ]
    },
    {
      "cell_type": "code",
      "execution_count": 60,
      "metadata": {
        "colab": {
          "base_uri": "https://localhost:8080/",
          "height": 206
        },
        "id": "_4Wl25cVHuKt",
        "outputId": "87dee6be-ec88-4876-cb0f-db426f2a1cd7"
      },
      "outputs": [
        {
          "data": {
            "application/vnd.microsoft.datawrangler.viewer.v0+json": {
              "columns": [
                {
                  "name": "index",
                  "rawType": "int64",
                  "type": "integer"
                },
                {
                  "name": "positionOrder",
                  "rawType": "int64",
                  "type": "integer"
                },
                {
                  "name": "points",
                  "rawType": "float64",
                  "type": "float"
                },
                {
                  "name": "constructor",
                  "rawType": "object",
                  "type": "string"
                },
                {
                  "name": "driver_name",
                  "rawType": "object",
                  "type": "string"
                }
              ],
              "ref": "d7cb3452-c6e4-4ed0-af66-7dff1c6e15ef",
              "rows": [
                [
                  "0",
                  "4",
                  "3.0",
                  "McLaren",
                  "Kimi Räikkönen"
                ],
                [
                  "1",
                  "21",
                  "0.0",
                  "McLaren",
                  "John Watson"
                ],
                [
                  "2",
                  "26",
                  "0.0",
                  "Maserati",
                  "Troy Ruttman"
                ],
                [
                  "3",
                  "16",
                  "0.0",
                  "Haas F1 Team",
                  "Mick Schumacher"
                ],
                [
                  "4",
                  "30",
                  "0.0",
                  "Euro Brun",
                  "Stefano Modena"
                ]
              ],
              "shape": {
                "columns": 4,
                "rows": 5
              }
            },
            "text/html": [
              "<div>\n",
              "<style scoped>\n",
              "    .dataframe tbody tr th:only-of-type {\n",
              "        vertical-align: middle;\n",
              "    }\n",
              "\n",
              "    .dataframe tbody tr th {\n",
              "        vertical-align: top;\n",
              "    }\n",
              "\n",
              "    .dataframe thead th {\n",
              "        text-align: right;\n",
              "    }\n",
              "</style>\n",
              "<table border=\"1\" class=\"dataframe\">\n",
              "  <thead>\n",
              "    <tr style=\"text-align: right;\">\n",
              "      <th></th>\n",
              "      <th>positionOrder</th>\n",
              "      <th>points</th>\n",
              "      <th>constructor</th>\n",
              "      <th>driver_name</th>\n",
              "    </tr>\n",
              "  </thead>\n",
              "  <tbody>\n",
              "    <tr>\n",
              "      <th>0</th>\n",
              "      <td>4</td>\n",
              "      <td>3.0</td>\n",
              "      <td>McLaren</td>\n",
              "      <td>Kimi Räikkönen</td>\n",
              "    </tr>\n",
              "    <tr>\n",
              "      <th>1</th>\n",
              "      <td>21</td>\n",
              "      <td>0.0</td>\n",
              "      <td>McLaren</td>\n",
              "      <td>John Watson</td>\n",
              "    </tr>\n",
              "    <tr>\n",
              "      <th>2</th>\n",
              "      <td>26</td>\n",
              "      <td>0.0</td>\n",
              "      <td>Maserati</td>\n",
              "      <td>Troy Ruttman</td>\n",
              "    </tr>\n",
              "    <tr>\n",
              "      <th>3</th>\n",
              "      <td>16</td>\n",
              "      <td>0.0</td>\n",
              "      <td>Haas F1 Team</td>\n",
              "      <td>Mick Schumacher</td>\n",
              "    </tr>\n",
              "    <tr>\n",
              "      <th>4</th>\n",
              "      <td>30</td>\n",
              "      <td>0.0</td>\n",
              "      <td>Euro Brun</td>\n",
              "      <td>Stefano Modena</td>\n",
              "    </tr>\n",
              "  </tbody>\n",
              "</table>\n",
              "</div>"
            ],
            "text/plain": [
              "   positionOrder  points   constructor      driver_name\n",
              "0              4     3.0       McLaren   Kimi Räikkönen\n",
              "1             21     0.0       McLaren      John Watson\n",
              "2             26     0.0      Maserati     Troy Ruttman\n",
              "3             16     0.0  Haas F1 Team  Mick Schumacher\n",
              "4             30     0.0     Euro Brun   Stefano Modena"
            ]
          },
          "execution_count": 60,
          "metadata": {},
          "output_type": "execute_result"
        }
      ],
      "source": [
        "df_final.head()"
      ]
    },
    {
      "cell_type": "code",
      "execution_count": null,
      "metadata": {},
      "outputs": [],
      "source": []
    },
    {
      "cell_type": "code",
      "execution_count": 61,
      "metadata": {},
      "outputs": [
        {
          "data": {
            "text/plain": [
              "((8000, 4), (2000, 4), (8000,), (2000,))"
            ]
          },
          "execution_count": 61,
          "metadata": {},
          "output_type": "execute_result"
        }
      ],
      "source": [
        "from sklearn.model_selection import train_test_split\n",
        "\n",
        "X = df_final\n",
        "y = df['target_finish_e']\n",
        "\n",
        "X_train, X_test, y_train, y_test = train_test_split(X, y, test_size=0.2)\n",
        "X_train.shape, X_test.shape, y_train.shape, y_test.shape"
      ]
    },
    {
      "cell_type": "code",
      "execution_count": 62,
      "metadata": {
        "id": "RQE4fQdvFT4x"
      },
      "outputs": [
        {
          "name": "stderr",
          "output_type": "stream",
          "text": [
            "c:\\Users\\Parth Ghag\\AppData\\Local\\Programs\\Python\\Python313\\Lib\\site-packages\\sklearn\\preprocessing\\_encoders.py:246: UserWarning: Found unknown categories in columns [0, 1] during transform. These unknown categories will be encoded as all zeros\n",
            "  warnings.warn(\n"
          ]
        }
      ],
      "source": [
        "from sklearn.preprocessing import OneHotEncoder\n",
        "\n",
        "encoder = OneHotEncoder(drop='first', sparse_output=False, handle_unknown='ignore')\n",
        "\n",
        "encoder.fit(X_train[['constructor', 'driver_name']])\n",
        "train_encoded = encoder.transform(X_train[['constructor', 'driver_name']])\n",
        "test_encoded = encoder.transform(X_test[['constructor', 'driver_name']])\n",
        "\n",
        "train_encoded_df = pd.DataFrame(train_encoded, columns=encoder.get_feature_names_out(['constructor', 'driver_name']))\n",
        "test_encoded_df = pd.DataFrame(test_encoded, columns=encoder.get_feature_names_out(['constructor', 'driver_name']))\n",
        "\n",
        "X_train = X_train.drop(['constructor', 'driver_name'], axis=1)\n",
        "X_test = X_test.drop(['constructor', 'driver_name'], axis=1)\n",
        "\n",
        "X_train = pd.concat([X_train.reset_index(drop=True), train_encoded_df], axis=1)\n",
        "X_test = pd.concat([X_test.reset_index(drop=True), test_encoded_df], axis=1)\n",
        "# encoded = encoder.fit_transform(df_final[['constructor', 'driver_name']])\n",
        "# encoded_df = pd.DataFrame(encoded, columns=encoder.get_feature_names_out(['constructor', 'driver_name']))\n",
        "# df_final = df_final.drop(['constructor', 'driver_name'], axis=1)\n",
        "# df_final = pd.concat([df_final, encoded_df], axis=1)"
      ]
    },
    {
      "cell_type": "code",
      "execution_count": 63,
      "metadata": {},
      "outputs": [
        {
          "data": {
            "application/vnd.microsoft.datawrangler.viewer.v0+json": {
              "columns": [
                {
                  "name": "index",
                  "rawType": "int64",
                  "type": "integer"
                },
                {
                  "name": "positionOrder",
                  "rawType": "int64",
                  "type": "integer"
                },
                {
                  "name": "points",
                  "rawType": "float64",
                  "type": "float"
                },
                {
                  "name": "constructor_AGS",
                  "rawType": "float64",
                  "type": "float"
                },
                {
                  "name": "constructor_ATS",
                  "rawType": "float64",
                  "type": "float"
                },
                {
                  "name": "constructor_Adams",
                  "rawType": "float64",
                  "type": "float"
                },
                {
                  "name": "constructor_Alfa Romeo",
                  "rawType": "float64",
                  "type": "float"
                },
                {
                  "name": "constructor_AlphaTauri",
                  "rawType": "float64",
                  "type": "float"
                },
                {
                  "name": "constructor_Alpine F1 Team",
                  "rawType": "float64",
                  "type": "float"
                },
                {
                  "name": "constructor_Alta",
                  "rawType": "float64",
                  "type": "float"
                },
                {
                  "name": "constructor_Amon",
                  "rawType": "float64",
                  "type": "float"
                },
                {
                  "name": "constructor_Andrea Moda",
                  "rawType": "float64",
                  "type": "float"
                },
                {
                  "name": "constructor_Arrows",
                  "rawType": "float64",
                  "type": "float"
                },
                {
                  "name": "constructor_Aston Butterworth",
                  "rawType": "float64",
                  "type": "float"
                },
                {
                  "name": "constructor_Aston Martin",
                  "rawType": "float64",
                  "type": "float"
                },
                {
                  "name": "constructor_BAR",
                  "rawType": "float64",
                  "type": "float"
                },
                {
                  "name": "constructor_BMW Sauber",
                  "rawType": "float64",
                  "type": "float"
                },
                {
                  "name": "constructor_BRM",
                  "rawType": "float64",
                  "type": "float"
                },
                {
                  "name": "constructor_BRP",
                  "rawType": "float64",
                  "type": "float"
                },
                {
                  "name": "constructor_Behra-Porsche",
                  "rawType": "float64",
                  "type": "float"
                },
                {
                  "name": "constructor_Bellasi",
                  "rawType": "float64",
                  "type": "float"
                },
                {
                  "name": "constructor_Benetton",
                  "rawType": "float64",
                  "type": "float"
                },
                {
                  "name": "constructor_Boro",
                  "rawType": "float64",
                  "type": "float"
                },
                {
                  "name": "constructor_Brabham",
                  "rawType": "float64",
                  "type": "float"
                },
                {
                  "name": "constructor_Brabham-Alfa Romeo",
                  "rawType": "float64",
                  "type": "float"
                },
                {
                  "name": "constructor_Brabham-BRM",
                  "rawType": "float64",
                  "type": "float"
                },
                {
                  "name": "constructor_Brabham-Climax",
                  "rawType": "float64",
                  "type": "float"
                },
                {
                  "name": "constructor_Brabham-Ford",
                  "rawType": "float64",
                  "type": "float"
                },
                {
                  "name": "constructor_Brabham-Repco",
                  "rawType": "float64",
                  "type": "float"
                },
                {
                  "name": "constructor_Brawn",
                  "rawType": "float64",
                  "type": "float"
                },
                {
                  "name": "constructor_Bromme",
                  "rawType": "float64",
                  "type": "float"
                },
                {
                  "name": "constructor_Caterham",
                  "rawType": "float64",
                  "type": "float"
                },
                {
                  "name": "constructor_Christensen",
                  "rawType": "float64",
                  "type": "float"
                },
                {
                  "name": "constructor_Cisitalia",
                  "rawType": "float64",
                  "type": "float"
                },
                {
                  "name": "constructor_Coloni",
                  "rawType": "float64",
                  "type": "float"
                },
                {
                  "name": "constructor_Connaught",
                  "rawType": "float64",
                  "type": "float"
                },
                {
                  "name": "constructor_Cooper",
                  "rawType": "float64",
                  "type": "float"
                },
                {
                  "name": "constructor_Cooper-BRM",
                  "rawType": "float64",
                  "type": "float"
                },
                {
                  "name": "constructor_Cooper-Borgward",
                  "rawType": "float64",
                  "type": "float"
                },
                {
                  "name": "constructor_Cooper-Castellotti",
                  "rawType": "float64",
                  "type": "float"
                },
                {
                  "name": "constructor_Cooper-Climax",
                  "rawType": "float64",
                  "type": "float"
                },
                {
                  "name": "constructor_Cooper-Ferrari",
                  "rawType": "float64",
                  "type": "float"
                },
                {
                  "name": "constructor_Cooper-Maserati",
                  "rawType": "float64",
                  "type": "float"
                },
                {
                  "name": "constructor_Dallara",
                  "rawType": "float64",
                  "type": "float"
                },
                {
                  "name": "constructor_De Tomaso",
                  "rawType": "float64",
                  "type": "float"
                },
                {
                  "name": "constructor_De Tomaso-Alfa Romeo",
                  "rawType": "float64",
                  "type": "float"
                },
                {
                  "name": "constructor_De Tomaso-Osca",
                  "rawType": "float64",
                  "type": "float"
                },
                {
                  "name": "constructor_Deidt",
                  "rawType": "float64",
                  "type": "float"
                },
                {
                  "name": "constructor_ENB",
                  "rawType": "float64",
                  "type": "float"
                },
                {
                  "name": "constructor_ERA",
                  "rawType": "float64",
                  "type": "float"
                },
                {
                  "name": "constructor_Eagle-Climax",
                  "rawType": "float64",
                  "type": "float"
                },
                {
                  "name": "constructor_Eagle-Weslake",
                  "rawType": "float64",
                  "type": "float"
                },
                {
                  "name": "constructor_Embassy Hill",
                  "rawType": "float64",
                  "type": "float"
                },
                {
                  "name": "constructor_Emeryson",
                  "rawType": "float64",
                  "type": "float"
                },
                {
                  "name": "constructor_Ensign",
                  "rawType": "float64",
                  "type": "float"
                },
                {
                  "name": "constructor_Epperly",
                  "rawType": "float64",
                  "type": "float"
                },
                {
                  "name": "constructor_Euro Brun",
                  "rawType": "float64",
                  "type": "float"
                },
                {
                  "name": "constructor_Ferrari",
                  "rawType": "float64",
                  "type": "float"
                },
                {
                  "name": "constructor_Fittipaldi",
                  "rawType": "float64",
                  "type": "float"
                },
                {
                  "name": "constructor_Fondmetal",
                  "rawType": "float64",
                  "type": "float"
                },
                {
                  "name": "constructor_Footwork",
                  "rawType": "float64",
                  "type": "float"
                },
                {
                  "name": "constructor_Force India",
                  "rawType": "float64",
                  "type": "float"
                },
                {
                  "name": "constructor_Forti",
                  "rawType": "float64",
                  "type": "float"
                },
                {
                  "name": "constructor_Fry",
                  "rawType": "float64",
                  "type": "float"
                },
                {
                  "name": "constructor_Gilby",
                  "rawType": "float64",
                  "type": "float"
                },
                {
                  "name": "constructor_Gordini",
                  "rawType": "float64",
                  "type": "float"
                },
                {
                  "name": "constructor_HRT",
                  "rawType": "float64",
                  "type": "float"
                },
                {
                  "name": "constructor_HWM",
                  "rawType": "float64",
                  "type": "float"
                },
                {
                  "name": "constructor_Haas F1 Team",
                  "rawType": "float64",
                  "type": "float"
                },
                {
                  "name": "constructor_Hesketh",
                  "rawType": "float64",
                  "type": "float"
                },
                {
                  "name": "constructor_Honda",
                  "rawType": "float64",
                  "type": "float"
                },
                {
                  "name": "constructor_Iso Marlboro",
                  "rawType": "float64",
                  "type": "float"
                },
                {
                  "name": "constructor_JBW",
                  "rawType": "float64",
                  "type": "float"
                },
                {
                  "name": "constructor_Jaguar",
                  "rawType": "float64",
                  "type": "float"
                },
                {
                  "name": "constructor_Jordan",
                  "rawType": "float64",
                  "type": "float"
                },
                {
                  "name": "constructor_Kurtis Kraft",
                  "rawType": "float64",
                  "type": "float"
                },
                {
                  "name": "constructor_Kuzma",
                  "rawType": "float64",
                  "type": "float"
                },
                {
                  "name": "constructor_LDS",
                  "rawType": "float64",
                  "type": "float"
                },
                {
                  "name": "constructor_LDS-Alfa Romeo",
                  "rawType": "float64",
                  "type": "float"
                },
                {
                  "name": "constructor_LDS-Climax",
                  "rawType": "float64",
                  "type": "float"
                },
                {
                  "name": "constructor_LEC",
                  "rawType": "float64",
                  "type": "float"
                },
                {
                  "name": "constructor_Lambo",
                  "rawType": "float64",
                  "type": "float"
                },
                {
                  "name": "constructor_Lancia",
                  "rawType": "float64",
                  "type": "float"
                },
                {
                  "name": "constructor_Larrousse",
                  "rawType": "float64",
                  "type": "float"
                },
                {
                  "name": "constructor_Lesovsky",
                  "rawType": "float64",
                  "type": "float"
                },
                {
                  "name": "constructor_Leyton House",
                  "rawType": "float64",
                  "type": "float"
                },
                {
                  "name": "constructor_Life",
                  "rawType": "float64",
                  "type": "float"
                },
                {
                  "name": "constructor_Ligier",
                  "rawType": "float64",
                  "type": "float"
                },
                {
                  "name": "constructor_Lola",
                  "rawType": "float64",
                  "type": "float"
                },
                {
                  "name": "constructor_Lotus",
                  "rawType": "float64",
                  "type": "float"
                },
                {
                  "name": "constructor_Lotus F1",
                  "rawType": "float64",
                  "type": "float"
                },
                {
                  "name": "constructor_Lotus-BRM",
                  "rawType": "float64",
                  "type": "float"
                },
                {
                  "name": "constructor_Lotus-Climax",
                  "rawType": "float64",
                  "type": "float"
                },
                {
                  "name": "constructor_Lotus-Ford",
                  "rawType": "float64",
                  "type": "float"
                },
                {
                  "name": "constructor_Lotus-Maserati",
                  "rawType": "float64",
                  "type": "float"
                },
                {
                  "name": "constructor_Lyncar",
                  "rawType": "float64",
                  "type": "float"
                },
                {
                  "name": "constructor_MF1",
                  "rawType": "float64",
                  "type": "float"
                },
                {
                  "name": "constructor_Maki",
                  "rawType": "float64",
                  "type": "float"
                },
                {
                  "name": "constructor_Manor Marussia",
                  "rawType": "float64",
                  "type": "float"
                },
                {
                  "name": "constructor_March",
                  "rawType": "float64",
                  "type": "float"
                },
                {
                  "name": "constructor_March-Alfa Romeo",
                  "rawType": "float64",
                  "type": "float"
                },
                {
                  "name": "constructor_March-Ford",
                  "rawType": "float64",
                  "type": "float"
                },
                {
                  "name": "constructor_Marchese",
                  "rawType": "float64",
                  "type": "float"
                },
                {
                  "name": "constructor_Martini",
                  "rawType": "float64",
                  "type": "float"
                },
                {
                  "name": "constructor_Marussia",
                  "rawType": "float64",
                  "type": "float"
                },
                {
                  "name": "constructor_Maserati",
                  "rawType": "float64",
                  "type": "float"
                },
                {
                  "name": "constructor_Matra",
                  "rawType": "float64",
                  "type": "float"
                },
                {
                  "name": "constructor_Matra-Ford",
                  "rawType": "float64",
                  "type": "float"
                },
                {
                  "name": "constructor_McLaren",
                  "rawType": "float64",
                  "type": "float"
                },
                {
                  "name": "constructor_McLaren-Alfa Romeo",
                  "rawType": "float64",
                  "type": "float"
                },
                {
                  "name": "constructor_McLaren-BRM",
                  "rawType": "float64",
                  "type": "float"
                },
                {
                  "name": "constructor_McLaren-Ford",
                  "rawType": "float64",
                  "type": "float"
                },
                {
                  "name": "constructor_Mercedes",
                  "rawType": "float64",
                  "type": "float"
                },
                {
                  "name": "constructor_Merzario",
                  "rawType": "float64",
                  "type": "float"
                },
                {
                  "name": "constructor_Meskowski",
                  "rawType": "float64",
                  "type": "float"
                },
                {
                  "name": "constructor_Minardi",
                  "rawType": "float64",
                  "type": "float"
                },
                {
                  "name": "constructor_Moore",
                  "rawType": "float64",
                  "type": "float"
                },
                {
                  "name": "constructor_Nichels",
                  "rawType": "float64",
                  "type": "float"
                },
                {
                  "name": "constructor_OSCA",
                  "rawType": "float64",
                  "type": "float"
                },
                {
                  "name": "constructor_Onyx",
                  "rawType": "float64",
                  "type": "float"
                },
                {
                  "name": "constructor_Osella",
                  "rawType": "float64",
                  "type": "float"
                },
                {
                  "name": "constructor_Pacific",
                  "rawType": "float64",
                  "type": "float"
                },
                {
                  "name": "constructor_Pankratz",
                  "rawType": "float64",
                  "type": "float"
                },
                {
                  "name": "constructor_Parnelli",
                  "rawType": "float64",
                  "type": "float"
                },
                {
                  "name": "constructor_Pawl",
                  "rawType": "float64",
                  "type": "float"
                },
                {
                  "name": "constructor_Penske",
                  "rawType": "float64",
                  "type": "float"
                },
                {
                  "name": "constructor_Phillips",
                  "rawType": "float64",
                  "type": "float"
                },
                {
                  "name": "constructor_Porsche",
                  "rawType": "float64",
                  "type": "float"
                },
                {
                  "name": "constructor_Prost",
                  "rawType": "float64",
                  "type": "float"
                },
                {
                  "name": "constructor_Protos",
                  "rawType": "float64",
                  "type": "float"
                },
                {
                  "name": "constructor_RAM",
                  "rawType": "float64",
                  "type": "float"
                },
                {
                  "name": "constructor_RB F1 Team",
                  "rawType": "float64",
                  "type": "float"
                },
                {
                  "name": "constructor_Racing Point",
                  "rawType": "float64",
                  "type": "float"
                },
                {
                  "name": "constructor_Red Bull",
                  "rawType": "float64",
                  "type": "float"
                },
                {
                  "name": "constructor_Renault",
                  "rawType": "float64",
                  "type": "float"
                },
                {
                  "name": "constructor_Rial",
                  "rawType": "float64",
                  "type": "float"
                },
                {
                  "name": "constructor_Sauber",
                  "rawType": "float64",
                  "type": "float"
                },
                {
                  "name": "constructor_Scarab",
                  "rawType": "float64",
                  "type": "float"
                },
                {
                  "name": "constructor_Schroeder",
                  "rawType": "float64",
                  "type": "float"
                },
                {
                  "name": "constructor_Scirocco",
                  "rawType": "float64",
                  "type": "float"
                },
                {
                  "name": "constructor_Shadow",
                  "rawType": "float64",
                  "type": "float"
                },
                {
                  "name": "constructor_Shadow-Ford",
                  "rawType": "float64",
                  "type": "float"
                },
                {
                  "name": "constructor_Sherman",
                  "rawType": "float64",
                  "type": "float"
                },
                {
                  "name": "constructor_Simca",
                  "rawType": "float64",
                  "type": "float"
                },
                {
                  "name": "constructor_Simtek",
                  "rawType": "float64",
                  "type": "float"
                },
                {
                  "name": "constructor_Snowberger",
                  "rawType": "float64",
                  "type": "float"
                },
                {
                  "name": "constructor_Spirit",
                  "rawType": "float64",
                  "type": "float"
                },
                {
                  "name": "constructor_Spyker",
                  "rawType": "float64",
                  "type": "float"
                },
                {
                  "name": "constructor_Spyker MF1",
                  "rawType": "float64",
                  "type": "float"
                },
                {
                  "name": "constructor_Stebro",
                  "rawType": "float64",
                  "type": "float"
                },
                {
                  "name": "constructor_Stevens",
                  "rawType": "float64",
                  "type": "float"
                },
                {
                  "name": "constructor_Stewart",
                  "rawType": "float64",
                  "type": "float"
                },
                {
                  "name": "constructor_Super Aguri",
                  "rawType": "float64",
                  "type": "float"
                },
                {
                  "name": "constructor_Surtees",
                  "rawType": "float64",
                  "type": "float"
                },
                {
                  "name": "constructor_Talbot-Lago",
                  "rawType": "float64",
                  "type": "float"
                },
                {
                  "name": "constructor_Team Lotus",
                  "rawType": "float64",
                  "type": "float"
                },
                {
                  "name": "constructor_Tecno",
                  "rawType": "float64",
                  "type": "float"
                },
                {
                  "name": "constructor_Theodore",
                  "rawType": "float64",
                  "type": "float"
                },
                {
                  "name": "constructor_Token",
                  "rawType": "float64",
                  "type": "float"
                },
                {
                  "name": "constructor_Toleman",
                  "rawType": "float64",
                  "type": "float"
                },
                {
                  "name": "constructor_Toro Rosso",
                  "rawType": "float64",
                  "type": "float"
                },
                {
                  "name": "constructor_Toyota",
                  "rawType": "float64",
                  "type": "float"
                },
                {
                  "name": "constructor_Trevis",
                  "rawType": "float64",
                  "type": "float"
                },
                {
                  "name": "constructor_Trojan",
                  "rawType": "float64",
                  "type": "float"
                },
                {
                  "name": "constructor_Tyrrell",
                  "rawType": "float64",
                  "type": "float"
                },
                {
                  "name": "constructor_Vanwall",
                  "rawType": "float64",
                  "type": "float"
                },
                {
                  "name": "constructor_Veritas",
                  "rawType": "float64",
                  "type": "float"
                },
                {
                  "name": "constructor_Virgin",
                  "rawType": "float64",
                  "type": "float"
                },
                {
                  "name": "constructor_Watson",
                  "rawType": "float64",
                  "type": "float"
                },
                {
                  "name": "constructor_Williams",
                  "rawType": "float64",
                  "type": "float"
                },
                {
                  "name": "constructor_Wolf",
                  "rawType": "float64",
                  "type": "float"
                },
                {
                  "name": "constructor_Zakspeed",
                  "rawType": "float64",
                  "type": "float"
                },
                {
                  "name": "driver_name_Adrian Sutil",
                  "rawType": "float64",
                  "type": "float"
                },
                {
                  "name": "driver_name_Adrián Campos",
                  "rawType": "float64",
                  "type": "float"
                },
                {
                  "name": "driver_name_Aguri Suzuki",
                  "rawType": "float64",
                  "type": "float"
                },
                {
                  "name": "driver_name_Al Herman",
                  "rawType": "float64",
                  "type": "float"
                },
                {
                  "name": "driver_name_Al Keller",
                  "rawType": "float64",
                  "type": "float"
                },
                {
                  "name": "driver_name_Al Pease",
                  "rawType": "float64",
                  "type": "float"
                },
                {
                  "name": "driver_name_Alain Prost",
                  "rawType": "float64",
                  "type": "float"
                },
                {
                  "name": "driver_name_Alan Brown",
                  "rawType": "float64",
                  "type": "float"
                },
                {
                  "name": "driver_name_Alan Jones",
                  "rawType": "float64",
                  "type": "float"
                },
                {
                  "name": "driver_name_Alan Stacey",
                  "rawType": "float64",
                  "type": "float"
                },
                {
                  "name": "driver_name_Alberto Ascari",
                  "rawType": "float64",
                  "type": "float"
                },
                {
                  "name": "driver_name_Alberto Colombo",
                  "rawType": "float64",
                  "type": "float"
                },
                {
                  "name": "driver_name_Alessandro Nannini",
                  "rawType": "float64",
                  "type": "float"
                },
                {
                  "name": "driver_name_Alessandro Pesenti-Rossi",
                  "rawType": "float64",
                  "type": "float"
                },
                {
                  "name": "driver_name_Alessandro Zanardi",
                  "rawType": "float64",
                  "type": "float"
                },
                {
                  "name": "driver_name_Alex Caffi",
                  "rawType": "float64",
                  "type": "float"
                },
                {
                  "name": "driver_name_Alex Ribeiro",
                  "rawType": "float64",
                  "type": "float"
                },
                {
                  "name": "driver_name_Alex Soler-Roig",
                  "rawType": "float64",
                  "type": "float"
                },
                {
                  "name": "driver_name_Alex Yoong",
                  "rawType": "float64",
                  "type": "float"
                },
                {
                  "name": "driver_name_Alexander Albon",
                  "rawType": "float64",
                  "type": "float"
                },
                {
                  "name": "driver_name_Alexander Rossi",
                  "rawType": "float64",
                  "type": "float"
                },
                {
                  "name": "driver_name_Alexander Wurz",
                  "rawType": "float64",
                  "type": "float"
                },
                {
                  "name": "driver_name_Alfonso de Portago",
                  "rawType": "float64",
                  "type": "float"
                },
                {
                  "name": "driver_name_Allan McNish",
                  "rawType": "float64",
                  "type": "float"
                },
                {
                  "name": "driver_name_Allen Berg",
                  "rawType": "float64",
                  "type": "float"
                },
                {
                  "name": "driver_name_Andrea Chiesa",
                  "rawType": "float64",
                  "type": "float"
                },
                {
                  "name": "driver_name_Andrea Montermini",
                  "rawType": "float64",
                  "type": "float"
                },
                {
                  "name": "driver_name_Andrea de Adamich",
                  "rawType": "float64",
                  "type": "float"
                },
                {
                  "name": "driver_name_Andrea de Cesaris",
                  "rawType": "float64",
                  "type": "float"
                },
                {
                  "name": "driver_name_André Lotterer",
                  "rawType": "float64",
                  "type": "float"
                },
                {
                  "name": "driver_name_André Pilette",
                  "rawType": "float64",
                  "type": "float"
                },
                {
                  "name": "driver_name_André Simon",
                  "rawType": "float64",
                  "type": "float"
                },
                {
                  "name": "driver_name_Andy Linden",
                  "rawType": "float64",
                  "type": "float"
                },
                {
                  "name": "driver_name_Anthony Davidson",
                  "rawType": "float64",
                  "type": "float"
                },
                {
                  "name": "driver_name_Anthony Foyt",
                  "rawType": "float64",
                  "type": "float"
                },
                {
                  "name": "driver_name_Antonio Giovinazzi",
                  "rawType": "float64",
                  "type": "float"
                },
                {
                  "name": "driver_name_Antônio Pizzonia",
                  "rawType": "float64",
                  "type": "float"
                },
                {
                  "name": "driver_name_Arthur Legat",
                  "rawType": "float64",
                  "type": "float"
                },
                {
                  "name": "driver_name_Arthur Owen",
                  "rawType": "float64",
                  "type": "float"
                },
                {
                  "name": "driver_name_Arturo Merzario",
                  "rawType": "float64",
                  "type": "float"
                },
                {
                  "name": "driver_name_Ayrton Senna",
                  "rawType": "float64",
                  "type": "float"
                },
                {
                  "name": "driver_name_Azdrubal Fontes",
                  "rawType": "float64",
                  "type": "float"
                },
                {
                  "name": "driver_name_Basil van Rooyen",
                  "rawType": "float64",
                  "type": "float"
                },
                {
                  "name": "driver_name_Beppe Gabbiani",
                  "rawType": "float64",
                  "type": "float"
                },
                {
                  "name": "driver_name_Bernard Collomb",
                  "rawType": "float64",
                  "type": "float"
                },
                {
                  "name": "driver_name_Bernd Schneider",
                  "rawType": "float64",
                  "type": "float"
                },
                {
                  "name": "driver_name_Bertrand Gachot",
                  "rawType": "float64",
                  "type": "float"
                },
                {
                  "name": "driver_name_Bill Brack",
                  "rawType": "float64",
                  "type": "float"
                },
                {
                  "name": "driver_name_Bill Cantrell",
                  "rawType": "float64",
                  "type": "float"
                },
                {
                  "name": "driver_name_Bill Cheesbourg",
                  "rawType": "float64",
                  "type": "float"
                },
                {
                  "name": "driver_name_Bill Holland",
                  "rawType": "float64",
                  "type": "float"
                },
                {
                  "name": "driver_name_Bill Homeier",
                  "rawType": "float64",
                  "type": "float"
                },
                {
                  "name": "driver_name_Bill Schindler",
                  "rawType": "float64",
                  "type": "float"
                },
                {
                  "name": "driver_name_Billy Garrett",
                  "rawType": "float64",
                  "type": "float"
                },
                {
                  "name": "driver_name_Bob Anderson",
                  "rawType": "float64",
                  "type": "float"
                },
                {
                  "name": "driver_name_Bob Bondurant",
                  "rawType": "float64",
                  "type": "float"
                },
                {
                  "name": "driver_name_Bob Evans",
                  "rawType": "float64",
                  "type": "float"
                },
                {
                  "name": "driver_name_Bob Gerard",
                  "rawType": "float64",
                  "type": "float"
                },
                {
                  "name": "driver_name_Bob Scott",
                  "rawType": "float64",
                  "type": "float"
                },
                {
                  "name": "driver_name_Bob Sweikert",
                  "rawType": "float64",
                  "type": "float"
                },
                {
                  "name": "driver_name_Bob Veith",
                  "rawType": "float64",
                  "type": "float"
                },
                {
                  "name": "driver_name_Bobby Ball",
                  "rawType": "float64",
                  "type": "float"
                },
                {
                  "name": "driver_name_Bobby Grim",
                  "rawType": "float64",
                  "type": "float"
                },
                {
                  "name": "driver_name_Bobby Unser",
                  "rawType": "float64",
                  "type": "float"
                },
                {
                  "name": "driver_name_Brendon Hartley",
                  "rawType": "float64",
                  "type": "float"
                },
                {
                  "name": "driver_name_Brett Lunger",
                  "rawType": "float64",
                  "type": "float"
                },
                {
                  "name": "driver_name_Brian Hart",
                  "rawType": "float64",
                  "type": "float"
                },
                {
                  "name": "driver_name_Brian Henton",
                  "rawType": "float64",
                  "type": "float"
                },
                {
                  "name": "driver_name_Brian Naylor",
                  "rawType": "float64",
                  "type": "float"
                },
                {
                  "name": "driver_name_Brian Redman",
                  "rawType": "float64",
                  "type": "float"
                },
                {
                  "name": "driver_name_Brian Shawe Taylor",
                  "rawType": "float64",
                  "type": "float"
                },
                {
                  "name": "driver_name_Bruce Halford",
                  "rawType": "float64",
                  "type": "float"
                },
                {
                  "name": "driver_name_Bruce Johnstone",
                  "rawType": "float64",
                  "type": "float"
                },
                {
                  "name": "driver_name_Bruce McLaren",
                  "rawType": "float64",
                  "type": "float"
                },
                {
                  "name": "driver_name_Bruno Giacomelli",
                  "rawType": "float64",
                  "type": "float"
                },
                {
                  "name": "driver_name_Bruno Senna",
                  "rawType": "float64",
                  "type": "float"
                },
                {
                  "name": "driver_name_Cal Niday",
                  "rawType": "float64",
                  "type": "float"
                },
                {
                  "name": "driver_name_Carel Godin de Beaufort",
                  "rawType": "float64",
                  "type": "float"
                },
                {
                  "name": "driver_name_Carlos Menditeguy",
                  "rawType": "float64",
                  "type": "float"
                },
                {
                  "name": "driver_name_Carlos Pace",
                  "rawType": "float64",
                  "type": "float"
                },
                {
                  "name": "driver_name_Carlos Reutemann",
                  "rawType": "float64",
                  "type": "float"
                },
                {
                  "name": "driver_name_Carlos Sainz",
                  "rawType": "float64",
                  "type": "float"
                },
                {
                  "name": "driver_name_Carroll Shelby",
                  "rawType": "float64",
                  "type": "float"
                },
                {
                  "name": "driver_name_Cesare Perdisa",
                  "rawType": "float64",
                  "type": "float"
                },
                {
                  "name": "driver_name_Charles Leclerc",
                  "rawType": "float64",
                  "type": "float"
                },
                {
                  "name": "driver_name_Charles Pic",
                  "rawType": "float64",
                  "type": "float"
                },
                {
                  "name": "driver_name_Chet Miller",
                  "rawType": "float64",
                  "type": "float"
                },
                {
                  "name": "driver_name_Chico Serra",
                  "rawType": "float64",
                  "type": "float"
                },
                {
                  "name": "driver_name_Chris Amon",
                  "rawType": "float64",
                  "type": "float"
                },
                {
                  "name": "driver_name_Chris Bristow",
                  "rawType": "float64",
                  "type": "float"
                },
                {
                  "name": "driver_name_Chris Craft",
                  "rawType": "float64",
                  "type": "float"
                },
                {
                  "name": "driver_name_Chris Irwin",
                  "rawType": "float64",
                  "type": "float"
                },
                {
                  "name": "driver_name_Chris Lawrence",
                  "rawType": "float64",
                  "type": "float"
                },
                {
                  "name": "driver_name_Christian Danner",
                  "rawType": "float64",
                  "type": "float"
                },
                {
                  "name": "driver_name_Christian Fittipaldi",
                  "rawType": "float64",
                  "type": "float"
                },
                {
                  "name": "driver_name_Christian Klien",
                  "rawType": "float64",
                  "type": "float"
                },
                {
                  "name": "driver_name_Christijan Albers",
                  "rawType": "float64",
                  "type": "float"
                },
                {
                  "name": "driver_name_Chuck Daigh",
                  "rawType": "float64",
                  "type": "float"
                },
                {
                  "name": "driver_name_Chuck Stevenson",
                  "rawType": "float64",
                  "type": "float"
                },
                {
                  "name": "driver_name_Chuck Weyant",
                  "rawType": "float64",
                  "type": "float"
                },
                {
                  "name": "driver_name_Claudio Langes",
                  "rawType": "float64",
                  "type": "float"
                },
                {
                  "name": "driver_name_Clay Regazzoni",
                  "rawType": "float64",
                  "type": "float"
                },
                {
                  "name": "driver_name_Clemar Bucci",
                  "rawType": "float64",
                  "type": "float"
                },
                {
                  "name": "driver_name_Cliff Allison",
                  "rawType": "float64",
                  "type": "float"
                },
                {
                  "name": "driver_name_Cliff Griffith",
                  "rawType": "float64",
                  "type": "float"
                },
                {
                  "name": "driver_name_Clive Puzey",
                  "rawType": "float64",
                  "type": "float"
                },
                {
                  "name": "driver_name_Conny Andersson",
                  "rawType": "float64",
                  "type": "float"
                },
                {
                  "name": "driver_name_Consalvo Sanesi",
                  "rawType": "float64",
                  "type": "float"
                },
                {
                  "name": "driver_name_Corrado Fabi",
                  "rawType": "float64",
                  "type": "float"
                },
                {
                  "name": "driver_name_Cristiano da Matta",
                  "rawType": "float64",
                  "type": "float"
                },
                {
                  "name": "driver_name_Cuth Harrison",
                  "rawType": "float64",
                  "type": "float"
                },
                {
                  "name": "driver_name_Damien Magee",
                  "rawType": "float64",
                  "type": "float"
                },
                {
                  "name": "driver_name_Damon Hill",
                  "rawType": "float64",
                  "type": "float"
                },
                {
                  "name": "driver_name_Dan Gurney",
                  "rawType": "float64",
                  "type": "float"
                },
                {
                  "name": "driver_name_Daniel Ricciardo",
                  "rawType": "float64",
                  "type": "float"
                },
                {
                  "name": "driver_name_Daniil Kvyat",
                  "rawType": "float64",
                  "type": "float"
                },
                {
                  "name": "driver_name_Danny Kladis",
                  "rawType": "float64",
                  "type": "float"
                },
                {
                  "name": "driver_name_Danny Ongais",
                  "rawType": "float64",
                  "type": "float"
                },
                {
                  "name": "driver_name_Danny Sullivan",
                  "rawType": "float64",
                  "type": "float"
                },
                {
                  "name": "driver_name_Dave Charlton",
                  "rawType": "float64",
                  "type": "float"
                },
                {
                  "name": "driver_name_Dave Kennedy",
                  "rawType": "float64",
                  "type": "float"
                },
                {
                  "name": "driver_name_Dave Morgan",
                  "rawType": "float64",
                  "type": "float"
                },
                {
                  "name": "driver_name_David Brabham",
                  "rawType": "float64",
                  "type": "float"
                },
                {
                  "name": "driver_name_David Clapham",
                  "rawType": "float64",
                  "type": "float"
                },
                {
                  "name": "driver_name_David Coulthard",
                  "rawType": "float64",
                  "type": "float"
                },
                {
                  "name": "driver_name_David Hampshire",
                  "rawType": "float64",
                  "type": "float"
                },
                {
                  "name": "driver_name_David Hobbs",
                  "rawType": "float64",
                  "type": "float"
                },
                {
                  "name": "driver_name_David Murray",
                  "rawType": "float64",
                  "type": "float"
                },
                {
                  "name": "driver_name_David Purley",
                  "rawType": "float64",
                  "type": "float"
                },
                {
                  "name": "driver_name_David Walker",
                  "rawType": "float64",
                  "type": "float"
                },
                {
                  "name": "driver_name_Dempsey Wilson",
                  "rawType": "float64",
                  "type": "float"
                },
                {
                  "name": "driver_name_Denny Hulme",
                  "rawType": "float64",
                  "type": "float"
                },
                {
                  "name": "driver_name_Derek Bell",
                  "rawType": "float64",
                  "type": "float"
                },
                {
                  "name": "driver_name_Derek Daly",
                  "rawType": "float64",
                  "type": "float"
                },
                {
                  "name": "driver_name_Derek Warwick",
                  "rawType": "float64",
                  "type": "float"
                },
                {
                  "name": "driver_name_Dick Rathmann",
                  "rawType": "float64",
                  "type": "float"
                },
                {
                  "name": "driver_name_Didier Pironi",
                  "rawType": "float64",
                  "type": "float"
                },
                {
                  "name": "driver_name_Domenico Schiattarella",
                  "rawType": "float64",
                  "type": "float"
                },
                {
                  "name": "driver_name_Don Branson",
                  "rawType": "float64",
                  "type": "float"
                },
                {
                  "name": "driver_name_Don Freeland",
                  "rawType": "float64",
                  "type": "float"
                },
                {
                  "name": "driver_name_Doug Serrurier",
                  "rawType": "float64",
                  "type": "float"
                },
                {
                  "name": "driver_name_Dries van der Lof",
                  "rawType": "float64",
                  "type": "float"
                },
                {
                  "name": "driver_name_Duane Carter",
                  "rawType": "float64",
                  "type": "float"
                },
                {
                  "name": "driver_name_Duke Dinsmore",
                  "rawType": "float64",
                  "type": "float"
                },
                {
                  "name": "driver_name_Duke Nalon",
                  "rawType": "float64",
                  "type": "float"
                },
                {
                  "name": "driver_name_Duncan Hamilton",
                  "rawType": "float64",
                  "type": "float"
                },
                {
                  "name": "driver_name_Eddie Cheever",
                  "rawType": "float64",
                  "type": "float"
                },
                {
                  "name": "driver_name_Eddie Irvine",
                  "rawType": "float64",
                  "type": "float"
                },
                {
                  "name": "driver_name_Eddie Johnson",
                  "rawType": "float64",
                  "type": "float"
                },
                {
                  "name": "driver_name_Eddie Keizan",
                  "rawType": "float64",
                  "type": "float"
                },
                {
                  "name": "driver_name_Edgar Barth",
                  "rawType": "float64",
                  "type": "float"
                },
                {
                  "name": "driver_name_Elio de Angelis",
                  "rawType": "float64",
                  "type": "float"
                },
                {
                  "name": "driver_name_Eliseo Salazar",
                  "rawType": "float64",
                  "type": "float"
                },
                {
                  "name": "driver_name_Emanuele Naspetti",
                  "rawType": "float64",
                  "type": "float"
                },
                {
                  "name": "driver_name_Emanuele Pirro",
                  "rawType": "float64",
                  "type": "float"
                },
                {
                  "name": "driver_name_Emerson Fittipaldi",
                  "rawType": "float64",
                  "type": "float"
                },
                {
                  "name": "driver_name_Emilio de Villota",
                  "rawType": "float64",
                  "type": "float"
                },
                {
                  "name": "driver_name_Enrico Bertaggia",
                  "rawType": "float64",
                  "type": "float"
                },
                {
                  "name": "driver_name_Enrique Bernoldi",
                  "rawType": "float64",
                  "type": "float"
                },
                {
                  "name": "driver_name_Eppie Wietzes",
                  "rawType": "float64",
                  "type": "float"
                },
                {
                  "name": "driver_name_Eric Brandon",
                  "rawType": "float64",
                  "type": "float"
                },
                {
                  "name": "driver_name_Eric van de Poele",
                  "rawType": "float64",
                  "type": "float"
                },
                {
                  "name": "driver_name_Ernesto Brambilla",
                  "rawType": "float64",
                  "type": "float"
                },
                {
                  "name": "driver_name_Ernie McCoy",
                  "rawType": "float64",
                  "type": "float"
                },
                {
                  "name": "driver_name_Ernie Pieterse",
                  "rawType": "float64",
                  "type": "float"
                },
                {
                  "name": "driver_name_Ernie de Vos",
                  "rawType": "float64",
                  "type": "float"
                },
                {
                  "name": "driver_name_Esteban Gutiérrez",
                  "rawType": "float64",
                  "type": "float"
                },
                {
                  "name": "driver_name_Esteban Ocon",
                  "rawType": "float64",
                  "type": "float"
                },
                {
                  "name": "driver_name_Esteban Tuero",
                  "rawType": "float64",
                  "type": "float"
                },
                {
                  "name": "driver_name_Eugenio Castellotti",
                  "rawType": "float64",
                  "type": "float"
                },
                {
                  "name": "driver_name_Eugène Martin",
                  "rawType": "float64",
                  "type": "float"
                },
                {
                  "name": "driver_name_Fabrizio Barbazza",
                  "rawType": "float64",
                  "type": "float"
                },
                {
                  "name": "driver_name_Felice Bonetto",
                  "rawType": "float64",
                  "type": "float"
                },
                {
                  "name": "driver_name_Felipe Massa",
                  "rawType": "float64",
                  "type": "float"
                },
                {
                  "name": "driver_name_Felipe Nasr",
                  "rawType": "float64",
                  "type": "float"
                },
                {
                  "name": "driver_name_Fernando Alonso",
                  "rawType": "float64",
                  "type": "float"
                },
                {
                  "name": "driver_name_Franck Lagorce",
                  "rawType": "float64",
                  "type": "float"
                },
                {
                  "name": "driver_name_Franco Colapinto",
                  "rawType": "float64",
                  "type": "float"
                },
                {
                  "name": "driver_name_Franco Rol",
                  "rawType": "float64",
                  "type": "float"
                },
                {
                  "name": "driver_name_Frank Dochnal",
                  "rawType": "float64",
                  "type": "float"
                },
                {
                  "name": "driver_name_Frank Gardner",
                  "rawType": "float64",
                  "type": "float"
                },
                {
                  "name": "driver_name_François Cevert",
                  "rawType": "float64",
                  "type": "float"
                },
                {
                  "name": "driver_name_François Hesnault",
                  "rawType": "float64",
                  "type": "float"
                },
                {
                  "name": "driver_name_François Migault",
                  "rawType": "float64",
                  "type": "float"
                },
                {
                  "name": "driver_name_François Picard",
                  "rawType": "float64",
                  "type": "float"
                },
                {
                  "name": "driver_name_Fred Agabashian",
                  "rawType": "float64",
                  "type": "float"
                },
                {
                  "name": "driver_name_Fred Gamble",
                  "rawType": "float64",
                  "type": "float"
                },
                {
                  "name": "driver_name_Fred Wacker",
                  "rawType": "float64",
                  "type": "float"
                },
                {
                  "name": "driver_name_Gabriele Tarquini",
                  "rawType": "float64",
                  "type": "float"
                },
                {
                  "name": "driver_name_Gaetano Starrabba",
                  "rawType": "float64",
                  "type": "float"
                },
                {
                  "name": "driver_name_Gastón Mazzacane",
                  "rawType": "float64",
                  "type": "float"
                },
                {
                  "name": "driver_name_Gene Hartley",
                  "rawType": "float64",
                  "type": "float"
                },
                {
                  "name": "driver_name_Geoff Lees",
                  "rawType": "float64",
                  "type": "float"
                },
                {
                  "name": "driver_name_George Abecassis",
                  "rawType": "float64",
                  "type": "float"
                },
                {
                  "name": "driver_name_George Connor",
                  "rawType": "float64",
                  "type": "float"
                },
                {
                  "name": "driver_name_George Constantine",
                  "rawType": "float64",
                  "type": "float"
                },
                {
                  "name": "driver_name_George Eaton",
                  "rawType": "float64",
                  "type": "float"
                },
                {
                  "name": "driver_name_George Follmer",
                  "rawType": "float64",
                  "type": "float"
                },
                {
                  "name": "driver_name_George Fonder",
                  "rawType": "float64",
                  "type": "float"
                },
                {
                  "name": "driver_name_George Russell",
                  "rawType": "float64",
                  "type": "float"
                },
                {
                  "name": "driver_name_Gerhard Berger",
                  "rawType": "float64",
                  "type": "float"
                },
                {
                  "name": "driver_name_Gerhard Mitter",
                  "rawType": "float64",
                  "type": "float"
                },
                {
                  "name": "driver_name_Gerino Gerini",
                  "rawType": "float64",
                  "type": "float"
                },
                {
                  "name": "driver_name_Gerry Ashmore",
                  "rawType": "float64",
                  "type": "float"
                },
                {
                  "name": "driver_name_Giancarlo Baghetti",
                  "rawType": "float64",
                  "type": "float"
                },
                {
                  "name": "driver_name_Giancarlo Fisichella",
                  "rawType": "float64",
                  "type": "float"
                },
                {
                  "name": "driver_name_Gianmaria Bruni",
                  "rawType": "float64",
                  "type": "float"
                },
                {
                  "name": "driver_name_Gianni Morbidelli",
                  "rawType": "float64",
                  "type": "float"
                },
                {
                  "name": "driver_name_Giedo van der Garde",
                  "rawType": "float64",
                  "type": "float"
                },
                {
                  "name": "driver_name_Gijs van Lennep",
                  "rawType": "float64",
                  "type": "float"
                },
                {
                  "name": "driver_name_Gilles Villeneuve",
                  "rawType": "float64",
                  "type": "float"
                },
                {
                  "name": "driver_name_Gino Bianco",
                  "rawType": "float64",
                  "type": "float"
                },
                {
                  "name": "driver_name_Gino Munaron",
                  "rawType": "float64",
                  "type": "float"
                },
                {
                  "name": "driver_name_Giorgio Pantano",
                  "rawType": "float64",
                  "type": "float"
                },
                {
                  "name": "driver_name_Giorgio Scarlatti",
                  "rawType": "float64",
                  "type": "float"
                },
                {
                  "name": "driver_name_Giovanna Amati",
                  "rawType": "float64",
                  "type": "float"
                },
                {
                  "name": "driver_name_Giovanni Lavaggi",
                  "rawType": "float64",
                  "type": "float"
                },
                {
                  "name": "driver_name_Graham Hill",
                  "rawType": "float64",
                  "type": "float"
                },
                {
                  "name": "driver_name_Gregor Foitek",
                  "rawType": "float64",
                  "type": "float"
                },
                {
                  "name": "driver_name_Guanyu Zhou",
                  "rawType": "float64",
                  "type": "float"
                },
                {
                  "name": "driver_name_Gunnar Nilsson",
                  "rawType": "float64",
                  "type": "float"
                },
                {
                  "name": "driver_name_Guy Edwards",
                  "rawType": "float64",
                  "type": "float"
                },
                {
                  "name": "driver_name_Guy Ligier",
                  "rawType": "float64",
                  "type": "float"
                },
                {
                  "name": "driver_name_Gérard Larrousse",
                  "rawType": "float64",
                  "type": "float"
                },
                {
                  "name": "driver_name_Günther Bechem",
                  "rawType": "float64",
                  "type": "float"
                },
                {
                  "name": "driver_name_Günther Seiffert",
                  "rawType": "float64",
                  "type": "float"
                },
                {
                  "name": "driver_name_Hans Binder",
                  "rawType": "float64",
                  "type": "float"
                },
                {
                  "name": "driver_name_Hans Herrmann",
                  "rawType": "float64",
                  "type": "float"
                },
                {
                  "name": "driver_name_Hans Klenk",
                  "rawType": "float64",
                  "type": "float"
                },
                {
                  "name": "driver_name_Hans von Stuck",
                  "rawType": "float64",
                  "type": "float"
                },
                {
                  "name": "driver_name_Hans-Joachim Stuck",
                  "rawType": "float64",
                  "type": "float"
                },
                {
                  "name": "driver_name_Hap Sharp",
                  "rawType": "float64",
                  "type": "float"
                },
                {
                  "name": "driver_name_Harald Ertl",
                  "rawType": "float64",
                  "type": "float"
                },
                {
                  "name": "driver_name_Harry Blanchard",
                  "rawType": "float64",
                  "type": "float"
                },
                {
                  "name": "driver_name_Harry Schell",
                  "rawType": "float64",
                  "type": "float"
                },
                {
                  "name": "driver_name_Hector Rebaque",
                  "rawType": "float64",
                  "type": "float"
                },
                {
                  "name": "driver_name_Heikki Kovalainen",
                  "rawType": "float64",
                  "type": "float"
                },
                {
                  "name": "driver_name_Heini Walter",
                  "rawType": "float64",
                  "type": "float"
                },
                {
                  "name": "driver_name_Heinz-Harald Frentzen",
                  "rawType": "float64",
                  "type": "float"
                },
                {
                  "name": "driver_name_Helmut Marko",
                  "rawType": "float64",
                  "type": "float"
                },
                {
                  "name": "driver_name_Henri Pescarolo",
                  "rawType": "float64",
                  "type": "float"
                },
                {
                  "name": "driver_name_Henry Taylor",
                  "rawType": "float64",
                  "type": "float"
                },
                {
                  "name": "driver_name_Herbert MacKay-Fraser",
                  "rawType": "float64",
                  "type": "float"
                },
                {
                  "name": "driver_name_Hermann Lang",
                  "rawType": "float64",
                  "type": "float"
                },
                {
                  "name": "driver_name_Hernando da Silva Ramos",
                  "rawType": "float64",
                  "type": "float"
                },
                {
                  "name": "driver_name_Hideki Noda",
                  "rawType": "float64",
                  "type": "float"
                },
                {
                  "name": "driver_name_Horace Gould",
                  "rawType": "float64",
                  "type": "float"
                },
                {
                  "name": "driver_name_Howden Ganley",
                  "rawType": "float64",
                  "type": "float"
                },
                {
                  "name": "driver_name_Hubert Hahne",
                  "rawType": "float64",
                  "type": "float"
                },
                {
                  "name": "driver_name_Huub Rothengatter",
                  "rawType": "float64",
                  "type": "float"
                },
                {
                  "name": "driver_name_Ian Burgess",
                  "rawType": "float64",
                  "type": "float"
                },
                {
                  "name": "driver_name_Ian Raby",
                  "rawType": "float64",
                  "type": "float"
                },
                {
                  "name": "driver_name_Ian Scheckter",
                  "rawType": "float64",
                  "type": "float"
                },
                {
                  "name": "driver_name_Ingo Hoffmann",
                  "rawType": "float64",
                  "type": "float"
                },
                {
                  "name": "driver_name_Innes Ireland",
                  "rawType": "float64",
                  "type": "float"
                },
                {
                  "name": "driver_name_Ivan Capelli",
                  "rawType": "float64",
                  "type": "float"
                },
                {
                  "name": "driver_name_Ivor Bueb",
                  "rawType": "float64",
                  "type": "float"
                },
                {
                  "name": "driver_name_Jack Brabham",
                  "rawType": "float64",
                  "type": "float"
                },
                {
                  "name": "driver_name_Jack Fairman",
                  "rawType": "float64",
                  "type": "float"
                },
                {
                  "name": "driver_name_Jack McGrath",
                  "rawType": "float64",
                  "type": "float"
                },
                {
                  "name": "driver_name_Jack Turner",
                  "rawType": "float64",
                  "type": "float"
                },
                {
                  "name": "driver_name_Jackie Lewis",
                  "rawType": "float64",
                  "type": "float"
                },
                {
                  "name": "driver_name_Jackie Oliver",
                  "rawType": "float64",
                  "type": "float"
                },
                {
                  "name": "driver_name_Jackie Pretorius",
                  "rawType": "float64",
                  "type": "float"
                },
                {
                  "name": "driver_name_Jackie Stewart",
                  "rawType": "float64",
                  "type": "float"
                },
                {
                  "name": "driver_name_Jacky Ickx",
                  "rawType": "float64",
                  "type": "float"
                },
                {
                  "name": "driver_name_Jacques Laffite",
                  "rawType": "float64",
                  "type": "float"
                },
                {
                  "name": "driver_name_Jacques Pollet",
                  "rawType": "float64",
                  "type": "float"
                },
                {
                  "name": "driver_name_Jacques Swaters",
                  "rawType": "float64",
                  "type": "float"
                },
                {
                  "name": "driver_name_Jacques Villeneuve",
                  "rawType": "float64",
                  "type": "float"
                },
                {
                  "name": "driver_name_Jaime Alguersuari",
                  "rawType": "float64",
                  "type": "float"
                },
                {
                  "name": "driver_name_James Hunt",
                  "rawType": "float64",
                  "type": "float"
                },
                {
                  "name": "driver_name_Jan Flinterman",
                  "rawType": "float64",
                  "type": "float"
                },
                {
                  "name": "driver_name_Jan Lammers",
                  "rawType": "float64",
                  "type": "float"
                },
                {
                  "name": "driver_name_Jan Magnussen",
                  "rawType": "float64",
                  "type": "float"
                },
                {
                  "name": "driver_name_Jarno Trulli",
                  "rawType": "float64",
                  "type": "float"
                },
                {
                  "name": "driver_name_Jay Chamberlain",
                  "rawType": "float64",
                  "type": "float"
                },
                {
                  "name": "driver_name_Jean Alesi",
                  "rawType": "float64",
                  "type": "float"
                },
                {
                  "name": "driver_name_Jean Behra",
                  "rawType": "float64",
                  "type": "float"
                },
                {
                  "name": "driver_name_Jean Lucienbonnet",
                  "rawType": "float64",
                  "type": "float"
                },
                {
                  "name": "driver_name_Jean-Christophe Boullion",
                  "rawType": "float64",
                  "type": "float"
                },
                {
                  "name": "driver_name_Jean-Denis Délétraz",
                  "rawType": "float64",
                  "type": "float"
                },
                {
                  "name": "driver_name_Jean-Louis Schlesser",
                  "rawType": "float64",
                  "type": "float"
                },
                {
                  "name": "driver_name_Jean-Marc Gounon",
                  "rawType": "float64",
                  "type": "float"
                },
                {
                  "name": "driver_name_Jean-Pierre Beltoise",
                  "rawType": "float64",
                  "type": "float"
                },
                {
                  "name": "driver_name_Jean-Pierre Jabouille",
                  "rawType": "float64",
                  "type": "float"
                },
                {
                  "name": "driver_name_Jean-Pierre Jarier",
                  "rawType": "float64",
                  "type": "float"
                },
                {
                  "name": "driver_name_Jean-Éric Vergne",
                  "rawType": "float64",
                  "type": "float"
                },
                {
                  "name": "driver_name_Jenson Button",
                  "rawType": "float64",
                  "type": "float"
                },
                {
                  "name": "driver_name_Jerry Hoyt",
                  "rawType": "float64",
                  "type": "float"
                },
                {
                  "name": "driver_name_Jesús Iglesias",
                  "rawType": "float64",
                  "type": "float"
                },
                {
                  "name": "driver_name_Jim Clark",
                  "rawType": "float64",
                  "type": "float"
                },
                {
                  "name": "driver_name_Jim Crawford",
                  "rawType": "float64",
                  "type": "float"
                },
                {
                  "name": "driver_name_Jim Hall",
                  "rawType": "float64",
                  "type": "float"
                },
                {
                  "name": "driver_name_Jim McWithey",
                  "rawType": "float64",
                  "type": "float"
                },
                {
                  "name": "driver_name_Jim Rathmann",
                  "rawType": "float64",
                  "type": "float"
                },
                {
                  "name": "driver_name_Jimmy Bryan",
                  "rawType": "float64",
                  "type": "float"
                },
                {
                  "name": "driver_name_Jimmy Davies",
                  "rawType": "float64",
                  "type": "float"
                },
                {
                  "name": "driver_name_Jimmy Daywalt",
                  "rawType": "float64",
                  "type": "float"
                },
                {
                  "name": "driver_name_Jimmy Reece",
                  "rawType": "float64",
                  "type": "float"
                },
                {
                  "name": "driver_name_Jimmy Stewart",
                  "rawType": "float64",
                  "type": "float"
                },
                {
                  "name": "driver_name_Jo Bonnier",
                  "rawType": "float64",
                  "type": "float"
                },
                {
                  "name": "driver_name_Jo Gartner",
                  "rawType": "float64",
                  "type": "float"
                },
                {
                  "name": "driver_name_Jo Schlesser",
                  "rawType": "float64",
                  "type": "float"
                },
                {
                  "name": "driver_name_Jo Siffert",
                  "rawType": "float64",
                  "type": "float"
                },
                {
                  "name": "driver_name_Jo Vonlanthen",
                  "rawType": "float64",
                  "type": "float"
                },
                {
                  "name": "driver_name_Joachim Winkelhock",
                  "rawType": "float64",
                  "type": "float"
                },
                {
                  "name": "driver_name_Jochen Mass",
                  "rawType": "float64",
                  "type": "float"
                },
                {
                  "name": "driver_name_Jochen Rindt",
                  "rawType": "float64",
                  "type": "float"
                },
                {
                  "name": "driver_name_Jody Scheckter",
                  "rawType": "float64",
                  "type": "float"
                },
                {
                  "name": "driver_name_Joe Fry",
                  "rawType": "float64",
                  "type": "float"
                },
                {
                  "name": "driver_name_Joe James",
                  "rawType": "float64",
                  "type": "float"
                },
                {
                  "name": "driver_name_John Barber",
                  "rawType": "float64",
                  "type": "float"
                },
                {
                  "name": "driver_name_John Campbell-Jones",
                  "rawType": "float64",
                  "type": "float"
                },
                {
                  "name": "driver_name_John Fitch",
                  "rawType": "float64",
                  "type": "float"
                },
                {
                  "name": "driver_name_John James",
                  "rawType": "float64",
                  "type": "float"
                },
                {
                  "name": "driver_name_John Love",
                  "rawType": "float64",
                  "type": "float"
                },
                {
                  "name": "driver_name_John Miles",
                  "rawType": "float64",
                  "type": "float"
                },
                {
                  "name": "driver_name_John Nicholson",
                  "rawType": "float64",
                  "type": "float"
                },
                {
                  "name": "driver_name_John Surtees",
                  "rawType": "float64",
                  "type": "float"
                },
                {
                  "name": "driver_name_John Watson",
                  "rawType": "float64",
                  "type": "float"
                },
                {
                  "name": "driver_name_Johnnie Parsons",
                  "rawType": "float64",
                  "type": "float"
                },
                {
                  "name": "driver_name_Johnny Boyd",
                  "rawType": "float64",
                  "type": "float"
                },
                {
                  "name": "driver_name_Johnny Cecotto",
                  "rawType": "float64",
                  "type": "float"
                },
                {
                  "name": "driver_name_Johnny Claes",
                  "rawType": "float64",
                  "type": "float"
                },
                {
                  "name": "driver_name_Johnny Dumfries",
                  "rawType": "float64",
                  "type": "float"
                },
                {
                  "name": "driver_name_Johnny Herbert",
                  "rawType": "float64",
                  "type": "float"
                },
                {
                  "name": "driver_name_Johnny Servoz-Gavin",
                  "rawType": "float64",
                  "type": "float"
                },
                {
                  "name": "driver_name_Johnny Thomson",
                  "rawType": "float64",
                  "type": "float"
                },
                {
                  "name": "driver_name_Jolyon Palmer",
                  "rawType": "float64",
                  "type": "float"
                },
                {
                  "name": "driver_name_Jonathan Palmer",
                  "rawType": "float64",
                  "type": "float"
                },
                {
                  "name": "driver_name_Jonathan Williams",
                  "rawType": "float64",
                  "type": "float"
                },
                {
                  "name": "driver_name_Jos Verstappen",
                  "rawType": "float64",
                  "type": "float"
                },
                {
                  "name": "driver_name_Josef Peters",
                  "rawType": "float64",
                  "type": "float"
                },
                {
                  "name": "driver_name_José Dolhem",
                  "rawType": "float64",
                  "type": "float"
                },
                {
                  "name": "driver_name_José Froilán González",
                  "rawType": "float64",
                  "type": "float"
                },
                {
                  "name": "driver_name_Juan Fangio",
                  "rawType": "float64",
                  "type": "float"
                },
                {
                  "name": "driver_name_Juan Pablo Montoya",
                  "rawType": "float64",
                  "type": "float"
                },
                {
                  "name": "driver_name_Jud Larson",
                  "rawType": "float64",
                  "type": "float"
                },
                {
                  "name": "driver_name_Jules Bianchi",
                  "rawType": "float64",
                  "type": "float"
                },
                {
                  "name": "driver_name_Julian Bailey",
                  "rawType": "float64",
                  "type": "float"
                },
                {
                  "name": "driver_name_Justin Wilson",
                  "rawType": "float64",
                  "type": "float"
                },
                {
                  "name": "driver_name_Jyrki Järvilehto",
                  "rawType": "float64",
                  "type": "float"
                },
                {
                  "name": "driver_name_Jérôme d'Ambrosio",
                  "rawType": "float64",
                  "type": "float"
                },
                {
                  "name": "driver_name_Kamui Kobayashi",
                  "rawType": "float64",
                  "type": "float"
                },
                {
                  "name": "driver_name_Karl Kling",
                  "rawType": "float64",
                  "type": "float"
                },
                {
                  "name": "driver_name_Karl Wendlinger",
                  "rawType": "float64",
                  "type": "float"
                },
                {
                  "name": "driver_name_Karun Chandhok",
                  "rawType": "float64",
                  "type": "float"
                },
                {
                  "name": "driver_name_Kazuki Nakajima",
                  "rawType": "float64",
                  "type": "float"
                },
                {
                  "name": "driver_name_Keith Andrews",
                  "rawType": "float64",
                  "type": "float"
                },
                {
                  "name": "driver_name_Keith Greene",
                  "rawType": "float64",
                  "type": "float"
                },
                {
                  "name": "driver_name_Keke Rosberg",
                  "rawType": "float64",
                  "type": "float"
                },
                {
                  "name": "driver_name_Ken Wharton",
                  "rawType": "float64",
                  "type": "float"
                },
                {
                  "name": "driver_name_Kenny Acheson",
                  "rawType": "float64",
                  "type": "float"
                },
                {
                  "name": "driver_name_Kevin Cogan",
                  "rawType": "float64",
                  "type": "float"
                },
                {
                  "name": "driver_name_Kevin Magnussen",
                  "rawType": "float64",
                  "type": "float"
                },
                {
                  "name": "driver_name_Kimi Räikkönen",
                  "rawType": "float64",
                  "type": "float"
                },
                {
                  "name": "driver_name_Kurt Ahrens",
                  "rawType": "float64",
                  "type": "float"
                },
                {
                  "name": "driver_name_Lamberto Leoni",
                  "rawType": "float64",
                  "type": "float"
                },
                {
                  "name": "driver_name_Lance Macklin",
                  "rawType": "float64",
                  "type": "float"
                },
                {
                  "name": "driver_name_Lance Reventlow",
                  "rawType": "float64",
                  "type": "float"
                },
                {
                  "name": "driver_name_Lance Stroll",
                  "rawType": "float64",
                  "type": "float"
                },
                {
                  "name": "driver_name_Lando Norris",
                  "rawType": "float64",
                  "type": "float"
                },
                {
                  "name": "driver_name_Larry Perkins",
                  "rawType": "float64",
                  "type": "float"
                },
                {
                  "name": "driver_name_Lee Wallard",
                  "rawType": "float64",
                  "type": "float"
                },
                {
                  "name": "driver_name_Len Sutton",
                  "rawType": "float64",
                  "type": "float"
                },
                {
                  "name": "driver_name_Leo Kinnunen",
                  "rawType": "float64",
                  "type": "float"
                },
                {
                  "name": "driver_name_Les Leston",
                  "rawType": "float64",
                  "type": "float"
                },
                {
                  "name": "driver_name_Lewis Hamilton",
                  "rawType": "float64",
                  "type": "float"
                },
                {
                  "name": "driver_name_Liam Lawson",
                  "rawType": "float64",
                  "type": "float"
                },
                {
                  "name": "driver_name_Logan Sargeant",
                  "rawType": "float64",
                  "type": "float"
                },
                {
                  "name": "driver_name_Lorenzo Bandini",
                  "rawType": "float64",
                  "type": "float"
                },
                {
                  "name": "driver_name_Loris Kessel",
                  "rawType": "float64",
                  "type": "float"
                },
                {
                  "name": "driver_name_Louis Chiron",
                  "rawType": "float64",
                  "type": "float"
                },
                {
                  "name": "driver_name_Louis Rosier",
                  "rawType": "float64",
                  "type": "float"
                },
                {
                  "name": "driver_name_Luca Badoer",
                  "rawType": "float64",
                  "type": "float"
                },
                {
                  "name": "driver_name_Lucas di Grassi",
                  "rawType": "float64",
                  "type": "float"
                },
                {
                  "name": "driver_name_Luciano Burti",
                  "rawType": "float64",
                  "type": "float"
                },
                {
                  "name": "driver_name_Lucien Bianchi",
                  "rawType": "float64",
                  "type": "float"
                },
                {
                  "name": "driver_name_Ludovico Scarfiotti",
                  "rawType": "float64",
                  "type": "float"
                },
                {
                  "name": "driver_name_Luigi Fagioli",
                  "rawType": "float64",
                  "type": "float"
                },
                {
                  "name": "driver_name_Luigi Musso",
                  "rawType": "float64",
                  "type": "float"
                },
                {
                  "name": "driver_name_Luigi Piotti",
                  "rawType": "float64",
                  "type": "float"
                },
                {
                  "name": "driver_name_Luigi Taramazzo",
                  "rawType": "float64",
                  "type": "float"
                },
                {
                  "name": "driver_name_Luigi Villoresi",
                  "rawType": "float64",
                  "type": "float"
                },
                {
                  "name": "driver_name_Luis Pérez-Sala",
                  "rawType": "float64",
                  "type": "float"
                },
                {
                  "name": "driver_name_Mack Hellings",
                  "rawType": "float64",
                  "type": "float"
                },
                {
                  "name": "driver_name_Manfred Winkelhock",
                  "rawType": "float64",
                  "type": "float"
                },
                {
                  "name": "driver_name_Manny Ayulo",
                  "rawType": "float64",
                  "type": "float"
                },
                {
                  "name": "driver_name_Marc Gené",
                  "rawType": "float64",
                  "type": "float"
                },
                {
                  "name": "driver_name_Marc Surer",
                  "rawType": "float64",
                  "type": "float"
                },
                {
                  "name": "driver_name_Marco Apicella",
                  "rawType": "float64",
                  "type": "float"
                },
                {
                  "name": "driver_name_Marcus Ericsson",
                  "rawType": "float64",
                  "type": "float"
                },
                {
                  "name": "driver_name_Maria de Filippis",
                  "rawType": "float64",
                  "type": "float"
                },
                {
                  "name": "driver_name_Mario Andretti",
                  "rawType": "float64",
                  "type": "float"
                },
                {
                  "name": "driver_name_Mark Blundell",
                  "rawType": "float64",
                  "type": "float"
                },
                {
                  "name": "driver_name_Mark Donohue",
                  "rawType": "float64",
                  "type": "float"
                },
                {
                  "name": "driver_name_Mark Webber",
                  "rawType": "float64",
                  "type": "float"
                },
                {
                  "name": "driver_name_Marshall Teague",
                  "rawType": "float64",
                  "type": "float"
                },
                {
                  "name": "driver_name_Martin Brundle",
                  "rawType": "float64",
                  "type": "float"
                },
                {
                  "name": "driver_name_Martin Donnelly",
                  "rawType": "float64",
                  "type": "float"
                },
                {
                  "name": "driver_name_Massimiliano Papis",
                  "rawType": "float64",
                  "type": "float"
                },
                {
                  "name": "driver_name_Masten Gregory",
                  "rawType": "float64",
                  "type": "float"
                },
                {
                  "name": "driver_name_Maurice Trintignant",
                  "rawType": "float64",
                  "type": "float"
                },
                {
                  "name": "driver_name_Mauro Baldi",
                  "rawType": "float64",
                  "type": "float"
                },
                {
                  "name": "driver_name_Maurício Gugelmin",
                  "rawType": "float64",
                  "type": "float"
                },
                {
                  "name": "driver_name_Max Chilton",
                  "rawType": "float64",
                  "type": "float"
                },
                {
                  "name": "driver_name_Max Verstappen",
                  "rawType": "float64",
                  "type": "float"
                },
                {
                  "name": "driver_name_Max de Terra",
                  "rawType": "float64",
                  "type": "float"
                },
                {
                  "name": "driver_name_Michael Andretti",
                  "rawType": "float64",
                  "type": "float"
                },
                {
                  "name": "driver_name_Michael Bartels",
                  "rawType": "float64",
                  "type": "float"
                },
                {
                  "name": "driver_name_Michael Bleekemolen",
                  "rawType": "float64",
                  "type": "float"
                },
                {
                  "name": "driver_name_Michael May",
                  "rawType": "float64",
                  "type": "float"
                },
                {
                  "name": "driver_name_Michael Schumacher",
                  "rawType": "float64",
                  "type": "float"
                },
                {
                  "name": "driver_name_Michel Leclère",
                  "rawType": "float64",
                  "type": "float"
                },
                {
                  "name": "driver_name_Michele Alboreto",
                  "rawType": "float64",
                  "type": "float"
                },
                {
                  "name": "driver_name_Mick Schumacher",
                  "rawType": "float64",
                  "type": "float"
                },
                {
                  "name": "driver_name_Miguel Ángel Guerra",
                  "rawType": "float64",
                  "type": "float"
                },
                {
                  "name": "driver_name_Mika Häkkinen",
                  "rawType": "float64",
                  "type": "float"
                },
                {
                  "name": "driver_name_Mika Salo",
                  "rawType": "float64",
                  "type": "float"
                },
                {
                  "name": "driver_name_Mike Beuttler",
                  "rawType": "float64",
                  "type": "float"
                },
                {
                  "name": "driver_name_Mike Hailwood",
                  "rawType": "float64",
                  "type": "float"
                },
                {
                  "name": "driver_name_Mike Hawthorn",
                  "rawType": "float64",
                  "type": "float"
                },
                {
                  "name": "driver_name_Mike Nazaruk",
                  "rawType": "float64",
                  "type": "float"
                },
                {
                  "name": "driver_name_Mike Parkes",
                  "rawType": "float64",
                  "type": "float"
                },
                {
                  "name": "driver_name_Mike Spence",
                  "rawType": "float64",
                  "type": "float"
                },
                {
                  "name": "driver_name_Mike Taylor",
                  "rawType": "float64",
                  "type": "float"
                },
                {
                  "name": "driver_name_Mike Thackwell",
                  "rawType": "float64",
                  "type": "float"
                },
                {
                  "name": "driver_name_Mike Wilds",
                  "rawType": "float64",
                  "type": "float"
                },
                {
                  "name": "driver_name_Mikko Kozarowitzky",
                  "rawType": "float64",
                  "type": "float"
                },
                {
                  "name": "driver_name_Mário de Araújo Cabral",
                  "rawType": "float64",
                  "type": "float"
                },
                {
                  "name": "driver_name_Nanni Galli",
                  "rawType": "float64",
                  "type": "float"
                },
                {
                  "name": "driver_name_Naoki Hattori",
                  "rawType": "float64",
                  "type": "float"
                },
                {
                  "name": "driver_name_Narain Karthikeyan",
                  "rawType": "float64",
                  "type": "float"
                },
                {
                  "name": "driver_name_Nasif Estéfano",
                  "rawType": "float64",
                  "type": "float"
                },
                {
                  "name": "driver_name_Nello Pagani",
                  "rawType": "float64",
                  "type": "float"
                },
                {
                  "name": "driver_name_Nelson Piquet",
                  "rawType": "float64",
                  "type": "float"
                },
                {
                  "name": "driver_name_Nelson Piquet Jr.",
                  "rawType": "float64",
                  "type": "float"
                },
                {
                  "name": "driver_name_Nicholas Latifi",
                  "rawType": "float64",
                  "type": "float"
                },
                {
                  "name": "driver_name_Nick Heidfeld",
                  "rawType": "float64",
                  "type": "float"
                },
                {
                  "name": "driver_name_Nico Hülkenberg",
                  "rawType": "float64",
                  "type": "float"
                },
                {
                  "name": "driver_name_Nico Rosberg",
                  "rawType": "float64",
                  "type": "float"
                },
                {
                  "name": "driver_name_Nicola Larini",
                  "rawType": "float64",
                  "type": "float"
                },
                {
                  "name": "driver_name_Nicolas Kiesa",
                  "rawType": "float64",
                  "type": "float"
                },
                {
                  "name": "driver_name_Nigel Mansell",
                  "rawType": "float64",
                  "type": "float"
                },
                {
                  "name": "driver_name_Niki Lauda",
                  "rawType": "float64",
                  "type": "float"
                },
                {
                  "name": "driver_name_Nikita Mazepin",
                  "rawType": "float64",
                  "type": "float"
                },
                {
                  "name": "driver_name_Nino Farina",
                  "rawType": "float64",
                  "type": "float"
                },
                {
                  "name": "driver_name_Nino Vaccarella",
                  "rawType": "float64",
                  "type": "float"
                },
                {
                  "name": "driver_name_Nyck de Vries",
                  "rawType": "float64",
                  "type": "float"
                },
                {
                  "name": "driver_name_Olivier Beretta",
                  "rawType": "float64",
                  "type": "float"
                },
                {
                  "name": "driver_name_Olivier Gendebien",
                  "rawType": "float64",
                  "type": "float"
                },
                {
                  "name": "driver_name_Olivier Grouillard",
                  "rawType": "float64",
                  "type": "float"
                },
                {
                  "name": "driver_name_Olivier Panis",
                  "rawType": "float64",
                  "type": "float"
                },
                {
                  "name": "driver_name_Onofre Marimón",
                  "rawType": "float64",
                  "type": "float"
                },
                {
                  "name": "driver_name_Oscar Gálvez",
                  "rawType": "float64",
                  "type": "float"
                },
                {
                  "name": "driver_name_Oscar Larrauri",
                  "rawType": "float64",
                  "type": "float"
                },
                {
                  "name": "driver_name_Oscar Piastri",
                  "rawType": "float64",
                  "type": "float"
                },
                {
                  "name": "driver_name_Oswald Karch",
                  "rawType": "float64",
                  "type": "float"
                },
                {
                  "name": "driver_name_Pablo Birger",
                  "rawType": "float64",
                  "type": "float"
                },
                {
                  "name": "driver_name_Paco Godia",
                  "rawType": "float64",
                  "type": "float"
                },
                {
                  "name": "driver_name_Paddy Driver",
                  "rawType": "float64",
                  "type": "float"
                },
                {
                  "name": "driver_name_Paolo Barilla",
                  "rawType": "float64",
                  "type": "float"
                },
                {
                  "name": "driver_name_Pascal Fabre",
                  "rawType": "float64",
                  "type": "float"
                },
                {
                  "name": "driver_name_Pascal Wehrlein",
                  "rawType": "float64",
                  "type": "float"
                },
                {
                  "name": "driver_name_Pastor Maldonado",
                  "rawType": "float64",
                  "type": "float"
                },
                {
                  "name": "driver_name_Pat Flaherty",
                  "rawType": "float64",
                  "type": "float"
                },
                {
                  "name": "driver_name_Pat O'Connor",
                  "rawType": "float64",
                  "type": "float"
                },
                {
                  "name": "driver_name_Patrick Depailler",
                  "rawType": "float64",
                  "type": "float"
                },
                {
                  "name": "driver_name_Patrick Friesacher",
                  "rawType": "float64",
                  "type": "float"
                },
                {
                  "name": "driver_name_Patrick Gaillard",
                  "rawType": "float64",
                  "type": "float"
                },
                {
                  "name": "driver_name_Patrick Nève",
                  "rawType": "float64",
                  "type": "float"
                },
                {
                  "name": "driver_name_Patrick Tambay",
                  "rawType": "float64",
                  "type": "float"
                },
                {
                  "name": "driver_name_Paul Belmondo",
                  "rawType": "float64",
                  "type": "float"
                },
                {
                  "name": "driver_name_Paul Emery",
                  "rawType": "float64",
                  "type": "float"
                },
                {
                  "name": "driver_name_Paul Frère",
                  "rawType": "float64",
                  "type": "float"
                },
                {
                  "name": "driver_name_Paul Goldsmith",
                  "rawType": "float64",
                  "type": "float"
                },
                {
                  "name": "driver_name_Paul Russo",
                  "rawType": "float64",
                  "type": "float"
                },
                {
                  "name": "driver_name_Paul di Resta",
                  "rawType": "float64",
                  "type": "float"
                },
                {
                  "name": "driver_name_Pedro Chaves",
                  "rawType": "float64",
                  "type": "float"
                },
                {
                  "name": "driver_name_Pedro Diniz",
                  "rawType": "float64",
                  "type": "float"
                },
                {
                  "name": "driver_name_Pedro Lamy",
                  "rawType": "float64",
                  "type": "float"
                },
                {
                  "name": "driver_name_Pedro Rodríguez",
                  "rawType": "float64",
                  "type": "float"
                },
                {
                  "name": "driver_name_Pedro de la Rosa",
                  "rawType": "float64",
                  "type": "float"
                },
                {
                  "name": "driver_name_Perry McCarthy",
                  "rawType": "float64",
                  "type": "float"
                },
                {
                  "name": "driver_name_Pete Lovely",
                  "rawType": "float64",
                  "type": "float"
                },
                {
                  "name": "driver_name_Peter Arundell",
                  "rawType": "float64",
                  "type": "float"
                },
                {
                  "name": "driver_name_Peter Ashdown",
                  "rawType": "float64",
                  "type": "float"
                },
                {
                  "name": "driver_name_Peter Collins",
                  "rawType": "float64",
                  "type": "float"
                },
                {
                  "name": "driver_name_Peter Gethin",
                  "rawType": "float64",
                  "type": "float"
                },
                {
                  "name": "driver_name_Peter Hirt",
                  "rawType": "float64",
                  "type": "float"
                },
                {
                  "name": "driver_name_Peter Revson",
                  "rawType": "float64",
                  "type": "float"
                },
                {
                  "name": "driver_name_Peter Ryan",
                  "rawType": "float64",
                  "type": "float"
                },
                {
                  "name": "driver_name_Peter Walker",
                  "rawType": "float64",
                  "type": "float"
                },
                {
                  "name": "driver_name_Peter Whitehead",
                  "rawType": "float64",
                  "type": "float"
                },
                {
                  "name": "driver_name_Peter de Klerk",
                  "rawType": "float64",
                  "type": "float"
                },
                {
                  "name": "driver_name_Phil Cade",
                  "rawType": "float64",
                  "type": "float"
                },
                {
                  "name": "driver_name_Phil Hill",
                  "rawType": "float64",
                  "type": "float"
                },
                {
                  "name": "driver_name_Philippe Adams",
                  "rawType": "float64",
                  "type": "float"
                },
                {
                  "name": "driver_name_Philippe Alliot",
                  "rawType": "float64",
                  "type": "float"
                },
                {
                  "name": "driver_name_Philippe Streiff",
                  "rawType": "float64",
                  "type": "float"
                },
                {
                  "name": "driver_name_Philippe Étancelin",
                  "rawType": "float64",
                  "type": "float"
                },
                {
                  "name": "driver_name_Piercarlo Ghinzani",
                  "rawType": "float64",
                  "type": "float"
                },
                {
                  "name": "driver_name_Pierluigi Martini",
                  "rawType": "float64",
                  "type": "float"
                },
                {
                  "name": "driver_name_Piero Dusio",
                  "rawType": "float64",
                  "type": "float"
                },
                {
                  "name": "driver_name_Piero Taruffi",
                  "rawType": "float64",
                  "type": "float"
                },
                {
                  "name": "driver_name_Pierre Gasly",
                  "rawType": "float64",
                  "type": "float"
                },
                {
                  "name": "driver_name_Pierre Levegh",
                  "rawType": "float64",
                  "type": "float"
                },
                {
                  "name": "driver_name_Pierre-Henri Raphanel",
                  "rawType": "float64",
                  "type": "float"
                },
                {
                  "name": "driver_name_Piers Courage",
                  "rawType": "float64",
                  "type": "float"
                },
                {
                  "name": "driver_name_Pietro Fittipaldi",
                  "rawType": "float64",
                  "type": "float"
                },
                {
                  "name": "driver_name_Prince Bira",
                  "rawType": "float64",
                  "type": "float"
                },
                {
                  "name": "driver_name_Ralf Schumacher",
                  "rawType": "float64",
                  "type": "float"
                },
                {
                  "name": "driver_name_Ralph Firman",
                  "rawType": "float64",
                  "type": "float"
                },
                {
                  "name": "driver_name_Raul Boesel",
                  "rawType": "float64",
                  "type": "float"
                },
                {
                  "name": "driver_name_Raymond Sommer",
                  "rawType": "float64",
                  "type": "float"
                },
                {
                  "name": "driver_name_Red Amick",
                  "rawType": "float64",
                  "type": "float"
                },
                {
                  "name": "driver_name_Reg Parnell",
                  "rawType": "float64",
                  "type": "float"
                },
                {
                  "name": "driver_name_Reine Wisell",
                  "rawType": "float64",
                  "type": "float"
                },
                {
                  "name": "driver_name_Renzo Zorzi",
                  "rawType": "float64",
                  "type": "float"
                },
                {
                  "name": "driver_name_René Arnoux",
                  "rawType": "float64",
                  "type": "float"
                },
                {
                  "name": "driver_name_Ricardo Londoño",
                  "rawType": "float64",
                  "type": "float"
                },
                {
                  "name": "driver_name_Ricardo Rosset",
                  "rawType": "float64",
                  "type": "float"
                },
                {
                  "name": "driver_name_Ricardo Zonta",
                  "rawType": "float64",
                  "type": "float"
                },
                {
                  "name": "driver_name_Ricardo Zunino",
                  "rawType": "float64",
                  "type": "float"
                },
                {
                  "name": "driver_name_Riccardo Paletti",
                  "rawType": "float64",
                  "type": "float"
                },
                {
                  "name": "driver_name_Riccardo Patrese",
                  "rawType": "float64",
                  "type": "float"
                },
                {
                  "name": "driver_name_Richard Attwood",
                  "rawType": "float64",
                  "type": "float"
                },
                {
                  "name": "driver_name_Richard Robarts",
                  "rawType": "float64",
                  "type": "float"
                },
                {
                  "name": "driver_name_Richie Ginther",
                  "rawType": "float64",
                  "type": "float"
                },
                {
                  "name": "driver_name_Rikky von Opel",
                  "rawType": "float64",
                  "type": "float"
                },
                {
                  "name": "driver_name_Rio Haryanto",
                  "rawType": "float64",
                  "type": "float"
                },
                {
                  "name": "driver_name_Robert Doornbos",
                  "rawType": "float64",
                  "type": "float"
                },
                {
                  "name": "driver_name_Robert Kubica",
                  "rawType": "float64",
                  "type": "float"
                },
                {
                  "name": "driver_name_Robert Manzon",
                  "rawType": "float64",
                  "type": "float"
                },
                {
                  "name": "driver_name_Robert O'Brien",
                  "rawType": "float64",
                  "type": "float"
                },
                {
                  "name": "driver_name_Roberto Bonomi",
                  "rawType": "float64",
                  "type": "float"
                },
                {
                  "name": "driver_name_Roberto Bussinello",
                  "rawType": "float64",
                  "type": "float"
                },
                {
                  "name": "driver_name_Roberto Guerrero",
                  "rawType": "float64",
                  "type": "float"
                },
                {
                  "name": "driver_name_Roberto Lippi",
                  "rawType": "float64",
                  "type": "float"
                },
                {
                  "name": "driver_name_Roberto Merhi",
                  "rawType": "float64",
                  "type": "float"
                },
                {
                  "name": "driver_name_Roberto Mieres",
                  "rawType": "float64",
                  "type": "float"
                },
                {
                  "name": "driver_name_Roberto Moreno",
                  "rawType": "float64",
                  "type": "float"
                },
                {
                  "name": "driver_name_Robin Montgomerie-Charrington",
                  "rawType": "float64",
                  "type": "float"
                },
                {
                  "name": "driver_name_Rodger Ward",
                  "rawType": "float64",
                  "type": "float"
                },
                {
                  "name": "driver_name_Roger Laurent",
                  "rawType": "float64",
                  "type": "float"
                },
                {
                  "name": "driver_name_Roger Williamson",
                  "rawType": "float64",
                  "type": "float"
                },
                {
                  "name": "driver_name_Roland Ratzenberger",
                  "rawType": "float64",
                  "type": "float"
                },
                {
                  "name": "driver_name_Rolf Stommelen",
                  "rawType": "float64",
                  "type": "float"
                },
                {
                  "name": "driver_name_Romain Grosjean",
                  "rawType": "float64",
                  "type": "float"
                },
                {
                  "name": "driver_name_Ron Flockhart",
                  "rawType": "float64",
                  "type": "float"
                },
                {
                  "name": "driver_name_Ronnie Bucknum",
                  "rawType": "float64",
                  "type": "float"
                },
                {
                  "name": "driver_name_Ronnie Peterson",
                  "rawType": "float64",
                  "type": "float"
                },
                {
                  "name": "driver_name_Roy Salvadori",
                  "rawType": "float64",
                  "type": "float"
                },
                {
                  "name": "driver_name_Rubens Barrichello",
                  "rawType": "float64",
                  "type": "float"
                },
                {
                  "name": "driver_name_Rudi Fischer",
                  "rawType": "float64",
                  "type": "float"
                },
                {
                  "name": "driver_name_Rupert Keegan",
                  "rawType": "float64",
                  "type": "float"
                },
                {
                  "name": "driver_name_Sakon Yamamoto",
                  "rawType": "float64",
                  "type": "float"
                },
                {
                  "name": "driver_name_Sam Hanks",
                  "rawType": "float64",
                  "type": "float"
                },
                {
                  "name": "driver_name_Sam Tingle",
                  "rawType": "float64",
                  "type": "float"
                },
                {
                  "name": "driver_name_Satoru Nakajima",
                  "rawType": "float64",
                  "type": "float"
                },
                {
                  "name": "driver_name_Scott Speed",
                  "rawType": "float64",
                  "type": "float"
                },
                {
                  "name": "driver_name_Sebastian Vettel",
                  "rawType": "float64",
                  "type": "float"
                },
                {
                  "name": "driver_name_Sergey Sirotkin",
                  "rawType": "float64",
                  "type": "float"
                },
                {
                  "name": "driver_name_Sergio Mantovani",
                  "rawType": "float64",
                  "type": "float"
                },
                {
                  "name": "driver_name_Sergio Pérez",
                  "rawType": "float64",
                  "type": "float"
                },
                {
                  "name": "driver_name_Shinji Nakano",
                  "rawType": "float64",
                  "type": "float"
                },
                {
                  "name": "driver_name_Shorty Templeman",
                  "rawType": "float64",
                  "type": "float"
                },
                {
                  "name": "driver_name_Siegfried Stohr",
                  "rawType": "float64",
                  "type": "float"
                },
                {
                  "name": "driver_name_Silvio Moser",
                  "rawType": "float64",
                  "type": "float"
                },
                {
                  "name": "driver_name_Skip Barber",
                  "rawType": "float64",
                  "type": "float"
                },
                {
                  "name": "driver_name_Slim Borgudd",
                  "rawType": "float64",
                  "type": "float"
                },
                {
                  "name": "driver_name_Stefan Bellof",
                  "rawType": "float64",
                  "type": "float"
                },
                {
                  "name": "driver_name_Stefan Johansson",
                  "rawType": "float64",
                  "type": "float"
                },
                {
                  "name": "driver_name_Stefano Modena",
                  "rawType": "float64",
                  "type": "float"
                },
                {
                  "name": "driver_name_Stirling Moss",
                  "rawType": "float64",
                  "type": "float"
                },
                {
                  "name": "driver_name_Stoffel Vandoorne",
                  "rawType": "float64",
                  "type": "float"
                },
                {
                  "name": "driver_name_Stuart Lewis-Evans",
                  "rawType": "float64",
                  "type": "float"
                },
                {
                  "name": "driver_name_Syd van der Vyver",
                  "rawType": "float64",
                  "type": "float"
                },
                {
                  "name": "driver_name_Sébastien Bourdais",
                  "rawType": "float64",
                  "type": "float"
                },
                {
                  "name": "driver_name_Sébastien Buemi",
                  "rawType": "float64",
                  "type": "float"
                },
                {
                  "name": "driver_name_Taki Inoue",
                  "rawType": "float64",
                  "type": "float"
                },
                {
                  "name": "driver_name_Takuma Sato",
                  "rawType": "float64",
                  "type": "float"
                },
                {
                  "name": "driver_name_Tarso Marques",
                  "rawType": "float64",
                  "type": "float"
                },
                {
                  "name": "driver_name_Teddy Pilette",
                  "rawType": "float64",
                  "type": "float"
                },
                {
                  "name": "driver_name_Teo Fabi",
                  "rawType": "float64",
                  "type": "float"
                },
                {
                  "name": "driver_name_Theo Helfrich",
                  "rawType": "float64",
                  "type": "float"
                },
                {
                  "name": "driver_name_Thierry Boutsen",
                  "rawType": "float64",
                  "type": "float"
                },
                {
                  "name": "driver_name_Tiago Monteiro",
                  "rawType": "float64",
                  "type": "float"
                },
                {
                  "name": "driver_name_Tim Schenken",
                  "rawType": "float64",
                  "type": "float"
                },
                {
                  "name": "driver_name_Timo Glock",
                  "rawType": "float64",
                  "type": "float"
                },
                {
                  "name": "driver_name_Tom Belsø",
                  "rawType": "float64",
                  "type": "float"
                },
                {
                  "name": "driver_name_Tom Pryce",
                  "rawType": "float64",
                  "type": "float"
                },
                {
                  "name": "driver_name_Tommy Byrne",
                  "rawType": "float64",
                  "type": "float"
                },
                {
                  "name": "driver_name_Toni Branca",
                  "rawType": "float64",
                  "type": "float"
                },
                {
                  "name": "driver_name_Toni Ulmen",
                  "rawType": "float64",
                  "type": "float"
                },
                {
                  "name": "driver_name_Tony Bettenhausen",
                  "rawType": "float64",
                  "type": "float"
                },
                {
                  "name": "driver_name_Tony Brise",
                  "rawType": "float64",
                  "type": "float"
                },
                {
                  "name": "driver_name_Tony Brooks",
                  "rawType": "float64",
                  "type": "float"
                },
                {
                  "name": "driver_name_Tony Crook",
                  "rawType": "float64",
                  "type": "float"
                },
                {
                  "name": "driver_name_Tony Gaze",
                  "rawType": "float64",
                  "type": "float"
                },
                {
                  "name": "driver_name_Tony Maggs",
                  "rawType": "float64",
                  "type": "float"
                },
                {
                  "name": "driver_name_Tony Marsh",
                  "rawType": "float64",
                  "type": "float"
                },
                {
                  "name": "driver_name_Tony Rolt",
                  "rawType": "float64",
                  "type": "float"
                },
                {
                  "name": "driver_name_Tony Settember",
                  "rawType": "float64",
                  "type": "float"
                },
                {
                  "name": "driver_name_Tony Shelly",
                  "rawType": "float64",
                  "type": "float"
                },
                {
                  "name": "driver_name_Tony Trimmer",
                  "rawType": "float64",
                  "type": "float"
                },
                {
                  "name": "driver_name_Toranosuke Takagi",
                  "rawType": "float64",
                  "type": "float"
                },
                {
                  "name": "driver_name_Torsten Palm",
                  "rawType": "float64",
                  "type": "float"
                },
                {
                  "name": "driver_name_Toshio Suzuki",
                  "rawType": "float64",
                  "type": "float"
                },
                {
                  "name": "driver_name_Toulo de Graffenried",
                  "rawType": "float64",
                  "type": "float"
                },
                {
                  "name": "driver_name_Travis Webb",
                  "rawType": "float64",
                  "type": "float"
                },
                {
                  "name": "driver_name_Trevor Taylor",
                  "rawType": "float64",
                  "type": "float"
                },
                {
                  "name": "driver_name_Troy Ruttman",
                  "rawType": "float64",
                  "type": "float"
                },
                {
                  "name": "driver_name_Ukyo Katayama",
                  "rawType": "float64",
                  "type": "float"
                },
                {
                  "name": "driver_name_Umberto Maglioli",
                  "rawType": "float64",
                  "type": "float"
                },
                {
                  "name": "driver_name_Valtteri Bottas",
                  "rawType": "float64",
                  "type": "float"
                },
                {
                  "name": "driver_name_Vern Schuppan",
                  "rawType": "float64",
                  "type": "float"
                },
                {
                  "name": "driver_name_Vic Elford",
                  "rawType": "float64",
                  "type": "float"
                },
                {
                  "name": "driver_name_Vic Wilson",
                  "rawType": "float64",
                  "type": "float"
                },
                {
                  "name": "driver_name_Vitaly Petrov",
                  "rawType": "float64",
                  "type": "float"
                },
                {
                  "name": "driver_name_Vitantonio Liuzzi",
                  "rawType": "float64",
                  "type": "float"
                },
                {
                  "name": "driver_name_Vittorio Brambilla",
                  "rawType": "float64",
                  "type": "float"
                },
                {
                  "name": "driver_name_Volker Weidler",
                  "rawType": "float64",
                  "type": "float"
                },
                {
                  "name": "driver_name_Walt Faulkner",
                  "rawType": "float64",
                  "type": "float"
                },
                {
                  "name": "driver_name_Walt Hansgen",
                  "rawType": "float64",
                  "type": "float"
                },
                {
                  "name": "driver_name_Will Stevens",
                  "rawType": "float64",
                  "type": "float"
                },
                {
                  "name": "driver_name_Willy Mairesse",
                  "rawType": "float64",
                  "type": "float"
                },
                {
                  "name": "driver_name_Wilson Fittipaldi",
                  "rawType": "float64",
                  "type": "float"
                },
                {
                  "name": "driver_name_Wolfgang Seidel",
                  "rawType": "float64",
                  "type": "float"
                },
                {
                  "name": "driver_name_Wolfgang von Trips",
                  "rawType": "float64",
                  "type": "float"
                },
                {
                  "name": "driver_name_Yannick Dalmas",
                  "rawType": "float64",
                  "type": "float"
                },
                {
                  "name": "driver_name_Yuji Ide",
                  "rawType": "float64",
                  "type": "float"
                },
                {
                  "name": "driver_name_Yuki Tsunoda",
                  "rawType": "float64",
                  "type": "float"
                },
                {
                  "name": "driver_name_Yves Cabantous",
                  "rawType": "float64",
                  "type": "float"
                },
                {
                  "name": "driver_name_Zsolt Baumgartner",
                  "rawType": "float64",
                  "type": "float"
                },
                {
                  "name": "driver_name_Élie Bayol",
                  "rawType": "float64",
                  "type": "float"
                },
                {
                  "name": "driver_name_Éric Bernard",
                  "rawType": "float64",
                  "type": "float"
                },
                {
                  "name": "driver_name_Érik Comas",
                  "rawType": "float64",
                  "type": "float"
                },
                {
                  "name": "driver_name_Óscar González",
                  "rawType": "float64",
                  "type": "float"
                }
              ],
              "ref": "e2469c9c-b6ce-42df-8e12-5bbcc2d9ccc7",
              "rows": [
                [
                  "0",
                  "24",
                  "0.0",
                  "0.0",
                  "0.0",
                  "0.0",
                  "0.0",
                  "0.0",
                  "0.0",
                  "0.0",
                  "0.0",
                  "0.0",
                  "0.0",
                  "0.0",
                  "0.0",
                  "0.0",
                  "0.0",
                  "0.0",
                  "0.0",
                  "0.0",
                  "0.0",
                  "0.0",
                  "0.0",
                  "0.0",
                  "0.0",
                  "0.0",
                  "0.0",
                  "0.0",
                  "0.0",
                  "0.0",
                  "0.0",
                  "0.0",
                  "0.0",
                  "0.0",
                  "0.0",
                  "0.0",
                  "0.0",
                  "0.0",
                  "0.0",
                  "0.0",
                  "0.0",
                  "0.0",
                  "0.0",
                  "0.0",
                  "0.0",
                  "0.0",
                  "0.0",
                  "0.0",
                  "0.0",
                  "0.0",
                  "0.0",
                  "0.0",
                  "0.0",
                  "0.0",
                  "0.0",
                  "0.0",
                  "0.0",
                  "0.0",
                  "0.0",
                  "0.0",
                  "0.0",
                  "0.0",
                  "0.0",
                  "0.0",
                  "0.0",
                  "0.0",
                  "0.0",
                  "0.0",
                  "0.0",
                  "0.0",
                  "0.0",
                  "0.0",
                  "0.0",
                  "0.0",
                  "0.0",
                  "0.0",
                  "0.0",
                  "0.0",
                  "0.0",
                  "0.0",
                  "0.0",
                  "0.0",
                  "0.0",
                  "0.0",
                  "0.0",
                  "0.0",
                  "0.0",
                  "0.0",
                  "0.0",
                  "0.0",
                  "0.0",
                  "0.0",
                  "0.0",
                  "0.0",
                  "0.0",
                  "0.0",
                  "0.0",
                  "0.0",
                  "0.0",
                  "0.0",
                  "0.0",
                  "0.0",
                  "0.0",
                  "0.0",
                  "0.0",
                  "0.0",
                  "0.0",
                  "0.0",
                  "0.0",
                  "0.0",
                  "0.0",
                  "0.0",
                  "0.0",
                  "0.0",
                  "0.0",
                  "0.0",
                  "0.0",
                  "0.0",
                  "0.0",
                  "0.0",
                  "0.0",
                  "0.0",
                  "0.0",
                  "0.0",
                  "0.0",
                  "0.0",
                  "0.0",
                  "0.0",
                  "0.0",
                  "0.0",
                  "0.0",
                  "0.0",
                  "0.0",
                  "0.0",
                  "0.0",
                  "0.0",
                  "0.0",
                  "0.0",
                  "0.0",
                  "0.0",
                  "0.0",
                  "0.0",
                  "0.0",
                  "0.0",
                  "0.0",
                  "0.0",
                  "0.0",
                  "0.0",
                  "0.0",
                  "0.0",
                  "0.0",
                  "0.0",
                  "0.0",
                  "0.0",
                  "0.0",
                  "0.0",
                  "0.0",
                  "0.0",
                  "0.0",
                  "0.0",
                  "0.0",
                  "0.0",
                  "0.0",
                  "0.0",
                  "0.0",
                  "0.0",
                  "0.0",
                  "1.0",
                  "0.0",
                  "0.0",
                  "0.0",
                  "0.0",
                  "0.0",
                  "0.0",
                  "0.0",
                  "0.0",
                  "0.0",
                  "0.0",
                  "0.0",
                  "0.0",
                  "0.0",
                  "0.0",
                  "0.0",
                  "0.0",
                  "0.0",
                  "0.0",
                  "0.0",
                  "0.0",
                  "0.0",
                  "0.0",
                  "0.0",
                  "0.0",
                  "0.0",
                  "0.0",
                  "0.0",
                  "0.0",
                  "0.0",
                  "0.0",
                  "0.0",
                  "0.0",
                  "0.0",
                  "0.0",
                  "0.0",
                  "0.0",
                  "0.0",
                  "0.0",
                  "0.0",
                  "0.0",
                  "0.0",
                  "0.0",
                  "0.0",
                  "0.0",
                  "0.0",
                  "0.0",
                  "0.0",
                  "0.0",
                  "0.0",
                  "0.0",
                  "0.0",
                  "0.0",
                  "0.0",
                  "0.0",
                  "0.0",
                  "0.0",
                  "0.0",
                  "0.0",
                  "0.0",
                  "0.0",
                  "0.0",
                  "0.0",
                  "0.0",
                  "0.0",
                  "0.0",
                  "0.0",
                  "0.0",
                  "0.0",
                  "0.0",
                  "0.0",
                  "0.0",
                  "0.0",
                  "0.0",
                  "0.0",
                  "0.0",
                  "0.0",
                  "0.0",
                  "0.0",
                  "0.0",
                  "0.0",
                  "0.0",
                  "0.0",
                  "0.0",
                  "0.0",
                  "0.0",
                  "0.0",
                  "0.0",
                  "0.0",
                  "0.0",
                  "0.0",
                  "0.0",
                  "0.0",
                  "0.0",
                  "0.0",
                  "0.0",
                  "0.0",
                  "0.0",
                  "0.0",
                  "0.0",
                  "0.0",
                  "0.0",
                  "0.0",
                  "0.0",
                  "0.0",
                  "0.0",
                  "0.0",
                  "0.0",
                  "0.0",
                  "0.0",
                  "0.0",
                  "0.0",
                  "0.0",
                  "0.0",
                  "0.0",
                  "0.0",
                  "0.0",
                  "0.0",
                  "0.0",
                  "0.0",
                  "0.0",
                  "0.0",
                  "0.0",
                  "0.0",
                  "0.0",
                  "0.0",
                  "0.0",
                  "0.0",
                  "0.0",
                  "0.0",
                  "0.0",
                  "0.0",
                  "0.0",
                  "0.0",
                  "0.0",
                  "0.0",
                  "0.0",
                  "0.0",
                  "0.0",
                  "0.0",
                  "0.0",
                  "0.0",
                  "0.0",
                  "0.0",
                  "0.0",
                  "0.0",
                  "0.0",
                  "0.0",
                  "0.0",
                  "0.0",
                  "0.0",
                  "0.0",
                  "0.0",
                  "0.0",
                  "0.0",
                  "0.0",
                  "0.0",
                  "0.0",
                  "0.0",
                  "0.0",
                  "0.0",
                  "0.0",
                  "0.0",
                  "0.0",
                  "0.0",
                  "0.0",
                  "0.0",
                  "0.0",
                  "0.0",
                  "0.0",
                  "0.0",
                  "0.0",
                  "0.0",
                  "0.0",
                  "0.0",
                  "0.0",
                  "0.0",
                  "0.0",
                  "0.0",
                  "0.0",
                  "0.0",
                  "0.0",
                  "0.0",
                  "0.0",
                  "0.0",
                  "0.0",
                  "0.0",
                  "0.0",
                  "0.0",
                  "0.0",
                  "0.0",
                  "0.0",
                  "0.0",
                  "0.0",
                  "0.0",
                  "0.0",
                  "0.0",
                  "0.0",
                  "0.0",
                  "0.0",
                  "0.0",
                  "0.0",
                  "0.0",
                  "0.0",
                  "0.0",
                  "0.0",
                  "0.0",
                  "0.0",
                  "0.0",
                  "0.0",
                  "0.0",
                  "0.0",
                  "0.0",
                  "0.0",
                  "0.0",
                  "0.0",
                  "0.0",
                  "0.0",
                  "0.0",
                  "0.0",
                  "0.0",
                  "0.0",
                  "0.0",
                  "0.0",
                  "0.0",
                  "0.0",
                  "0.0",
                  "0.0",
                  "0.0",
                  "0.0",
                  "0.0",
                  "0.0",
                  "0.0",
                  "0.0",
                  "0.0",
                  "0.0",
                  "0.0",
                  "0.0",
                  "0.0",
                  "0.0",
                  "0.0",
                  "0.0",
                  "0.0",
                  "0.0",
                  "0.0",
                  "0.0",
                  "0.0",
                  "0.0",
                  "0.0",
                  "0.0",
                  "0.0",
                  "0.0",
                  "0.0",
                  "0.0",
                  "0.0",
                  "0.0",
                  "0.0",
                  "0.0",
                  "0.0",
                  "0.0",
                  "0.0",
                  "0.0",
                  "0.0",
                  "0.0",
                  "0.0",
                  "0.0",
                  "0.0",
                  "0.0",
                  "0.0",
                  "0.0",
                  "0.0",
                  "0.0",
                  "0.0",
                  "0.0",
                  "0.0",
                  "0.0",
                  "0.0",
                  "0.0",
                  "0.0",
                  "0.0",
                  "0.0",
                  "0.0",
                  "0.0",
                  "0.0",
                  "0.0",
                  "0.0",
                  "0.0",
                  "0.0",
                  "0.0",
                  "0.0",
                  "0.0",
                  "0.0",
                  "0.0",
                  "0.0",
                  "0.0",
                  "0.0",
                  "0.0",
                  "0.0",
                  "0.0",
                  "0.0",
                  "0.0",
                  "0.0",
                  "0.0",
                  "0.0",
                  "0.0",
                  "0.0",
                  "0.0",
                  "0.0",
                  "0.0",
                  "0.0",
                  "0.0",
                  "0.0",
                  "0.0",
                  "0.0",
                  "0.0",
                  "0.0",
                  "0.0",
                  "0.0",
                  "0.0",
                  "0.0",
                  "0.0",
                  "0.0",
                  "0.0",
                  "0.0",
                  "0.0",
                  "0.0",
                  "0.0",
                  "0.0",
                  "0.0",
                  "0.0",
                  "0.0",
                  "0.0",
                  "0.0",
                  "0.0",
                  "0.0",
                  "0.0",
                  "0.0",
                  "0.0",
                  "0.0",
                  "0.0",
                  "0.0",
                  "0.0",
                  "0.0",
                  "0.0",
                  "0.0",
                  "0.0",
                  "0.0",
                  "0.0",
                  "0.0",
                  "0.0",
                  "0.0",
                  "0.0",
                  "0.0",
                  "0.0",
                  "0.0",
                  "0.0",
                  "0.0",
                  "0.0",
                  "0.0",
                  "0.0",
                  "0.0",
                  "0.0",
                  "0.0",
                  "0.0",
                  "0.0",
                  "0.0",
                  "0.0",
                  "0.0",
                  "0.0",
                  "0.0",
                  "0.0",
                  "0.0",
                  "0.0",
                  "0.0",
                  "0.0",
                  "0.0",
                  "0.0",
                  "0.0",
                  "0.0",
                  "0.0",
                  "0.0",
                  "0.0",
                  "0.0",
                  "0.0",
                  "0.0",
                  "0.0",
                  "0.0",
                  "0.0",
                  "0.0",
                  "0.0",
                  "0.0",
                  "0.0",
                  "0.0",
                  "0.0",
                  "0.0",
                  "0.0",
                  "0.0",
                  "0.0",
                  "0.0",
                  "0.0",
                  "0.0",
                  "0.0",
                  "0.0",
                  "0.0",
                  "0.0",
                  "0.0",
                  "0.0",
                  "0.0",
                  "0.0",
                  "0.0",
                  "0.0",
                  "0.0",
                  "0.0",
                  "0.0",
                  "0.0",
                  "0.0",
                  "0.0",
                  "0.0",
                  "0.0",
                  "0.0",
                  "0.0",
                  "0.0",
                  "0.0",
                  "0.0",
                  "0.0",
                  "0.0",
                  "0.0",
                  "0.0",
                  "0.0",
                  "0.0",
                  "0.0",
                  "0.0",
                  "0.0",
                  "0.0",
                  "0.0",
                  "0.0",
                  "0.0",
                  "0.0",
                  "0.0",
                  "0.0",
                  "0.0",
                  "0.0",
                  "0.0",
                  "0.0",
                  "0.0",
                  "0.0",
                  "0.0",
                  "0.0",
                  "0.0",
                  "0.0",
                  "0.0",
                  "0.0",
                  "0.0",
                  "0.0",
                  "0.0",
                  "0.0",
                  "0.0",
                  "0.0",
                  "0.0",
                  "0.0",
                  "0.0",
                  "0.0",
                  "0.0",
                  "0.0",
                  "0.0",
                  "0.0",
                  "0.0",
                  "0.0",
                  "0.0",
                  "0.0",
                  "0.0",
                  "0.0",
                  "0.0",
                  "0.0",
                  "0.0",
                  "0.0",
                  "0.0",
                  "0.0",
                  "0.0",
                  "0.0",
                  "0.0",
                  "0.0",
                  "0.0",
                  "0.0",
                  "0.0",
                  "0.0",
                  "0.0",
                  "0.0",
                  "0.0",
                  "0.0",
                  "0.0",
                  "0.0",
                  "0.0",
                  "0.0",
                  "0.0",
                  "0.0",
                  "0.0",
                  "0.0",
                  "0.0",
                  "0.0",
                  "0.0",
                  "0.0",
                  "0.0",
                  "0.0",
                  "0.0",
                  "0.0",
                  "0.0",
                  "0.0",
                  "0.0",
                  "0.0",
                  "0.0",
                  "0.0",
                  "0.0",
                  "0.0",
                  "0.0",
                  "0.0",
                  "0.0",
                  "0.0",
                  "0.0",
                  "0.0",
                  "0.0",
                  "0.0",
                  "0.0",
                  "0.0",
                  "0.0",
                  "0.0",
                  "0.0",
                  "0.0",
                  "0.0",
                  "0.0",
                  "0.0",
                  "0.0",
                  "0.0",
                  "0.0",
                  "0.0",
                  "0.0",
                  "0.0",
                  "0.0",
                  "0.0",
                  "0.0",
                  "0.0",
                  "0.0",
                  "0.0",
                  "0.0",
                  "0.0",
                  "0.0",
                  "0.0",
                  "0.0",
                  "0.0",
                  "0.0",
                  "0.0",
                  "0.0",
                  "0.0",
                  "0.0",
                  "0.0",
                  "0.0",
                  "0.0",
                  "0.0",
                  "0.0",
                  "0.0",
                  "0.0",
                  "0.0",
                  "0.0",
                  "0.0",
                  "0.0",
                  "0.0",
                  "0.0",
                  "0.0",
                  "0.0",
                  "0.0",
                  "0.0",
                  "0.0",
                  "0.0",
                  "0.0",
                  "0.0",
                  "0.0",
                  "0.0",
                  "0.0",
                  "0.0",
                  "0.0",
                  "0.0",
                  "0.0",
                  "0.0",
                  "0.0",
                  "0.0",
                  "0.0",
                  "0.0",
                  "0.0",
                  "0.0",
                  "0.0",
                  "0.0",
                  "0.0",
                  "0.0",
                  "0.0",
                  "0.0",
                  "1.0",
                  "0.0",
                  "0.0",
                  "0.0",
                  "0.0",
                  "0.0",
                  "0.0",
                  "0.0",
                  "0.0",
                  "0.0",
                  "0.0",
                  "0.0",
                  "0.0",
                  "0.0",
                  "0.0",
                  "0.0",
                  "0.0",
                  "0.0",
                  "0.0",
                  "0.0",
                  "0.0",
                  "0.0",
                  "0.0",
                  "0.0",
                  "0.0",
                  "0.0",
                  "0.0",
                  "0.0",
                  "0.0",
                  "0.0",
                  "0.0",
                  "0.0",
                  "0.0",
                  "0.0",
                  "0.0",
                  "0.0",
                  "0.0",
                  "0.0",
                  "0.0",
                  "0.0",
                  "0.0",
                  "0.0",
                  "0.0",
                  "0.0",
                  "0.0",
                  "0.0",
                  "0.0",
                  "0.0",
                  "0.0",
                  "0.0"
                ],
                [
                  "1",
                  "4",
                  "3.0",
                  "0.0",
                  "0.0",
                  "0.0",
                  "0.0",
                  "0.0",
                  "0.0",
                  "0.0",
                  "0.0",
                  "0.0",
                  "0.0",
                  "0.0",
                  "0.0",
                  "0.0",
                  "0.0",
                  "0.0",
                  "0.0",
                  "0.0",
                  "0.0",
                  "0.0",
                  "0.0",
                  "0.0",
                  "0.0",
                  "0.0",
                  "0.0",
                  "0.0",
                  "0.0",
                  "0.0",
                  "0.0",
                  "0.0",
                  "0.0",
                  "0.0",
                  "0.0",
                  "0.0",
                  "0.0",
                  "0.0",
                  "0.0",
                  "0.0",
                  "0.0",
                  "0.0",
                  "0.0",
                  "0.0",
                  "0.0",
                  "0.0",
                  "0.0",
                  "0.0",
                  "0.0",
                  "0.0",
                  "0.0",
                  "0.0",
                  "0.0",
                  "0.0",
                  "0.0",
                  "0.0",
                  "0.0",
                  "0.0",
                  "0.0",
                  "0.0",
                  "0.0",
                  "0.0",
                  "0.0",
                  "0.0",
                  "0.0",
                  "0.0",
                  "0.0",
                  "0.0",
                  "0.0",
                  "0.0",
                  "0.0",
                  "0.0",
                  "0.0",
                  "0.0",
                  "0.0",
                  "0.0",
                  "0.0",
                  "0.0",
                  "0.0",
                  "0.0",
                  "0.0",
                  "0.0",
                  "0.0",
                  "0.0",
                  "0.0",
                  "0.0",
                  "0.0",
                  "0.0",
                  "0.0",
                  "0.0",
                  "0.0",
                  "0.0",
                  "0.0",
                  "0.0",
                  "0.0",
                  "0.0",
                  "0.0",
                  "0.0",
                  "0.0",
                  "0.0",
                  "0.0",
                  "0.0",
                  "0.0",
                  "0.0",
                  "0.0",
                  "0.0",
                  "0.0",
                  "0.0",
                  "0.0",
                  "0.0",
                  "0.0",
                  "0.0",
                  "1.0",
                  "0.0",
                  "0.0",
                  "0.0",
                  "0.0",
                  "0.0",
                  "0.0",
                  "0.0",
                  "0.0",
                  "0.0",
                  "0.0",
                  "0.0",
                  "0.0",
                  "0.0",
                  "0.0",
                  "0.0",
                  "0.0",
                  "0.0",
                  "0.0",
                  "0.0",
                  "0.0",
                  "0.0",
                  "0.0",
                  "0.0",
                  "0.0",
                  "0.0",
                  "0.0",
                  "0.0",
                  "0.0",
                  "0.0",
                  "0.0",
                  "0.0",
                  "0.0",
                  "0.0",
                  "0.0",
                  "0.0",
                  "0.0",
                  "0.0",
                  "0.0",
                  "0.0",
                  "0.0",
                  "0.0",
                  "0.0",
                  "0.0",
                  "0.0",
                  "0.0",
                  "0.0",
                  "0.0",
                  "0.0",
                  "0.0",
                  "0.0",
                  "0.0",
                  "0.0",
                  "0.0",
                  "0.0",
                  "0.0",
                  "0.0",
                  "0.0",
                  "0.0",
                  "0.0",
                  "0.0",
                  "0.0",
                  "0.0",
                  "0.0",
                  "0.0",
                  "0.0",
                  "0.0",
                  "0.0",
                  "0.0",
                  "0.0",
                  "0.0",
                  "0.0",
                  "0.0",
                  "0.0",
                  "0.0",
                  "0.0",
                  "0.0",
                  "0.0",
                  "0.0",
                  "0.0",
                  "0.0",
                  "0.0",
                  "0.0",
                  "0.0",
                  "0.0",
                  "0.0",
                  "0.0",
                  "0.0",
                  "0.0",
                  "0.0",
                  "0.0",
                  "0.0",
                  "0.0",
                  "0.0",
                  "0.0",
                  "0.0",
                  "0.0",
                  "0.0",
                  "0.0",
                  "0.0",
                  "0.0",
                  "0.0",
                  "0.0",
                  "0.0",
                  "0.0",
                  "0.0",
                  "0.0",
                  "0.0",
                  "0.0",
                  "0.0",
                  "0.0",
                  "0.0",
                  "0.0",
                  "0.0",
                  "0.0",
                  "0.0",
                  "0.0",
                  "0.0",
                  "0.0",
                  "0.0",
                  "0.0",
                  "0.0",
                  "0.0",
                  "0.0",
                  "0.0",
                  "0.0",
                  "0.0",
                  "0.0",
                  "0.0",
                  "0.0",
                  "0.0",
                  "0.0",
                  "0.0",
                  "0.0",
                  "0.0",
                  "0.0",
                  "0.0",
                  "0.0",
                  "0.0",
                  "0.0",
                  "0.0",
                  "0.0",
                  "0.0",
                  "0.0",
                  "0.0",
                  "0.0",
                  "0.0",
                  "0.0",
                  "0.0",
                  "0.0",
                  "0.0",
                  "0.0",
                  "0.0",
                  "0.0",
                  "0.0",
                  "0.0",
                  "0.0",
                  "0.0",
                  "0.0",
                  "0.0",
                  "0.0",
                  "0.0",
                  "0.0",
                  "0.0",
                  "0.0",
                  "0.0",
                  "0.0",
                  "0.0",
                  "0.0",
                  "0.0",
                  "0.0",
                  "0.0",
                  "0.0",
                  "0.0",
                  "0.0",
                  "0.0",
                  "0.0",
                  "0.0",
                  "0.0",
                  "0.0",
                  "0.0",
                  "0.0",
                  "0.0",
                  "0.0",
                  "0.0",
                  "0.0",
                  "0.0",
                  "0.0",
                  "0.0",
                  "0.0",
                  "0.0",
                  "0.0",
                  "0.0",
                  "0.0",
                  "0.0",
                  "0.0",
                  "0.0",
                  "0.0",
                  "0.0",
                  "0.0",
                  "0.0",
                  "0.0",
                  "0.0",
                  "0.0",
                  "0.0",
                  "0.0",
                  "0.0",
                  "0.0",
                  "0.0",
                  "0.0",
                  "0.0",
                  "0.0",
                  "0.0",
                  "0.0",
                  "0.0",
                  "0.0",
                  "0.0",
                  "0.0",
                  "0.0",
                  "0.0",
                  "0.0",
                  "0.0",
                  "0.0",
                  "0.0",
                  "0.0",
                  "0.0",
                  "0.0",
                  "0.0",
                  "0.0",
                  "0.0",
                  "0.0",
                  "0.0",
                  "0.0",
                  "0.0",
                  "0.0",
                  "0.0",
                  "0.0",
                  "0.0",
                  "0.0",
                  "0.0",
                  "0.0",
                  "0.0",
                  "0.0",
                  "0.0",
                  "0.0",
                  "0.0",
                  "0.0",
                  "0.0",
                  "0.0",
                  "0.0",
                  "0.0",
                  "0.0",
                  "0.0",
                  "0.0",
                  "0.0",
                  "0.0",
                  "0.0",
                  "0.0",
                  "0.0",
                  "0.0",
                  "0.0",
                  "0.0",
                  "0.0",
                  "0.0",
                  "0.0",
                  "0.0",
                  "0.0",
                  "0.0",
                  "0.0",
                  "0.0",
                  "0.0",
                  "0.0",
                  "0.0",
                  "0.0",
                  "0.0",
                  "0.0",
                  "0.0",
                  "0.0",
                  "0.0",
                  "0.0",
                  "0.0",
                  "0.0",
                  "0.0",
                  "0.0",
                  "0.0",
                  "0.0",
                  "0.0",
                  "0.0",
                  "0.0",
                  "0.0",
                  "0.0",
                  "0.0",
                  "0.0",
                  "0.0",
                  "0.0",
                  "0.0",
                  "0.0",
                  "0.0",
                  "0.0",
                  "0.0",
                  "0.0",
                  "0.0",
                  "0.0",
                  "0.0",
                  "0.0",
                  "0.0",
                  "0.0",
                  "0.0",
                  "0.0",
                  "0.0",
                  "0.0",
                  "0.0",
                  "0.0",
                  "0.0",
                  "0.0",
                  "0.0",
                  "0.0",
                  "0.0",
                  "0.0",
                  "0.0",
                  "0.0",
                  "0.0",
                  "0.0",
                  "0.0",
                  "0.0",
                  "0.0",
                  "0.0",
                  "0.0",
                  "0.0",
                  "0.0",
                  "0.0",
                  "0.0",
                  "0.0",
                  "0.0",
                  "0.0",
                  "0.0",
                  "0.0",
                  "0.0",
                  "0.0",
                  "0.0",
                  "0.0",
                  "0.0",
                  "0.0",
                  "0.0",
                  "0.0",
                  "0.0",
                  "0.0",
                  "0.0",
                  "0.0",
                  "0.0",
                  "0.0",
                  "0.0",
                  "0.0",
                  "0.0",
                  "0.0",
                  "0.0",
                  "0.0",
                  "0.0",
                  "0.0",
                  "0.0",
                  "0.0",
                  "0.0",
                  "0.0",
                  "0.0",
                  "0.0",
                  "0.0",
                  "0.0",
                  "0.0",
                  "0.0",
                  "0.0",
                  "0.0",
                  "0.0",
                  "0.0",
                  "0.0",
                  "0.0",
                  "0.0",
                  "0.0",
                  "0.0",
                  "0.0",
                  "0.0",
                  "0.0",
                  "0.0",
                  "0.0",
                  "0.0",
                  "0.0",
                  "0.0",
                  "0.0",
                  "0.0",
                  "0.0",
                  "0.0",
                  "0.0",
                  "0.0",
                  "0.0",
                  "0.0",
                  "0.0",
                  "0.0",
                  "0.0",
                  "0.0",
                  "0.0",
                  "0.0",
                  "0.0",
                  "0.0",
                  "0.0",
                  "0.0",
                  "0.0",
                  "0.0",
                  "0.0",
                  "0.0",
                  "0.0",
                  "0.0",
                  "0.0",
                  "0.0",
                  "0.0",
                  "0.0",
                  "0.0",
                  "0.0",
                  "0.0",
                  "0.0",
                  "0.0",
                  "0.0",
                  "0.0",
                  "0.0",
                  "0.0",
                  "0.0",
                  "0.0",
                  "0.0",
                  "0.0",
                  "0.0",
                  "0.0",
                  "0.0",
                  "0.0",
                  "0.0",
                  "0.0",
                  "0.0",
                  "0.0",
                  "0.0",
                  "0.0",
                  "0.0",
                  "0.0",
                  "0.0",
                  "0.0",
                  "0.0",
                  "0.0",
                  "0.0",
                  "0.0",
                  "0.0",
                  "0.0",
                  "0.0",
                  "0.0",
                  "0.0",
                  "0.0",
                  "0.0",
                  "0.0",
                  "0.0",
                  "0.0",
                  "0.0",
                  "0.0",
                  "0.0",
                  "0.0",
                  "0.0",
                  "0.0",
                  "0.0",
                  "0.0",
                  "0.0",
                  "0.0",
                  "0.0",
                  "0.0",
                  "0.0",
                  "0.0",
                  "0.0",
                  "0.0",
                  "0.0",
                  "0.0",
                  "0.0",
                  "0.0",
                  "0.0",
                  "0.0",
                  "0.0",
                  "0.0",
                  "0.0",
                  "0.0",
                  "0.0",
                  "0.0",
                  "0.0",
                  "0.0",
                  "0.0",
                  "0.0",
                  "0.0",
                  "0.0",
                  "0.0",
                  "0.0",
                  "0.0",
                  "0.0",
                  "0.0",
                  "0.0",
                  "0.0",
                  "0.0",
                  "0.0",
                  "0.0",
                  "0.0",
                  "0.0",
                  "0.0",
                  "0.0",
                  "0.0",
                  "0.0",
                  "0.0",
                  "0.0",
                  "0.0",
                  "0.0",
                  "0.0",
                  "0.0",
                  "0.0",
                  "0.0",
                  "0.0",
                  "0.0",
                  "0.0",
                  "0.0",
                  "0.0",
                  "0.0",
                  "0.0",
                  "0.0",
                  "0.0",
                  "0.0",
                  "0.0",
                  "0.0",
                  "0.0",
                  "0.0",
                  "0.0",
                  "0.0",
                  "0.0",
                  "0.0",
                  "0.0",
                  "0.0",
                  "0.0",
                  "0.0",
                  "0.0",
                  "0.0",
                  "0.0",
                  "0.0",
                  "0.0",
                  "0.0",
                  "0.0",
                  "0.0",
                  "0.0",
                  "0.0",
                  "0.0",
                  "0.0",
                  "0.0",
                  "0.0",
                  "0.0",
                  "0.0",
                  "0.0",
                  "0.0",
                  "0.0",
                  "0.0",
                  "0.0",
                  "0.0",
                  "0.0",
                  "0.0",
                  "0.0",
                  "0.0",
                  "0.0",
                  "0.0",
                  "0.0",
                  "0.0",
                  "1.0",
                  "0.0",
                  "0.0",
                  "0.0",
                  "0.0",
                  "0.0",
                  "0.0",
                  "0.0",
                  "0.0",
                  "0.0",
                  "0.0",
                  "0.0",
                  "0.0",
                  "0.0",
                  "0.0",
                  "0.0",
                  "0.0",
                  "0.0",
                  "0.0",
                  "0.0",
                  "0.0",
                  "0.0",
                  "0.0",
                  "0.0",
                  "0.0",
                  "0.0",
                  "0.0",
                  "0.0",
                  "0.0",
                  "0.0",
                  "0.0",
                  "0.0",
                  "0.0",
                  "0.0",
                  "0.0",
                  "0.0",
                  "0.0",
                  "0.0",
                  "0.0",
                  "0.0",
                  "0.0",
                  "0.0",
                  "0.0",
                  "0.0",
                  "0.0",
                  "0.0",
                  "0.0",
                  "0.0",
                  "0.0",
                  "0.0",
                  "0.0",
                  "0.0",
                  "0.0",
                  "0.0",
                  "0.0",
                  "0.0",
                  "0.0",
                  "0.0",
                  "0.0",
                  "0.0",
                  "0.0",
                  "0.0",
                  "0.0",
                  "0.0",
                  "0.0",
                  "0.0",
                  "0.0",
                  "0.0",
                  "0.0",
                  "0.0",
                  "0.0",
                  "0.0",
                  "0.0",
                  "0.0",
                  "0.0",
                  "0.0",
                  "0.0",
                  "0.0",
                  "0.0",
                  "0.0",
                  "0.0",
                  "0.0",
                  "0.0",
                  "0.0",
                  "0.0",
                  "0.0",
                  "0.0",
                  "0.0",
                  "0.0",
                  "0.0",
                  "0.0",
                  "0.0",
                  "0.0",
                  "0.0",
                  "0.0",
                  "0.0",
                  "0.0",
                  "0.0",
                  "0.0",
                  "0.0",
                  "0.0",
                  "0.0",
                  "0.0",
                  "0.0",
                  "0.0",
                  "0.0",
                  "0.0",
                  "0.0",
                  "0.0",
                  "0.0",
                  "0.0",
                  "0.0",
                  "0.0",
                  "0.0",
                  "0.0",
                  "0.0",
                  "0.0",
                  "0.0",
                  "0.0",
                  "0.0",
                  "0.0",
                  "0.0",
                  "0.0",
                  "0.0",
                  "0.0",
                  "0.0",
                  "0.0",
                  "0.0",
                  "0.0",
                  "0.0",
                  "0.0",
                  "0.0",
                  "0.0",
                  "0.0",
                  "0.0"
                ],
                [
                  "2",
                  "23",
                  "0.0",
                  "0.0",
                  "0.0",
                  "0.0",
                  "0.0",
                  "0.0",
                  "0.0",
                  "0.0",
                  "0.0",
                  "0.0",
                  "0.0",
                  "0.0",
                  "0.0",
                  "0.0",
                  "0.0",
                  "0.0",
                  "0.0",
                  "0.0",
                  "0.0",
                  "0.0",
                  "0.0",
                  "0.0",
                  "0.0",
                  "0.0",
                  "0.0",
                  "0.0",
                  "0.0",
                  "0.0",
                  "0.0",
                  "0.0",
                  "0.0",
                  "0.0",
                  "0.0",
                  "0.0",
                  "0.0",
                  "0.0",
                  "0.0",
                  "0.0",
                  "0.0",
                  "0.0",
                  "0.0",
                  "0.0",
                  "0.0",
                  "0.0",
                  "0.0",
                  "0.0",
                  "0.0",
                  "0.0",
                  "0.0",
                  "0.0",
                  "0.0",
                  "0.0",
                  "0.0",
                  "0.0",
                  "0.0",
                  "0.0",
                  "0.0",
                  "0.0",
                  "0.0",
                  "0.0",
                  "0.0",
                  "0.0",
                  "0.0",
                  "0.0",
                  "0.0",
                  "0.0",
                  "0.0",
                  "0.0",
                  "0.0",
                  "0.0",
                  "0.0",
                  "0.0",
                  "0.0",
                  "0.0",
                  "0.0",
                  "0.0",
                  "0.0",
                  "0.0",
                  "0.0",
                  "0.0",
                  "0.0",
                  "0.0",
                  "0.0",
                  "0.0",
                  "0.0",
                  "0.0",
                  "0.0",
                  "0.0",
                  "0.0",
                  "0.0",
                  "0.0",
                  "0.0",
                  "0.0",
                  "0.0",
                  "0.0",
                  "0.0",
                  "0.0",
                  "0.0",
                  "0.0",
                  "0.0",
                  "0.0",
                  "0.0",
                  "0.0",
                  "0.0",
                  "0.0",
                  "0.0",
                  "0.0",
                  "0.0",
                  "0.0",
                  "0.0",
                  "0.0",
                  "0.0",
                  "0.0",
                  "0.0",
                  "0.0",
                  "0.0",
                  "0.0",
                  "0.0",
                  "0.0",
                  "0.0",
                  "0.0",
                  "0.0",
                  "0.0",
                  "0.0",
                  "0.0",
                  "0.0",
                  "0.0",
                  "0.0",
                  "0.0",
                  "0.0",
                  "0.0",
                  "0.0",
                  "0.0",
                  "0.0",
                  "0.0",
                  "0.0",
                  "0.0",
                  "0.0",
                  "0.0",
                  "0.0",
                  "0.0",
                  "0.0",
                  "0.0",
                  "0.0",
                  "0.0",
                  "0.0",
                  "0.0",
                  "0.0",
                  "0.0",
                  "0.0",
                  "0.0",
                  "0.0",
                  "0.0",
                  "1.0",
                  "0.0",
                  "0.0",
                  "0.0",
                  "0.0",
                  "0.0",
                  "0.0",
                  "0.0",
                  "0.0",
                  "0.0",
                  "0.0",
                  "0.0",
                  "0.0",
                  "0.0",
                  "0.0",
                  "0.0",
                  "0.0",
                  "0.0",
                  "0.0",
                  "0.0",
                  "0.0",
                  "0.0",
                  "0.0",
                  "0.0",
                  "0.0",
                  "0.0",
                  "0.0",
                  "0.0",
                  "0.0",
                  "0.0",
                  "0.0",
                  "0.0",
                  "0.0",
                  "0.0",
                  "0.0",
                  "0.0",
                  "0.0",
                  "0.0",
                  "0.0",
                  "0.0",
                  "0.0",
                  "0.0",
                  "0.0",
                  "0.0",
                  "0.0",
                  "0.0",
                  "0.0",
                  "0.0",
                  "0.0",
                  "0.0",
                  "0.0",
                  "0.0",
                  "0.0",
                  "0.0",
                  "0.0",
                  "0.0",
                  "0.0",
                  "0.0",
                  "0.0",
                  "0.0",
                  "0.0",
                  "0.0",
                  "0.0",
                  "0.0",
                  "0.0",
                  "0.0",
                  "0.0",
                  "0.0",
                  "0.0",
                  "0.0",
                  "0.0",
                  "0.0",
                  "0.0",
                  "0.0",
                  "0.0",
                  "0.0",
                  "0.0",
                  "0.0",
                  "0.0",
                  "0.0",
                  "0.0",
                  "0.0",
                  "0.0",
                  "0.0",
                  "0.0",
                  "0.0",
                  "0.0",
                  "0.0",
                  "0.0",
                  "0.0",
                  "0.0",
                  "0.0",
                  "0.0",
                  "0.0",
                  "0.0",
                  "0.0",
                  "0.0",
                  "0.0",
                  "0.0",
                  "0.0",
                  "0.0",
                  "0.0",
                  "0.0",
                  "0.0",
                  "0.0",
                  "0.0",
                  "0.0",
                  "0.0",
                  "0.0",
                  "0.0",
                  "0.0",
                  "0.0",
                  "0.0",
                  "0.0",
                  "0.0",
                  "0.0",
                  "0.0",
                  "0.0",
                  "0.0",
                  "0.0",
                  "0.0",
                  "0.0",
                  "0.0",
                  "0.0",
                  "0.0",
                  "0.0",
                  "0.0",
                  "0.0",
                  "0.0",
                  "0.0",
                  "0.0",
                  "0.0",
                  "0.0",
                  "0.0",
                  "0.0",
                  "0.0",
                  "0.0",
                  "0.0",
                  "0.0",
                  "0.0",
                  "0.0",
                  "0.0",
                  "0.0",
                  "0.0",
                  "0.0",
                  "0.0",
                  "0.0",
                  "0.0",
                  "0.0",
                  "0.0",
                  "0.0",
                  "0.0",
                  "0.0",
                  "0.0",
                  "0.0",
                  "0.0",
                  "0.0",
                  "0.0",
                  "0.0",
                  "0.0",
                  "0.0",
                  "0.0",
                  "0.0",
                  "0.0",
                  "0.0",
                  "0.0",
                  "0.0",
                  "0.0",
                  "0.0",
                  "0.0",
                  "0.0",
                  "0.0",
                  "0.0",
                  "0.0",
                  "0.0",
                  "0.0",
                  "0.0",
                  "0.0",
                  "0.0",
                  "0.0",
                  "0.0",
                  "0.0",
                  "0.0",
                  "0.0",
                  "0.0",
                  "0.0",
                  "0.0",
                  "0.0",
                  "0.0",
                  "0.0",
                  "0.0",
                  "0.0",
                  "0.0",
                  "0.0",
                  "0.0",
                  "0.0",
                  "0.0",
                  "0.0",
                  "0.0",
                  "0.0",
                  "0.0",
                  "0.0",
                  "0.0",
                  "0.0",
                  "0.0",
                  "0.0",
                  "0.0",
                  "0.0",
                  "0.0",
                  "0.0",
                  "0.0",
                  "0.0",
                  "0.0",
                  "0.0",
                  "0.0",
                  "0.0",
                  "0.0",
                  "0.0",
                  "0.0",
                  "0.0",
                  "0.0",
                  "0.0",
                  "0.0",
                  "0.0",
                  "0.0",
                  "0.0",
                  "0.0",
                  "0.0",
                  "0.0",
                  "0.0",
                  "0.0",
                  "0.0",
                  "0.0",
                  "0.0",
                  "0.0",
                  "0.0",
                  "0.0",
                  "0.0",
                  "0.0",
                  "0.0",
                  "0.0",
                  "0.0",
                  "0.0",
                  "0.0",
                  "0.0",
                  "0.0",
                  "0.0",
                  "0.0",
                  "0.0",
                  "0.0",
                  "0.0",
                  "0.0",
                  "0.0",
                  "0.0",
                  "0.0",
                  "0.0",
                  "0.0",
                  "0.0",
                  "0.0",
                  "0.0",
                  "0.0",
                  "0.0",
                  "0.0",
                  "0.0",
                  "0.0",
                  "0.0",
                  "0.0",
                  "0.0",
                  "0.0",
                  "0.0",
                  "0.0",
                  "0.0",
                  "0.0",
                  "0.0",
                  "0.0",
                  "0.0",
                  "0.0",
                  "0.0",
                  "0.0",
                  "0.0",
                  "0.0",
                  "0.0",
                  "0.0",
                  "0.0",
                  "0.0",
                  "0.0",
                  "0.0",
                  "0.0",
                  "0.0",
                  "0.0",
                  "0.0",
                  "0.0",
                  "0.0",
                  "0.0",
                  "0.0",
                  "0.0",
                  "0.0",
                  "0.0",
                  "0.0",
                  "0.0",
                  "0.0",
                  "0.0",
                  "0.0",
                  "0.0",
                  "0.0",
                  "0.0",
                  "0.0",
                  "0.0",
                  "0.0",
                  "0.0",
                  "0.0",
                  "0.0",
                  "0.0",
                  "0.0",
                  "0.0",
                  "0.0",
                  "0.0",
                  "0.0",
                  "0.0",
                  "0.0",
                  "0.0",
                  "0.0",
                  "0.0",
                  "0.0",
                  "0.0",
                  "1.0",
                  "0.0",
                  "0.0",
                  "0.0",
                  "0.0",
                  "0.0",
                  "0.0",
                  "0.0",
                  "0.0",
                  "0.0",
                  "0.0",
                  "0.0",
                  "0.0",
                  "0.0",
                  "0.0",
                  "0.0",
                  "0.0",
                  "0.0",
                  "0.0",
                  "0.0",
                  "0.0",
                  "0.0",
                  "0.0",
                  "0.0",
                  "0.0",
                  "0.0",
                  "0.0",
                  "0.0",
                  "0.0",
                  "0.0",
                  "0.0",
                  "0.0",
                  "0.0",
                  "0.0",
                  "0.0",
                  "0.0",
                  "0.0",
                  "0.0",
                  "0.0",
                  "0.0",
                  "0.0",
                  "0.0",
                  "0.0",
                  "0.0",
                  "0.0",
                  "0.0",
                  "0.0",
                  "0.0",
                  "0.0",
                  "0.0",
                  "0.0",
                  "0.0",
                  "0.0",
                  "0.0",
                  "0.0",
                  "0.0",
                  "0.0",
                  "0.0",
                  "0.0",
                  "0.0",
                  "0.0",
                  "0.0",
                  "0.0",
                  "0.0",
                  "0.0",
                  "0.0",
                  "0.0",
                  "0.0",
                  "0.0",
                  "0.0",
                  "0.0",
                  "0.0",
                  "0.0",
                  "0.0",
                  "0.0",
                  "0.0",
                  "0.0",
                  "0.0",
                  "0.0",
                  "0.0",
                  "0.0",
                  "0.0",
                  "0.0",
                  "0.0",
                  "0.0",
                  "0.0",
                  "0.0",
                  "0.0",
                  "0.0",
                  "0.0",
                  "0.0",
                  "0.0",
                  "0.0",
                  "0.0",
                  "0.0",
                  "0.0",
                  "0.0",
                  "0.0",
                  "0.0",
                  "0.0",
                  "0.0",
                  "0.0",
                  "0.0",
                  "0.0",
                  "0.0",
                  "0.0",
                  "0.0",
                  "0.0",
                  "0.0",
                  "0.0",
                  "0.0",
                  "0.0",
                  "0.0",
                  "0.0",
                  "0.0",
                  "0.0",
                  "0.0",
                  "0.0",
                  "0.0",
                  "0.0",
                  "0.0",
                  "0.0",
                  "0.0",
                  "0.0",
                  "0.0",
                  "0.0",
                  "0.0",
                  "0.0",
                  "0.0",
                  "0.0",
                  "0.0",
                  "0.0",
                  "0.0",
                  "0.0",
                  "0.0",
                  "0.0",
                  "0.0",
                  "0.0",
                  "0.0",
                  "0.0",
                  "0.0",
                  "0.0",
                  "0.0",
                  "0.0",
                  "0.0",
                  "0.0",
                  "0.0",
                  "0.0",
                  "0.0",
                  "0.0",
                  "0.0",
                  "0.0",
                  "0.0",
                  "0.0",
                  "0.0",
                  "0.0",
                  "0.0",
                  "0.0",
                  "0.0",
                  "0.0",
                  "0.0",
                  "0.0",
                  "0.0",
                  "0.0",
                  "0.0",
                  "0.0",
                  "0.0",
                  "0.0",
                  "0.0",
                  "0.0",
                  "0.0",
                  "0.0",
                  "0.0",
                  "0.0",
                  "0.0",
                  "0.0",
                  "0.0",
                  "0.0",
                  "0.0",
                  "0.0",
                  "0.0",
                  "0.0",
                  "0.0",
                  "0.0",
                  "0.0",
                  "0.0",
                  "0.0",
                  "0.0",
                  "0.0",
                  "0.0",
                  "0.0",
                  "0.0",
                  "0.0",
                  "0.0",
                  "0.0",
                  "0.0",
                  "0.0",
                  "0.0",
                  "0.0",
                  "0.0",
                  "0.0",
                  "0.0",
                  "0.0",
                  "0.0",
                  "0.0",
                  "0.0",
                  "0.0",
                  "0.0",
                  "0.0",
                  "0.0",
                  "0.0",
                  "0.0",
                  "0.0",
                  "0.0",
                  "0.0",
                  "0.0",
                  "0.0",
                  "0.0",
                  "0.0",
                  "0.0",
                  "0.0",
                  "0.0",
                  "0.0",
                  "0.0",
                  "0.0",
                  "0.0",
                  "0.0",
                  "0.0",
                  "0.0",
                  "0.0",
                  "0.0",
                  "0.0",
                  "0.0",
                  "0.0",
                  "0.0",
                  "0.0",
                  "0.0",
                  "0.0",
                  "0.0",
                  "0.0",
                  "0.0",
                  "0.0",
                  "0.0",
                  "0.0",
                  "0.0",
                  "0.0",
                  "0.0",
                  "0.0",
                  "0.0",
                  "0.0",
                  "0.0",
                  "0.0",
                  "0.0",
                  "0.0",
                  "0.0",
                  "0.0",
                  "0.0",
                  "0.0",
                  "0.0",
                  "0.0",
                  "0.0",
                  "0.0",
                  "0.0",
                  "0.0",
                  "0.0",
                  "0.0",
                  "0.0",
                  "0.0",
                  "0.0",
                  "0.0",
                  "0.0",
                  "0.0",
                  "0.0",
                  "0.0",
                  "0.0",
                  "0.0",
                  "0.0",
                  "0.0",
                  "0.0",
                  "0.0",
                  "0.0",
                  "0.0",
                  "0.0",
                  "0.0",
                  "0.0",
                  "0.0",
                  "0.0",
                  "0.0",
                  "0.0",
                  "0.0",
                  "0.0",
                  "0.0",
                  "0.0",
                  "0.0",
                  "0.0",
                  "0.0",
                  "0.0",
                  "0.0",
                  "0.0",
                  "0.0",
                  "0.0",
                  "0.0",
                  "0.0",
                  "0.0",
                  "0.0",
                  "0.0",
                  "0.0",
                  "0.0",
                  "0.0",
                  "0.0",
                  "0.0",
                  "0.0",
                  "0.0",
                  "0.0",
                  "0.0",
                  "0.0",
                  "0.0",
                  "0.0",
                  "0.0",
                  "0.0",
                  "0.0",
                  "0.0",
                  "0.0",
                  "0.0",
                  "0.0",
                  "0.0",
                  "0.0",
                  "0.0",
                  "0.0",
                  "0.0",
                  "0.0",
                  "0.0"
                ],
                [
                  "3",
                  "3",
                  "15.0",
                  "0.0",
                  "0.0",
                  "0.0",
                  "0.0",
                  "0.0",
                  "0.0",
                  "0.0",
                  "0.0",
                  "0.0",
                  "0.0",
                  "0.0",
                  "0.0",
                  "0.0",
                  "0.0",
                  "0.0",
                  "0.0",
                  "0.0",
                  "0.0",
                  "0.0",
                  "0.0",
                  "0.0",
                  "0.0",
                  "0.0",
                  "0.0",
                  "0.0",
                  "0.0",
                  "0.0",
                  "0.0",
                  "0.0",
                  "0.0",
                  "0.0",
                  "0.0",
                  "0.0",
                  "0.0",
                  "0.0",
                  "0.0",
                  "0.0",
                  "0.0",
                  "0.0",
                  "0.0",
                  "0.0",
                  "0.0",
                  "0.0",
                  "0.0",
                  "0.0",
                  "0.0",
                  "0.0",
                  "0.0",
                  "0.0",
                  "0.0",
                  "0.0",
                  "0.0",
                  "0.0",
                  "0.0",
                  "0.0",
                  "0.0",
                  "0.0",
                  "0.0",
                  "0.0",
                  "0.0",
                  "0.0",
                  "0.0",
                  "0.0",
                  "0.0",
                  "0.0",
                  "0.0",
                  "0.0",
                  "0.0",
                  "0.0",
                  "0.0",
                  "0.0",
                  "0.0",
                  "0.0",
                  "0.0",
                  "0.0",
                  "0.0",
                  "0.0",
                  "0.0",
                  "0.0",
                  "0.0",
                  "0.0",
                  "0.0",
                  "0.0",
                  "0.0",
                  "0.0",
                  "0.0",
                  "0.0",
                  "0.0",
                  "0.0",
                  "0.0",
                  "0.0",
                  "0.0",
                  "0.0",
                  "0.0",
                  "0.0",
                  "0.0",
                  "0.0",
                  "0.0",
                  "0.0",
                  "0.0",
                  "0.0",
                  "0.0",
                  "0.0",
                  "0.0",
                  "0.0",
                  "0.0",
                  "0.0",
                  "0.0",
                  "0.0",
                  "1.0",
                  "0.0",
                  "0.0",
                  "0.0",
                  "0.0",
                  "0.0",
                  "0.0",
                  "0.0",
                  "0.0",
                  "0.0",
                  "0.0",
                  "0.0",
                  "0.0",
                  "0.0",
                  "0.0",
                  "0.0",
                  "0.0",
                  "0.0",
                  "0.0",
                  "0.0",
                  "0.0",
                  "0.0",
                  "0.0",
                  "0.0",
                  "0.0",
                  "0.0",
                  "0.0",
                  "0.0",
                  "0.0",
                  "0.0",
                  "0.0",
                  "0.0",
                  "0.0",
                  "0.0",
                  "0.0",
                  "0.0",
                  "0.0",
                  "0.0",
                  "0.0",
                  "0.0",
                  "0.0",
                  "0.0",
                  "0.0",
                  "0.0",
                  "0.0",
                  "0.0",
                  "0.0",
                  "0.0",
                  "0.0",
                  "0.0",
                  "0.0",
                  "0.0",
                  "0.0",
                  "0.0",
                  "0.0",
                  "0.0",
                  "0.0",
                  "0.0",
                  "0.0",
                  "0.0",
                  "0.0",
                  "0.0",
                  "0.0",
                  "0.0",
                  "0.0",
                  "0.0",
                  "0.0",
                  "0.0",
                  "0.0",
                  "0.0",
                  "0.0",
                  "0.0",
                  "0.0",
                  "0.0",
                  "0.0",
                  "0.0",
                  "0.0",
                  "0.0",
                  "0.0",
                  "0.0",
                  "0.0",
                  "0.0",
                  "0.0",
                  "0.0",
                  "0.0",
                  "0.0",
                  "0.0",
                  "0.0",
                  "0.0",
                  "0.0",
                  "0.0",
                  "0.0",
                  "0.0",
                  "0.0",
                  "0.0",
                  "0.0",
                  "0.0",
                  "0.0",
                  "0.0",
                  "0.0",
                  "0.0",
                  "0.0",
                  "0.0",
                  "0.0",
                  "0.0",
                  "0.0",
                  "0.0",
                  "0.0",
                  "0.0",
                  "0.0",
                  "0.0",
                  "0.0",
                  "0.0",
                  "0.0",
                  "0.0",
                  "0.0",
                  "0.0",
                  "0.0",
                  "0.0",
                  "0.0",
                  "0.0",
                  "0.0",
                  "0.0",
                  "0.0",
                  "0.0",
                  "0.0",
                  "0.0",
                  "0.0",
                  "0.0",
                  "0.0",
                  "0.0",
                  "0.0",
                  "0.0",
                  "0.0",
                  "0.0",
                  "0.0",
                  "0.0",
                  "0.0",
                  "0.0",
                  "0.0",
                  "0.0",
                  "0.0",
                  "0.0",
                  "0.0",
                  "0.0",
                  "0.0",
                  "0.0",
                  "0.0",
                  "0.0",
                  "0.0",
                  "0.0",
                  "0.0",
                  "0.0",
                  "0.0",
                  "0.0",
                  "0.0",
                  "0.0",
                  "0.0",
                  "0.0",
                  "0.0",
                  "0.0",
                  "0.0",
                  "0.0",
                  "0.0",
                  "0.0",
                  "0.0",
                  "0.0",
                  "0.0",
                  "0.0",
                  "0.0",
                  "0.0",
                  "0.0",
                  "0.0",
                  "0.0",
                  "0.0",
                  "0.0",
                  "0.0",
                  "0.0",
                  "0.0",
                  "0.0",
                  "0.0",
                  "0.0",
                  "0.0",
                  "0.0",
                  "0.0",
                  "0.0",
                  "0.0",
                  "0.0",
                  "0.0",
                  "0.0",
                  "0.0",
                  "0.0",
                  "0.0",
                  "0.0",
                  "0.0",
                  "0.0",
                  "0.0",
                  "0.0",
                  "0.0",
                  "0.0",
                  "0.0",
                  "0.0",
                  "0.0",
                  "0.0",
                  "0.0",
                  "0.0",
                  "0.0",
                  "0.0",
                  "0.0",
                  "0.0",
                  "0.0",
                  "0.0",
                  "0.0",
                  "0.0",
                  "0.0",
                  "0.0",
                  "0.0",
                  "0.0",
                  "0.0",
                  "0.0",
                  "0.0",
                  "0.0",
                  "0.0",
                  "0.0",
                  "0.0",
                  "0.0",
                  "0.0",
                  "0.0",
                  "0.0",
                  "0.0",
                  "0.0",
                  "0.0",
                  "0.0",
                  "0.0",
                  "0.0",
                  "0.0",
                  "0.0",
                  "0.0",
                  "0.0",
                  "0.0",
                  "0.0",
                  "0.0",
                  "0.0",
                  "0.0",
                  "0.0",
                  "0.0",
                  "0.0",
                  "0.0",
                  "0.0",
                  "0.0",
                  "0.0",
                  "0.0",
                  "0.0",
                  "0.0",
                  "0.0",
                  "0.0",
                  "0.0",
                  "0.0",
                  "0.0",
                  "0.0",
                  "0.0",
                  "0.0",
                  "0.0",
                  "0.0",
                  "0.0",
                  "0.0",
                  "0.0",
                  "0.0",
                  "0.0",
                  "0.0",
                  "0.0",
                  "0.0",
                  "0.0",
                  "0.0",
                  "0.0",
                  "0.0",
                  "0.0",
                  "0.0",
                  "0.0",
                  "0.0",
                  "0.0",
                  "0.0",
                  "0.0",
                  "0.0",
                  "0.0",
                  "0.0",
                  "0.0",
                  "0.0",
                  "0.0",
                  "0.0",
                  "0.0",
                  "0.0",
                  "0.0",
                  "0.0",
                  "0.0",
                  "0.0",
                  "0.0",
                  "0.0",
                  "0.0",
                  "0.0",
                  "0.0",
                  "0.0",
                  "0.0",
                  "0.0",
                  "0.0",
                  "0.0",
                  "0.0",
                  "0.0",
                  "0.0",
                  "0.0",
                  "0.0",
                  "0.0",
                  "0.0",
                  "0.0",
                  "0.0",
                  "0.0",
                  "0.0",
                  "0.0",
                  "0.0",
                  "0.0",
                  "0.0",
                  "0.0",
                  "0.0",
                  "0.0",
                  "0.0",
                  "0.0",
                  "0.0",
                  "0.0",
                  "0.0",
                  "0.0",
                  "0.0",
                  "0.0",
                  "0.0",
                  "0.0",
                  "0.0",
                  "0.0",
                  "0.0",
                  "0.0",
                  "0.0",
                  "0.0",
                  "0.0",
                  "0.0",
                  "0.0",
                  "0.0",
                  "0.0",
                  "0.0",
                  "0.0",
                  "0.0",
                  "0.0",
                  "0.0",
                  "0.0",
                  "0.0",
                  "0.0",
                  "0.0",
                  "0.0",
                  "0.0",
                  "0.0",
                  "0.0",
                  "0.0",
                  "0.0",
                  "0.0",
                  "0.0",
                  "0.0",
                  "0.0",
                  "0.0",
                  "0.0",
                  "0.0",
                  "0.0",
                  "0.0",
                  "0.0",
                  "0.0",
                  "0.0",
                  "0.0",
                  "0.0",
                  "0.0",
                  "0.0",
                  "0.0",
                  "0.0",
                  "0.0",
                  "0.0",
                  "0.0",
                  "0.0",
                  "0.0",
                  "0.0",
                  "0.0",
                  "0.0",
                  "0.0",
                  "0.0",
                  "0.0",
                  "0.0",
                  "0.0",
                  "0.0",
                  "0.0",
                  "0.0",
                  "0.0",
                  "0.0",
                  "0.0",
                  "0.0",
                  "0.0",
                  "0.0",
                  "0.0",
                  "0.0",
                  "0.0",
                  "0.0",
                  "0.0",
                  "0.0",
                  "0.0",
                  "0.0",
                  "0.0",
                  "0.0",
                  "0.0",
                  "0.0",
                  "0.0",
                  "0.0",
                  "0.0",
                  "0.0",
                  "0.0",
                  "0.0",
                  "0.0",
                  "0.0",
                  "0.0",
                  "0.0",
                  "0.0",
                  "0.0",
                  "0.0",
                  "0.0",
                  "0.0",
                  "0.0",
                  "0.0",
                  "0.0",
                  "0.0",
                  "0.0",
                  "0.0",
                  "0.0",
                  "0.0",
                  "0.0",
                  "0.0",
                  "0.0",
                  "0.0",
                  "0.0",
                  "0.0",
                  "0.0",
                  "0.0",
                  "0.0",
                  "0.0",
                  "0.0",
                  "0.0",
                  "0.0",
                  "0.0",
                  "0.0",
                  "0.0",
                  "0.0",
                  "0.0",
                  "0.0",
                  "0.0",
                  "0.0",
                  "0.0",
                  "0.0",
                  "0.0",
                  "0.0",
                  "0.0",
                  "0.0",
                  "0.0",
                  "0.0",
                  "0.0",
                  "0.0",
                  "0.0",
                  "0.0",
                  "0.0",
                  "0.0",
                  "0.0",
                  "0.0",
                  "0.0",
                  "0.0",
                  "0.0",
                  "0.0",
                  "0.0",
                  "0.0",
                  "0.0",
                  "0.0",
                  "0.0",
                  "0.0",
                  "0.0",
                  "0.0",
                  "0.0",
                  "0.0",
                  "0.0",
                  "0.0",
                  "0.0",
                  "0.0",
                  "0.0",
                  "0.0",
                  "0.0",
                  "0.0",
                  "0.0",
                  "0.0",
                  "0.0",
                  "0.0",
                  "0.0",
                  "0.0",
                  "0.0",
                  "1.0",
                  "0.0",
                  "0.0",
                  "0.0",
                  "0.0",
                  "0.0",
                  "0.0",
                  "0.0",
                  "0.0",
                  "0.0",
                  "0.0",
                  "0.0",
                  "0.0",
                  "0.0",
                  "0.0",
                  "0.0",
                  "0.0",
                  "0.0",
                  "0.0",
                  "0.0",
                  "0.0",
                  "0.0",
                  "0.0",
                  "0.0",
                  "0.0",
                  "0.0",
                  "0.0",
                  "0.0",
                  "0.0",
                  "0.0",
                  "0.0",
                  "0.0",
                  "0.0",
                  "0.0",
                  "0.0",
                  "0.0",
                  "0.0",
                  "0.0",
                  "0.0",
                  "0.0",
                  "0.0",
                  "0.0",
                  "0.0",
                  "0.0",
                  "0.0",
                  "0.0",
                  "0.0",
                  "0.0",
                  "0.0",
                  "0.0",
                  "0.0",
                  "0.0",
                  "0.0",
                  "0.0",
                  "0.0",
                  "0.0",
                  "0.0",
                  "0.0",
                  "0.0",
                  "0.0",
                  "0.0",
                  "0.0",
                  "0.0",
                  "0.0",
                  "0.0",
                  "0.0",
                  "0.0",
                  "0.0",
                  "0.0",
                  "0.0",
                  "0.0",
                  "0.0",
                  "0.0",
                  "0.0",
                  "0.0",
                  "0.0",
                  "0.0",
                  "0.0",
                  "0.0",
                  "0.0",
                  "0.0",
                  "0.0",
                  "0.0",
                  "0.0",
                  "0.0",
                  "0.0",
                  "0.0",
                  "0.0",
                  "0.0",
                  "0.0",
                  "0.0",
                  "0.0",
                  "0.0",
                  "0.0",
                  "0.0",
                  "0.0",
                  "0.0",
                  "0.0",
                  "0.0",
                  "0.0",
                  "0.0",
                  "0.0",
                  "0.0",
                  "0.0",
                  "0.0",
                  "0.0",
                  "0.0",
                  "0.0",
                  "0.0",
                  "0.0",
                  "0.0",
                  "0.0",
                  "0.0",
                  "0.0",
                  "0.0",
                  "0.0",
                  "0.0",
                  "0.0",
                  "0.0",
                  "0.0",
                  "0.0",
                  "0.0",
                  "0.0",
                  "0.0",
                  "0.0",
                  "0.0",
                  "0.0",
                  "0.0",
                  "0.0",
                  "0.0",
                  "0.0",
                  "0.0",
                  "0.0",
                  "0.0",
                  "0.0",
                  "0.0",
                  "0.0",
                  "0.0",
                  "0.0",
                  "0.0",
                  "0.0",
                  "0.0",
                  "0.0",
                  "0.0",
                  "0.0",
                  "0.0",
                  "0.0",
                  "0.0",
                  "0.0",
                  "0.0",
                  "0.0",
                  "0.0",
                  "0.0",
                  "0.0",
                  "0.0",
                  "0.0",
                  "0.0",
                  "0.0",
                  "0.0",
                  "0.0",
                  "0.0",
                  "0.0",
                  "0.0",
                  "0.0",
                  "0.0",
                  "0.0",
                  "0.0",
                  "0.0",
                  "0.0",
                  "0.0",
                  "0.0",
                  "0.0",
                  "0.0",
                  "0.0",
                  "0.0",
                  "0.0",
                  "0.0",
                  "0.0",
                  "0.0",
                  "0.0",
                  "0.0",
                  "0.0",
                  "0.0",
                  "0.0",
                  "0.0",
                  "0.0",
                  "0.0",
                  "0.0",
                  "0.0",
                  "0.0",
                  "0.0",
                  "0.0",
                  "0.0",
                  "0.0",
                  "0.0",
                  "0.0",
                  "0.0",
                  "0.0",
                  "0.0"
                ],
                [
                  "4",
                  "17",
                  "0.0",
                  "0.0",
                  "0.0",
                  "0.0",
                  "0.0",
                  "0.0",
                  "0.0",
                  "0.0",
                  "0.0",
                  "0.0",
                  "0.0",
                  "0.0",
                  "0.0",
                  "0.0",
                  "0.0",
                  "0.0",
                  "0.0",
                  "0.0",
                  "0.0",
                  "0.0",
                  "0.0",
                  "0.0",
                  "0.0",
                  "0.0",
                  "0.0",
                  "0.0",
                  "0.0",
                  "0.0",
                  "0.0",
                  "0.0",
                  "0.0",
                  "0.0",
                  "0.0",
                  "0.0",
                  "0.0",
                  "0.0",
                  "0.0",
                  "0.0",
                  "0.0",
                  "0.0",
                  "0.0",
                  "0.0",
                  "0.0",
                  "0.0",
                  "0.0",
                  "0.0",
                  "0.0",
                  "0.0",
                  "0.0",
                  "0.0",
                  "0.0",
                  "0.0",
                  "0.0",
                  "0.0",
                  "0.0",
                  "0.0",
                  "0.0",
                  "0.0",
                  "0.0",
                  "0.0",
                  "0.0",
                  "0.0",
                  "0.0",
                  "0.0",
                  "0.0",
                  "0.0",
                  "0.0",
                  "0.0",
                  "0.0",
                  "0.0",
                  "0.0",
                  "0.0",
                  "0.0",
                  "0.0",
                  "0.0",
                  "0.0",
                  "0.0",
                  "0.0",
                  "0.0",
                  "0.0",
                  "0.0",
                  "0.0",
                  "0.0",
                  "0.0",
                  "0.0",
                  "0.0",
                  "0.0",
                  "0.0",
                  "0.0",
                  "0.0",
                  "0.0",
                  "0.0",
                  "0.0",
                  "0.0",
                  "0.0",
                  "0.0",
                  "0.0",
                  "0.0",
                  "0.0",
                  "0.0",
                  "0.0",
                  "0.0",
                  "0.0",
                  "0.0",
                  "0.0",
                  "0.0",
                  "0.0",
                  "0.0",
                  "0.0",
                  "0.0",
                  "0.0",
                  "0.0",
                  "0.0",
                  "0.0",
                  "0.0",
                  "0.0",
                  "0.0",
                  "0.0",
                  "0.0",
                  "0.0",
                  "0.0",
                  "0.0",
                  "0.0",
                  "0.0",
                  "0.0",
                  "0.0",
                  "0.0",
                  "0.0",
                  "0.0",
                  "0.0",
                  "0.0",
                  "0.0",
                  "0.0",
                  "0.0",
                  "0.0",
                  "0.0",
                  "0.0",
                  "0.0",
                  "1.0",
                  "0.0",
                  "0.0",
                  "0.0",
                  "0.0",
                  "0.0",
                  "0.0",
                  "0.0",
                  "0.0",
                  "0.0",
                  "0.0",
                  "0.0",
                  "0.0",
                  "0.0",
                  "0.0",
                  "0.0",
                  "0.0",
                  "0.0",
                  "0.0",
                  "0.0",
                  "0.0",
                  "0.0",
                  "0.0",
                  "0.0",
                  "0.0",
                  "0.0",
                  "0.0",
                  "0.0",
                  "0.0",
                  "0.0",
                  "0.0",
                  "0.0",
                  "0.0",
                  "0.0",
                  "0.0",
                  "0.0",
                  "0.0",
                  "0.0",
                  "0.0",
                  "0.0",
                  "0.0",
                  "0.0",
                  "0.0",
                  "0.0",
                  "0.0",
                  "0.0",
                  "0.0",
                  "0.0",
                  "0.0",
                  "0.0",
                  "0.0",
                  "0.0",
                  "0.0",
                  "0.0",
                  "0.0",
                  "0.0",
                  "0.0",
                  "0.0",
                  "0.0",
                  "0.0",
                  "0.0",
                  "0.0",
                  "0.0",
                  "0.0",
                  "0.0",
                  "0.0",
                  "0.0",
                  "0.0",
                  "0.0",
                  "0.0",
                  "0.0",
                  "0.0",
                  "0.0",
                  "0.0",
                  "0.0",
                  "0.0",
                  "0.0",
                  "0.0",
                  "0.0",
                  "0.0",
                  "0.0",
                  "0.0",
                  "0.0",
                  "0.0",
                  "0.0",
                  "0.0",
                  "0.0",
                  "0.0",
                  "0.0",
                  "0.0",
                  "0.0",
                  "0.0",
                  "0.0",
                  "0.0",
                  "0.0",
                  "0.0",
                  "0.0",
                  "0.0",
                  "0.0",
                  "0.0",
                  "0.0",
                  "0.0",
                  "0.0",
                  "0.0",
                  "0.0",
                  "0.0",
                  "0.0",
                  "0.0",
                  "0.0",
                  "0.0",
                  "0.0",
                  "0.0",
                  "0.0",
                  "0.0",
                  "0.0",
                  "0.0",
                  "0.0",
                  "0.0",
                  "0.0",
                  "0.0",
                  "0.0",
                  "0.0",
                  "0.0",
                  "0.0",
                  "0.0",
                  "0.0",
                  "0.0",
                  "0.0",
                  "0.0",
                  "0.0",
                  "0.0",
                  "0.0",
                  "0.0",
                  "0.0",
                  "0.0",
                  "0.0",
                  "0.0",
                  "0.0",
                  "0.0",
                  "0.0",
                  "0.0",
                  "0.0",
                  "0.0",
                  "0.0",
                  "0.0",
                  "0.0",
                  "0.0",
                  "0.0",
                  "0.0",
                  "0.0",
                  "0.0",
                  "0.0",
                  "0.0",
                  "0.0",
                  "0.0",
                  "0.0",
                  "0.0",
                  "0.0",
                  "0.0",
                  "0.0",
                  "0.0",
                  "0.0",
                  "0.0",
                  "0.0",
                  "0.0",
                  "0.0",
                  "0.0",
                  "0.0",
                  "0.0",
                  "0.0",
                  "0.0",
                  "0.0",
                  "0.0",
                  "0.0",
                  "0.0",
                  "0.0",
                  "0.0",
                  "0.0",
                  "0.0",
                  "0.0",
                  "0.0",
                  "0.0",
                  "0.0",
                  "0.0",
                  "0.0",
                  "0.0",
                  "0.0",
                  "0.0",
                  "0.0",
                  "0.0",
                  "0.0",
                  "0.0",
                  "0.0",
                  "0.0",
                  "0.0",
                  "0.0",
                  "0.0",
                  "0.0",
                  "0.0",
                  "0.0",
                  "0.0",
                  "0.0",
                  "0.0",
                  "0.0",
                  "0.0",
                  "0.0",
                  "0.0",
                  "0.0",
                  "0.0",
                  "0.0",
                  "0.0",
                  "0.0",
                  "0.0",
                  "0.0",
                  "0.0",
                  "0.0",
                  "0.0",
                  "0.0",
                  "0.0",
                  "0.0",
                  "0.0",
                  "0.0",
                  "0.0",
                  "0.0",
                  "0.0",
                  "0.0",
                  "0.0",
                  "0.0",
                  "0.0",
                  "1.0",
                  "0.0",
                  "0.0",
                  "0.0",
                  "0.0",
                  "0.0",
                  "0.0",
                  "0.0",
                  "0.0",
                  "0.0",
                  "0.0",
                  "0.0",
                  "0.0",
                  "0.0",
                  "0.0",
                  "0.0",
                  "0.0",
                  "0.0",
                  "0.0",
                  "0.0",
                  "0.0",
                  "0.0",
                  "0.0",
                  "0.0",
                  "0.0",
                  "0.0",
                  "0.0",
                  "0.0",
                  "0.0",
                  "0.0",
                  "0.0",
                  "0.0",
                  "0.0",
                  "0.0",
                  "0.0",
                  "0.0",
                  "0.0",
                  "0.0",
                  "0.0",
                  "0.0",
                  "0.0",
                  "0.0",
                  "0.0",
                  "0.0",
                  "0.0",
                  "0.0",
                  "0.0",
                  "0.0",
                  "0.0",
                  "0.0",
                  "0.0",
                  "0.0",
                  "0.0",
                  "0.0",
                  "0.0",
                  "0.0",
                  "0.0",
                  "0.0",
                  "0.0",
                  "0.0",
                  "0.0",
                  "0.0",
                  "0.0",
                  "0.0",
                  "0.0",
                  "0.0",
                  "0.0",
                  "0.0",
                  "0.0",
                  "0.0",
                  "0.0",
                  "0.0",
                  "0.0",
                  "0.0",
                  "0.0",
                  "0.0",
                  "0.0",
                  "0.0",
                  "0.0",
                  "0.0",
                  "0.0",
                  "0.0",
                  "0.0",
                  "0.0",
                  "0.0",
                  "0.0",
                  "0.0",
                  "0.0",
                  "0.0",
                  "0.0",
                  "0.0",
                  "0.0",
                  "0.0",
                  "0.0",
                  "0.0",
                  "0.0",
                  "0.0",
                  "0.0",
                  "0.0",
                  "0.0",
                  "0.0",
                  "0.0",
                  "0.0",
                  "0.0",
                  "0.0",
                  "0.0",
                  "0.0",
                  "0.0",
                  "0.0",
                  "0.0",
                  "0.0",
                  "0.0",
                  "0.0",
                  "0.0",
                  "0.0",
                  "0.0",
                  "0.0",
                  "0.0",
                  "0.0",
                  "0.0",
                  "0.0",
                  "0.0",
                  "0.0",
                  "0.0",
                  "0.0",
                  "0.0",
                  "0.0",
                  "0.0",
                  "0.0",
                  "0.0",
                  "0.0",
                  "0.0",
                  "0.0",
                  "0.0",
                  "0.0",
                  "0.0",
                  "0.0",
                  "0.0",
                  "0.0",
                  "0.0",
                  "0.0",
                  "0.0",
                  "0.0",
                  "0.0",
                  "0.0",
                  "0.0",
                  "0.0",
                  "0.0",
                  "0.0",
                  "0.0",
                  "0.0",
                  "0.0",
                  "0.0",
                  "0.0",
                  "0.0",
                  "0.0",
                  "0.0",
                  "0.0",
                  "0.0",
                  "0.0",
                  "0.0",
                  "0.0",
                  "0.0",
                  "0.0",
                  "0.0",
                  "0.0",
                  "0.0",
                  "0.0",
                  "0.0",
                  "0.0",
                  "0.0",
                  "0.0",
                  "0.0",
                  "0.0",
                  "0.0",
                  "0.0",
                  "0.0",
                  "0.0",
                  "0.0",
                  "0.0",
                  "0.0",
                  "0.0",
                  "0.0",
                  "0.0",
                  "0.0",
                  "0.0",
                  "0.0",
                  "0.0",
                  "0.0",
                  "0.0",
                  "0.0",
                  "0.0",
                  "0.0",
                  "0.0",
                  "0.0",
                  "0.0",
                  "0.0",
                  "0.0",
                  "0.0",
                  "0.0",
                  "0.0",
                  "0.0",
                  "0.0",
                  "0.0",
                  "0.0",
                  "0.0",
                  "0.0",
                  "0.0",
                  "0.0",
                  "0.0",
                  "0.0",
                  "0.0",
                  "0.0",
                  "0.0",
                  "0.0",
                  "0.0",
                  "0.0",
                  "0.0",
                  "0.0",
                  "0.0",
                  "0.0",
                  "0.0",
                  "0.0",
                  "0.0",
                  "0.0",
                  "0.0",
                  "0.0",
                  "0.0",
                  "0.0",
                  "0.0",
                  "0.0",
                  "0.0",
                  "0.0",
                  "0.0",
                  "0.0",
                  "0.0",
                  "0.0",
                  "0.0",
                  "0.0",
                  "0.0",
                  "0.0",
                  "0.0",
                  "0.0",
                  "0.0",
                  "0.0",
                  "0.0",
                  "0.0",
                  "0.0",
                  "0.0",
                  "0.0",
                  "0.0",
                  "0.0",
                  "0.0",
                  "0.0",
                  "0.0",
                  "0.0",
                  "0.0",
                  "0.0",
                  "0.0",
                  "0.0",
                  "0.0",
                  "0.0",
                  "0.0",
                  "0.0",
                  "0.0",
                  "0.0",
                  "0.0",
                  "0.0",
                  "0.0",
                  "0.0",
                  "0.0",
                  "0.0",
                  "0.0",
                  "0.0",
                  "0.0",
                  "0.0",
                  "0.0",
                  "0.0",
                  "0.0",
                  "0.0",
                  "0.0",
                  "0.0",
                  "0.0",
                  "0.0",
                  "0.0",
                  "0.0",
                  "0.0",
                  "0.0",
                  "0.0",
                  "0.0",
                  "0.0",
                  "0.0",
                  "0.0",
                  "0.0",
                  "0.0",
                  "0.0",
                  "0.0",
                  "0.0",
                  "0.0",
                  "0.0",
                  "0.0",
                  "0.0",
                  "0.0",
                  "0.0",
                  "0.0",
                  "0.0",
                  "0.0",
                  "0.0",
                  "0.0",
                  "0.0",
                  "0.0",
                  "0.0",
                  "0.0",
                  "0.0",
                  "0.0",
                  "0.0",
                  "0.0",
                  "0.0",
                  "0.0",
                  "0.0",
                  "0.0",
                  "0.0",
                  "0.0",
                  "0.0",
                  "0.0",
                  "0.0",
                  "0.0",
                  "0.0",
                  "0.0",
                  "0.0",
                  "0.0",
                  "0.0",
                  "0.0",
                  "0.0",
                  "0.0",
                  "0.0",
                  "0.0",
                  "0.0",
                  "0.0",
                  "0.0",
                  "0.0",
                  "0.0",
                  "0.0",
                  "0.0",
                  "0.0",
                  "0.0",
                  "0.0",
                  "0.0",
                  "0.0",
                  "0.0",
                  "0.0",
                  "0.0",
                  "0.0",
                  "0.0",
                  "0.0",
                  "0.0",
                  "0.0",
                  "0.0",
                  "0.0",
                  "0.0",
                  "0.0",
                  "0.0",
                  "0.0",
                  "0.0",
                  "0.0",
                  "0.0",
                  "0.0",
                  "0.0",
                  "0.0",
                  "0.0",
                  "0.0",
                  "0.0",
                  "0.0",
                  "0.0",
                  "0.0",
                  "0.0",
                  "0.0",
                  "0.0",
                  "0.0",
                  "0.0",
                  "0.0",
                  "0.0",
                  "0.0",
                  "0.0",
                  "0.0",
                  "0.0",
                  "0.0",
                  "0.0",
                  "0.0",
                  "0.0",
                  "0.0",
                  "0.0",
                  "0.0",
                  "0.0",
                  "0.0",
                  "0.0",
                  "0.0",
                  "0.0",
                  "0.0",
                  "0.0",
                  "0.0",
                  "0.0",
                  "0.0",
                  "0.0",
                  "0.0",
                  "0.0",
                  "0.0",
                  "0.0",
                  "0.0",
                  "0.0",
                  "0.0",
                  "0.0",
                  "0.0",
                  "0.0",
                  "0.0",
                  "0.0",
                  "0.0",
                  "0.0",
                  "0.0",
                  "0.0",
                  "0.0",
                  "0.0",
                  "0.0",
                  "0.0",
                  "0.0",
                  "0.0",
                  "0.0",
                  "0.0",
                  "0.0",
                  "0.0",
                  "0.0",
                  "0.0",
                  "0.0",
                  "0.0",
                  "0.0",
                  "0.0",
                  "0.0",
                  "0.0",
                  "0.0",
                  "0.0",
                  "0.0",
                  "0.0",
                  "0.0"
                ]
              ],
              "shape": {
                "columns": 811,
                "rows": 5
              }
            },
            "text/html": [
              "<div>\n",
              "<style scoped>\n",
              "    .dataframe tbody tr th:only-of-type {\n",
              "        vertical-align: middle;\n",
              "    }\n",
              "\n",
              "    .dataframe tbody tr th {\n",
              "        vertical-align: top;\n",
              "    }\n",
              "\n",
              "    .dataframe thead th {\n",
              "        text-align: right;\n",
              "    }\n",
              "</style>\n",
              "<table border=\"1\" class=\"dataframe\">\n",
              "  <thead>\n",
              "    <tr style=\"text-align: right;\">\n",
              "      <th></th>\n",
              "      <th>positionOrder</th>\n",
              "      <th>points</th>\n",
              "      <th>constructor_AGS</th>\n",
              "      <th>constructor_ATS</th>\n",
              "      <th>constructor_Adams</th>\n",
              "      <th>constructor_Alfa Romeo</th>\n",
              "      <th>constructor_AlphaTauri</th>\n",
              "      <th>constructor_Alpine F1 Team</th>\n",
              "      <th>constructor_Alta</th>\n",
              "      <th>constructor_Amon</th>\n",
              "      <th>...</th>\n",
              "      <th>driver_name_Wolfgang von Trips</th>\n",
              "      <th>driver_name_Yannick Dalmas</th>\n",
              "      <th>driver_name_Yuji Ide</th>\n",
              "      <th>driver_name_Yuki Tsunoda</th>\n",
              "      <th>driver_name_Yves Cabantous</th>\n",
              "      <th>driver_name_Zsolt Baumgartner</th>\n",
              "      <th>driver_name_Élie Bayol</th>\n",
              "      <th>driver_name_Éric Bernard</th>\n",
              "      <th>driver_name_Érik Comas</th>\n",
              "      <th>driver_name_Óscar González</th>\n",
              "    </tr>\n",
              "  </thead>\n",
              "  <tbody>\n",
              "    <tr>\n",
              "      <th>0</th>\n",
              "      <td>24</td>\n",
              "      <td>0.0</td>\n",
              "      <td>0.0</td>\n",
              "      <td>0.0</td>\n",
              "      <td>0.0</td>\n",
              "      <td>0.0</td>\n",
              "      <td>0.0</td>\n",
              "      <td>0.0</td>\n",
              "      <td>0.0</td>\n",
              "      <td>0.0</td>\n",
              "      <td>...</td>\n",
              "      <td>0.0</td>\n",
              "      <td>0.0</td>\n",
              "      <td>0.0</td>\n",
              "      <td>0.0</td>\n",
              "      <td>0.0</td>\n",
              "      <td>0.0</td>\n",
              "      <td>0.0</td>\n",
              "      <td>0.0</td>\n",
              "      <td>0.0</td>\n",
              "      <td>0.0</td>\n",
              "    </tr>\n",
              "    <tr>\n",
              "      <th>1</th>\n",
              "      <td>4</td>\n",
              "      <td>3.0</td>\n",
              "      <td>0.0</td>\n",
              "      <td>0.0</td>\n",
              "      <td>0.0</td>\n",
              "      <td>0.0</td>\n",
              "      <td>0.0</td>\n",
              "      <td>0.0</td>\n",
              "      <td>0.0</td>\n",
              "      <td>0.0</td>\n",
              "      <td>...</td>\n",
              "      <td>0.0</td>\n",
              "      <td>0.0</td>\n",
              "      <td>0.0</td>\n",
              "      <td>0.0</td>\n",
              "      <td>0.0</td>\n",
              "      <td>0.0</td>\n",
              "      <td>0.0</td>\n",
              "      <td>0.0</td>\n",
              "      <td>0.0</td>\n",
              "      <td>0.0</td>\n",
              "    </tr>\n",
              "    <tr>\n",
              "      <th>2</th>\n",
              "      <td>23</td>\n",
              "      <td>0.0</td>\n",
              "      <td>0.0</td>\n",
              "      <td>0.0</td>\n",
              "      <td>0.0</td>\n",
              "      <td>0.0</td>\n",
              "      <td>0.0</td>\n",
              "      <td>0.0</td>\n",
              "      <td>0.0</td>\n",
              "      <td>0.0</td>\n",
              "      <td>...</td>\n",
              "      <td>0.0</td>\n",
              "      <td>0.0</td>\n",
              "      <td>0.0</td>\n",
              "      <td>0.0</td>\n",
              "      <td>0.0</td>\n",
              "      <td>0.0</td>\n",
              "      <td>0.0</td>\n",
              "      <td>0.0</td>\n",
              "      <td>0.0</td>\n",
              "      <td>0.0</td>\n",
              "    </tr>\n",
              "    <tr>\n",
              "      <th>3</th>\n",
              "      <td>3</td>\n",
              "      <td>15.0</td>\n",
              "      <td>0.0</td>\n",
              "      <td>0.0</td>\n",
              "      <td>0.0</td>\n",
              "      <td>0.0</td>\n",
              "      <td>0.0</td>\n",
              "      <td>0.0</td>\n",
              "      <td>0.0</td>\n",
              "      <td>0.0</td>\n",
              "      <td>...</td>\n",
              "      <td>0.0</td>\n",
              "      <td>0.0</td>\n",
              "      <td>0.0</td>\n",
              "      <td>0.0</td>\n",
              "      <td>0.0</td>\n",
              "      <td>0.0</td>\n",
              "      <td>0.0</td>\n",
              "      <td>0.0</td>\n",
              "      <td>0.0</td>\n",
              "      <td>0.0</td>\n",
              "    </tr>\n",
              "    <tr>\n",
              "      <th>4</th>\n",
              "      <td>17</td>\n",
              "      <td>0.0</td>\n",
              "      <td>0.0</td>\n",
              "      <td>0.0</td>\n",
              "      <td>0.0</td>\n",
              "      <td>0.0</td>\n",
              "      <td>0.0</td>\n",
              "      <td>0.0</td>\n",
              "      <td>0.0</td>\n",
              "      <td>0.0</td>\n",
              "      <td>...</td>\n",
              "      <td>0.0</td>\n",
              "      <td>0.0</td>\n",
              "      <td>0.0</td>\n",
              "      <td>0.0</td>\n",
              "      <td>0.0</td>\n",
              "      <td>0.0</td>\n",
              "      <td>0.0</td>\n",
              "      <td>0.0</td>\n",
              "      <td>0.0</td>\n",
              "      <td>0.0</td>\n",
              "    </tr>\n",
              "  </tbody>\n",
              "</table>\n",
              "<p>5 rows × 811 columns</p>\n",
              "</div>"
            ],
            "text/plain": [
              "   positionOrder  points  constructor_AGS  constructor_ATS  constructor_Adams  \\\n",
              "0             24     0.0              0.0              0.0                0.0   \n",
              "1              4     3.0              0.0              0.0                0.0   \n",
              "2             23     0.0              0.0              0.0                0.0   \n",
              "3              3    15.0              0.0              0.0                0.0   \n",
              "4             17     0.0              0.0              0.0                0.0   \n",
              "\n",
              "   constructor_Alfa Romeo  constructor_AlphaTauri  constructor_Alpine F1 Team  \\\n",
              "0                     0.0                     0.0                         0.0   \n",
              "1                     0.0                     0.0                         0.0   \n",
              "2                     0.0                     0.0                         0.0   \n",
              "3                     0.0                     0.0                         0.0   \n",
              "4                     0.0                     0.0                         0.0   \n",
              "\n",
              "   constructor_Alta  constructor_Amon  ...  driver_name_Wolfgang von Trips  \\\n",
              "0               0.0               0.0  ...                             0.0   \n",
              "1               0.0               0.0  ...                             0.0   \n",
              "2               0.0               0.0  ...                             0.0   \n",
              "3               0.0               0.0  ...                             0.0   \n",
              "4               0.0               0.0  ...                             0.0   \n",
              "\n",
              "   driver_name_Yannick Dalmas  driver_name_Yuji Ide  driver_name_Yuki Tsunoda  \\\n",
              "0                         0.0                   0.0                       0.0   \n",
              "1                         0.0                   0.0                       0.0   \n",
              "2                         0.0                   0.0                       0.0   \n",
              "3                         0.0                   0.0                       0.0   \n",
              "4                         0.0                   0.0                       0.0   \n",
              "\n",
              "   driver_name_Yves Cabantous  driver_name_Zsolt Baumgartner  \\\n",
              "0                         0.0                            0.0   \n",
              "1                         0.0                            0.0   \n",
              "2                         0.0                            0.0   \n",
              "3                         0.0                            0.0   \n",
              "4                         0.0                            0.0   \n",
              "\n",
              "   driver_name_Élie Bayol  driver_name_Éric Bernard  driver_name_Érik Comas  \\\n",
              "0                     0.0                       0.0                     0.0   \n",
              "1                     0.0                       0.0                     0.0   \n",
              "2                     0.0                       0.0                     0.0   \n",
              "3                     0.0                       0.0                     0.0   \n",
              "4                     0.0                       0.0                     0.0   \n",
              "\n",
              "   driver_name_Óscar González  \n",
              "0                         0.0  \n",
              "1                         0.0  \n",
              "2                         0.0  \n",
              "3                         0.0  \n",
              "4                         0.0  \n",
              "\n",
              "[5 rows x 811 columns]"
            ]
          },
          "execution_count": 63,
          "metadata": {},
          "output_type": "execute_result"
        }
      ],
      "source": [
        "X_train.head()"
      ]
    },
    {
      "cell_type": "code",
      "execution_count": 64,
      "metadata": {},
      "outputs": [],
      "source": [
        "from imblearn.over_sampling import SMOTE\n",
        "smote = SMOTE()\n",
        "X_train_upsampled, y_train_upsampled = smote.fit_resample(X_train, y_train)"
      ]
    },
    {
      "cell_type": "markdown",
      "metadata": {},
      "source": [
        "# Using Logistic Regression"
      ]
    },
    {
      "cell_type": "code",
      "execution_count": 65,
      "metadata": {},
      "outputs": [],
      "source": [
        "from sklearn.linear_model import LogisticRegression\n",
        "from sklearn.metrics import accuracy_score, confusion_matrix, classification_report, ConfusionMatrixDisplay\n",
        "from sklearn.preprocessing import StandardScaler\n",
        "from sklearn.compose import ColumnTransformer\n",
        "\n",
        "numeric_features = X_train.select_dtypes(include=['int64', 'float64']).columns\n",
        "\n",
        "preprocessor = ColumnTransformer(\n",
        "    transformers=[\n",
        "        ('num', StandardScaler(), numeric_features),\n",
        "        ('cat', 'passthrough', [col for col in X_train.columns if col not in numeric_features])\n",
        "    ]\n",
        ")\n",
        "\n",
        "X_train_scaled = preprocessor.fit_transform(X_train_upsampled)\n",
        "X_test_scaled = preprocessor.transform(X_test)"
      ]
    },
    {
      "cell_type": "code",
      "execution_count": 66,
      "metadata": {},
      "outputs": [
        {
          "data": {
            "text/html": [
              "<style>#sk-container-id-1 {\n",
              "  /* Definition of color scheme common for light and dark mode */\n",
              "  --sklearn-color-text: #000;\n",
              "  --sklearn-color-text-muted: #666;\n",
              "  --sklearn-color-line: gray;\n",
              "  /* Definition of color scheme for unfitted estimators */\n",
              "  --sklearn-color-unfitted-level-0: #fff5e6;\n",
              "  --sklearn-color-unfitted-level-1: #f6e4d2;\n",
              "  --sklearn-color-unfitted-level-2: #ffe0b3;\n",
              "  --sklearn-color-unfitted-level-3: chocolate;\n",
              "  /* Definition of color scheme for fitted estimators */\n",
              "  --sklearn-color-fitted-level-0: #f0f8ff;\n",
              "  --sklearn-color-fitted-level-1: #d4ebff;\n",
              "  --sklearn-color-fitted-level-2: #b3dbfd;\n",
              "  --sklearn-color-fitted-level-3: cornflowerblue;\n",
              "\n",
              "  /* Specific color for light theme */\n",
              "  --sklearn-color-text-on-default-background: var(--sg-text-color, var(--theme-code-foreground, var(--jp-content-font-color1, black)));\n",
              "  --sklearn-color-background: var(--sg-background-color, var(--theme-background, var(--jp-layout-color0, white)));\n",
              "  --sklearn-color-border-box: var(--sg-text-color, var(--theme-code-foreground, var(--jp-content-font-color1, black)));\n",
              "  --sklearn-color-icon: #696969;\n",
              "\n",
              "  @media (prefers-color-scheme: dark) {\n",
              "    /* Redefinition of color scheme for dark theme */\n",
              "    --sklearn-color-text-on-default-background: var(--sg-text-color, var(--theme-code-foreground, var(--jp-content-font-color1, white)));\n",
              "    --sklearn-color-background: var(--sg-background-color, var(--theme-background, var(--jp-layout-color0, #111)));\n",
              "    --sklearn-color-border-box: var(--sg-text-color, var(--theme-code-foreground, var(--jp-content-font-color1, white)));\n",
              "    --sklearn-color-icon: #878787;\n",
              "  }\n",
              "}\n",
              "\n",
              "#sk-container-id-1 {\n",
              "  color: var(--sklearn-color-text);\n",
              "}\n",
              "\n",
              "#sk-container-id-1 pre {\n",
              "  padding: 0;\n",
              "}\n",
              "\n",
              "#sk-container-id-1 input.sk-hidden--visually {\n",
              "  border: 0;\n",
              "  clip: rect(1px 1px 1px 1px);\n",
              "  clip: rect(1px, 1px, 1px, 1px);\n",
              "  height: 1px;\n",
              "  margin: -1px;\n",
              "  overflow: hidden;\n",
              "  padding: 0;\n",
              "  position: absolute;\n",
              "  width: 1px;\n",
              "}\n",
              "\n",
              "#sk-container-id-1 div.sk-dashed-wrapped {\n",
              "  border: 1px dashed var(--sklearn-color-line);\n",
              "  margin: 0 0.4em 0.5em 0.4em;\n",
              "  box-sizing: border-box;\n",
              "  padding-bottom: 0.4em;\n",
              "  background-color: var(--sklearn-color-background);\n",
              "}\n",
              "\n",
              "#sk-container-id-1 div.sk-container {\n",
              "  /* jupyter's `normalize.less` sets `[hidden] { display: none; }`\n",
              "     but bootstrap.min.css set `[hidden] { display: none !important; }`\n",
              "     so we also need the `!important` here to be able to override the\n",
              "     default hidden behavior on the sphinx rendered scikit-learn.org.\n",
              "     See: https://github.com/scikit-learn/scikit-learn/issues/21755 */\n",
              "  display: inline-block !important;\n",
              "  position: relative;\n",
              "}\n",
              "\n",
              "#sk-container-id-1 div.sk-text-repr-fallback {\n",
              "  display: none;\n",
              "}\n",
              "\n",
              "div.sk-parallel-item,\n",
              "div.sk-serial,\n",
              "div.sk-item {\n",
              "  /* draw centered vertical line to link estimators */\n",
              "  background-image: linear-gradient(var(--sklearn-color-text-on-default-background), var(--sklearn-color-text-on-default-background));\n",
              "  background-size: 2px 100%;\n",
              "  background-repeat: no-repeat;\n",
              "  background-position: center center;\n",
              "}\n",
              "\n",
              "/* Parallel-specific style estimator block */\n",
              "\n",
              "#sk-container-id-1 div.sk-parallel-item::after {\n",
              "  content: \"\";\n",
              "  width: 100%;\n",
              "  border-bottom: 2px solid var(--sklearn-color-text-on-default-background);\n",
              "  flex-grow: 1;\n",
              "}\n",
              "\n",
              "#sk-container-id-1 div.sk-parallel {\n",
              "  display: flex;\n",
              "  align-items: stretch;\n",
              "  justify-content: center;\n",
              "  background-color: var(--sklearn-color-background);\n",
              "  position: relative;\n",
              "}\n",
              "\n",
              "#sk-container-id-1 div.sk-parallel-item {\n",
              "  display: flex;\n",
              "  flex-direction: column;\n",
              "}\n",
              "\n",
              "#sk-container-id-1 div.sk-parallel-item:first-child::after {\n",
              "  align-self: flex-end;\n",
              "  width: 50%;\n",
              "}\n",
              "\n",
              "#sk-container-id-1 div.sk-parallel-item:last-child::after {\n",
              "  align-self: flex-start;\n",
              "  width: 50%;\n",
              "}\n",
              "\n",
              "#sk-container-id-1 div.sk-parallel-item:only-child::after {\n",
              "  width: 0;\n",
              "}\n",
              "\n",
              "/* Serial-specific style estimator block */\n",
              "\n",
              "#sk-container-id-1 div.sk-serial {\n",
              "  display: flex;\n",
              "  flex-direction: column;\n",
              "  align-items: center;\n",
              "  background-color: var(--sklearn-color-background);\n",
              "  padding-right: 1em;\n",
              "  padding-left: 1em;\n",
              "}\n",
              "\n",
              "\n",
              "/* Toggleable style: style used for estimator/Pipeline/ColumnTransformer box that is\n",
              "clickable and can be expanded/collapsed.\n",
              "- Pipeline and ColumnTransformer use this feature and define the default style\n",
              "- Estimators will overwrite some part of the style using the `sk-estimator` class\n",
              "*/\n",
              "\n",
              "/* Pipeline and ColumnTransformer style (default) */\n",
              "\n",
              "#sk-container-id-1 div.sk-toggleable {\n",
              "  /* Default theme specific background. It is overwritten whether we have a\n",
              "  specific estimator or a Pipeline/ColumnTransformer */\n",
              "  background-color: var(--sklearn-color-background);\n",
              "}\n",
              "\n",
              "/* Toggleable label */\n",
              "#sk-container-id-1 label.sk-toggleable__label {\n",
              "  cursor: pointer;\n",
              "  display: flex;\n",
              "  width: 100%;\n",
              "  margin-bottom: 0;\n",
              "  padding: 0.5em;\n",
              "  box-sizing: border-box;\n",
              "  text-align: center;\n",
              "  align-items: start;\n",
              "  justify-content: space-between;\n",
              "  gap: 0.5em;\n",
              "}\n",
              "\n",
              "#sk-container-id-1 label.sk-toggleable__label .caption {\n",
              "  font-size: 0.6rem;\n",
              "  font-weight: lighter;\n",
              "  color: var(--sklearn-color-text-muted);\n",
              "}\n",
              "\n",
              "#sk-container-id-1 label.sk-toggleable__label-arrow:before {\n",
              "  /* Arrow on the left of the label */\n",
              "  content: \"▸\";\n",
              "  float: left;\n",
              "  margin-right: 0.25em;\n",
              "  color: var(--sklearn-color-icon);\n",
              "}\n",
              "\n",
              "#sk-container-id-1 label.sk-toggleable__label-arrow:hover:before {\n",
              "  color: var(--sklearn-color-text);\n",
              "}\n",
              "\n",
              "/* Toggleable content - dropdown */\n",
              "\n",
              "#sk-container-id-1 div.sk-toggleable__content {\n",
              "  display: none;\n",
              "  text-align: left;\n",
              "  /* unfitted */\n",
              "  background-color: var(--sklearn-color-unfitted-level-0);\n",
              "}\n",
              "\n",
              "#sk-container-id-1 div.sk-toggleable__content.fitted {\n",
              "  /* fitted */\n",
              "  background-color: var(--sklearn-color-fitted-level-0);\n",
              "}\n",
              "\n",
              "#sk-container-id-1 div.sk-toggleable__content pre {\n",
              "  margin: 0.2em;\n",
              "  border-radius: 0.25em;\n",
              "  color: var(--sklearn-color-text);\n",
              "  /* unfitted */\n",
              "  background-color: var(--sklearn-color-unfitted-level-0);\n",
              "}\n",
              "\n",
              "#sk-container-id-1 div.sk-toggleable__content.fitted pre {\n",
              "  /* unfitted */\n",
              "  background-color: var(--sklearn-color-fitted-level-0);\n",
              "}\n",
              "\n",
              "#sk-container-id-1 input.sk-toggleable__control:checked~div.sk-toggleable__content {\n",
              "  /* Expand drop-down */\n",
              "  display: block;\n",
              "  width: 100%;\n",
              "  overflow: visible;\n",
              "}\n",
              "\n",
              "#sk-container-id-1 input.sk-toggleable__control:checked~label.sk-toggleable__label-arrow:before {\n",
              "  content: \"▾\";\n",
              "}\n",
              "\n",
              "/* Pipeline/ColumnTransformer-specific style */\n",
              "\n",
              "#sk-container-id-1 div.sk-label input.sk-toggleable__control:checked~label.sk-toggleable__label {\n",
              "  color: var(--sklearn-color-text);\n",
              "  background-color: var(--sklearn-color-unfitted-level-2);\n",
              "}\n",
              "\n",
              "#sk-container-id-1 div.sk-label.fitted input.sk-toggleable__control:checked~label.sk-toggleable__label {\n",
              "  background-color: var(--sklearn-color-fitted-level-2);\n",
              "}\n",
              "\n",
              "/* Estimator-specific style */\n",
              "\n",
              "/* Colorize estimator box */\n",
              "#sk-container-id-1 div.sk-estimator input.sk-toggleable__control:checked~label.sk-toggleable__label {\n",
              "  /* unfitted */\n",
              "  background-color: var(--sklearn-color-unfitted-level-2);\n",
              "}\n",
              "\n",
              "#sk-container-id-1 div.sk-estimator.fitted input.sk-toggleable__control:checked~label.sk-toggleable__label {\n",
              "  /* fitted */\n",
              "  background-color: var(--sklearn-color-fitted-level-2);\n",
              "}\n",
              "\n",
              "#sk-container-id-1 div.sk-label label.sk-toggleable__label,\n",
              "#sk-container-id-1 div.sk-label label {\n",
              "  /* The background is the default theme color */\n",
              "  color: var(--sklearn-color-text-on-default-background);\n",
              "}\n",
              "\n",
              "/* On hover, darken the color of the background */\n",
              "#sk-container-id-1 div.sk-label:hover label.sk-toggleable__label {\n",
              "  color: var(--sklearn-color-text);\n",
              "  background-color: var(--sklearn-color-unfitted-level-2);\n",
              "}\n",
              "\n",
              "/* Label box, darken color on hover, fitted */\n",
              "#sk-container-id-1 div.sk-label.fitted:hover label.sk-toggleable__label.fitted {\n",
              "  color: var(--sklearn-color-text);\n",
              "  background-color: var(--sklearn-color-fitted-level-2);\n",
              "}\n",
              "\n",
              "/* Estimator label */\n",
              "\n",
              "#sk-container-id-1 div.sk-label label {\n",
              "  font-family: monospace;\n",
              "  font-weight: bold;\n",
              "  display: inline-block;\n",
              "  line-height: 1.2em;\n",
              "}\n",
              "\n",
              "#sk-container-id-1 div.sk-label-container {\n",
              "  text-align: center;\n",
              "}\n",
              "\n",
              "/* Estimator-specific */\n",
              "#sk-container-id-1 div.sk-estimator {\n",
              "  font-family: monospace;\n",
              "  border: 1px dotted var(--sklearn-color-border-box);\n",
              "  border-radius: 0.25em;\n",
              "  box-sizing: border-box;\n",
              "  margin-bottom: 0.5em;\n",
              "  /* unfitted */\n",
              "  background-color: var(--sklearn-color-unfitted-level-0);\n",
              "}\n",
              "\n",
              "#sk-container-id-1 div.sk-estimator.fitted {\n",
              "  /* fitted */\n",
              "  background-color: var(--sklearn-color-fitted-level-0);\n",
              "}\n",
              "\n",
              "/* on hover */\n",
              "#sk-container-id-1 div.sk-estimator:hover {\n",
              "  /* unfitted */\n",
              "  background-color: var(--sklearn-color-unfitted-level-2);\n",
              "}\n",
              "\n",
              "#sk-container-id-1 div.sk-estimator.fitted:hover {\n",
              "  /* fitted */\n",
              "  background-color: var(--sklearn-color-fitted-level-2);\n",
              "}\n",
              "\n",
              "/* Specification for estimator info (e.g. \"i\" and \"?\") */\n",
              "\n",
              "/* Common style for \"i\" and \"?\" */\n",
              "\n",
              ".sk-estimator-doc-link,\n",
              "a:link.sk-estimator-doc-link,\n",
              "a:visited.sk-estimator-doc-link {\n",
              "  float: right;\n",
              "  font-size: smaller;\n",
              "  line-height: 1em;\n",
              "  font-family: monospace;\n",
              "  background-color: var(--sklearn-color-background);\n",
              "  border-radius: 1em;\n",
              "  height: 1em;\n",
              "  width: 1em;\n",
              "  text-decoration: none !important;\n",
              "  margin-left: 0.5em;\n",
              "  text-align: center;\n",
              "  /* unfitted */\n",
              "  border: var(--sklearn-color-unfitted-level-1) 1pt solid;\n",
              "  color: var(--sklearn-color-unfitted-level-1);\n",
              "}\n",
              "\n",
              ".sk-estimator-doc-link.fitted,\n",
              "a:link.sk-estimator-doc-link.fitted,\n",
              "a:visited.sk-estimator-doc-link.fitted {\n",
              "  /* fitted */\n",
              "  border: var(--sklearn-color-fitted-level-1) 1pt solid;\n",
              "  color: var(--sklearn-color-fitted-level-1);\n",
              "}\n",
              "\n",
              "/* On hover */\n",
              "div.sk-estimator:hover .sk-estimator-doc-link:hover,\n",
              ".sk-estimator-doc-link:hover,\n",
              "div.sk-label-container:hover .sk-estimator-doc-link:hover,\n",
              ".sk-estimator-doc-link:hover {\n",
              "  /* unfitted */\n",
              "  background-color: var(--sklearn-color-unfitted-level-3);\n",
              "  color: var(--sklearn-color-background);\n",
              "  text-decoration: none;\n",
              "}\n",
              "\n",
              "div.sk-estimator.fitted:hover .sk-estimator-doc-link.fitted:hover,\n",
              ".sk-estimator-doc-link.fitted:hover,\n",
              "div.sk-label-container:hover .sk-estimator-doc-link.fitted:hover,\n",
              ".sk-estimator-doc-link.fitted:hover {\n",
              "  /* fitted */\n",
              "  background-color: var(--sklearn-color-fitted-level-3);\n",
              "  color: var(--sklearn-color-background);\n",
              "  text-decoration: none;\n",
              "}\n",
              "\n",
              "/* Span, style for the box shown on hovering the info icon */\n",
              ".sk-estimator-doc-link span {\n",
              "  display: none;\n",
              "  z-index: 9999;\n",
              "  position: relative;\n",
              "  font-weight: normal;\n",
              "  right: .2ex;\n",
              "  padding: .5ex;\n",
              "  margin: .5ex;\n",
              "  width: min-content;\n",
              "  min-width: 20ex;\n",
              "  max-width: 50ex;\n",
              "  color: var(--sklearn-color-text);\n",
              "  box-shadow: 2pt 2pt 4pt #999;\n",
              "  /* unfitted */\n",
              "  background: var(--sklearn-color-unfitted-level-0);\n",
              "  border: .5pt solid var(--sklearn-color-unfitted-level-3);\n",
              "}\n",
              "\n",
              ".sk-estimator-doc-link.fitted span {\n",
              "  /* fitted */\n",
              "  background: var(--sklearn-color-fitted-level-0);\n",
              "  border: var(--sklearn-color-fitted-level-3);\n",
              "}\n",
              "\n",
              ".sk-estimator-doc-link:hover span {\n",
              "  display: block;\n",
              "}\n",
              "\n",
              "/* \"?\"-specific style due to the `<a>` HTML tag */\n",
              "\n",
              "#sk-container-id-1 a.estimator_doc_link {\n",
              "  float: right;\n",
              "  font-size: 1rem;\n",
              "  line-height: 1em;\n",
              "  font-family: monospace;\n",
              "  background-color: var(--sklearn-color-background);\n",
              "  border-radius: 1rem;\n",
              "  height: 1rem;\n",
              "  width: 1rem;\n",
              "  text-decoration: none;\n",
              "  /* unfitted */\n",
              "  color: var(--sklearn-color-unfitted-level-1);\n",
              "  border: var(--sklearn-color-unfitted-level-1) 1pt solid;\n",
              "}\n",
              "\n",
              "#sk-container-id-1 a.estimator_doc_link.fitted {\n",
              "  /* fitted */\n",
              "  border: var(--sklearn-color-fitted-level-1) 1pt solid;\n",
              "  color: var(--sklearn-color-fitted-level-1);\n",
              "}\n",
              "\n",
              "/* On hover */\n",
              "#sk-container-id-1 a.estimator_doc_link:hover {\n",
              "  /* unfitted */\n",
              "  background-color: var(--sklearn-color-unfitted-level-3);\n",
              "  color: var(--sklearn-color-background);\n",
              "  text-decoration: none;\n",
              "}\n",
              "\n",
              "#sk-container-id-1 a.estimator_doc_link.fitted:hover {\n",
              "  /* fitted */\n",
              "  background-color: var(--sklearn-color-fitted-level-3);\n",
              "}\n",
              "\n",
              ".estimator-table summary {\n",
              "    padding: .5rem;\n",
              "    font-family: monospace;\n",
              "    cursor: pointer;\n",
              "}\n",
              "\n",
              ".estimator-table details[open] {\n",
              "    padding-left: 0.1rem;\n",
              "    padding-right: 0.1rem;\n",
              "    padding-bottom: 0.3rem;\n",
              "}\n",
              "\n",
              ".estimator-table .parameters-table {\n",
              "    margin-left: auto !important;\n",
              "    margin-right: auto !important;\n",
              "}\n",
              "\n",
              ".estimator-table .parameters-table tr:nth-child(odd) {\n",
              "    background-color: #fff;\n",
              "}\n",
              "\n",
              ".estimator-table .parameters-table tr:nth-child(even) {\n",
              "    background-color: #f6f6f6;\n",
              "}\n",
              "\n",
              ".estimator-table .parameters-table tr:hover {\n",
              "    background-color: #e0e0e0;\n",
              "}\n",
              "\n",
              ".estimator-table table td {\n",
              "    border: 1px solid rgba(106, 105, 104, 0.232);\n",
              "}\n",
              "\n",
              ".user-set td {\n",
              "    color:rgb(255, 94, 0);\n",
              "    text-align: left;\n",
              "}\n",
              "\n",
              ".user-set td.value pre {\n",
              "    color:rgb(255, 94, 0) !important;\n",
              "    background-color: transparent !important;\n",
              "}\n",
              "\n",
              ".default td {\n",
              "    color: black;\n",
              "    text-align: left;\n",
              "}\n",
              "\n",
              ".user-set td i,\n",
              ".default td i {\n",
              "    color: black;\n",
              "}\n",
              "\n",
              ".copy-paste-icon {\n",
              "    background-image: url(data:image/svg+xml;base64,PHN2ZyB4bWxucz0iaHR0cDovL3d3dy53My5vcmcvMjAwMC9zdmciIHZpZXdCb3g9IjAgMCA0NDggNTEyIj48IS0tIUZvbnQgQXdlc29tZSBGcmVlIDYuNy4yIGJ5IEBmb250YXdlc29tZSAtIGh0dHBzOi8vZm9udGF3ZXNvbWUuY29tIExpY2Vuc2UgLSBodHRwczovL2ZvbnRhd2Vzb21lLmNvbS9saWNlbnNlL2ZyZWUgQ29weXJpZ2h0IDIwMjUgRm9udGljb25zLCBJbmMuLS0+PHBhdGggZD0iTTIwOCAwTDMzMi4xIDBjMTIuNyAwIDI0LjkgNS4xIDMzLjkgMTQuMWw2Ny45IDY3LjljOSA5IDE0LjEgMjEuMiAxNC4xIDMzLjlMNDQ4IDMzNmMwIDI2LjUtMjEuNSA0OC00OCA0OGwtMTkyIDBjLTI2LjUgMC00OC0yMS41LTQ4LTQ4bDAtMjg4YzAtMjYuNSAyMS41LTQ4IDQ4LTQ4ek00OCAxMjhsODAgMCAwIDY0LTY0IDAgMCAyNTYgMTkyIDAgMC0zMiA2NCAwIDAgNDhjMCAyNi41LTIxLjUgNDgtNDggNDhMNDggNTEyYy0yNi41IDAtNDgtMjEuNS00OC00OEwwIDE3NmMwLTI2LjUgMjEuNS00OCA0OC00OHoiLz48L3N2Zz4=);\n",
              "    background-repeat: no-repeat;\n",
              "    background-size: 14px 14px;\n",
              "    background-position: 0;\n",
              "    display: inline-block;\n",
              "    width: 14px;\n",
              "    height: 14px;\n",
              "    cursor: pointer;\n",
              "}\n",
              "</style><body><div id=\"sk-container-id-1\" class=\"sk-top-container\"><div class=\"sk-text-repr-fallback\"><pre>LogisticRegression(max_iter=1000)</pre><b>In a Jupyter environment, please rerun this cell to show the HTML representation or trust the notebook. <br />On GitHub, the HTML representation is unable to render, please try loading this page with nbviewer.org.</b></div><div class=\"sk-container\" hidden><div class=\"sk-item\"><div class=\"sk-estimator fitted sk-toggleable\"><input class=\"sk-toggleable__control sk-hidden--visually\" id=\"sk-estimator-id-1\" type=\"checkbox\" checked><label for=\"sk-estimator-id-1\" class=\"sk-toggleable__label fitted sk-toggleable__label-arrow\"><div><div>LogisticRegression</div></div><div><a class=\"sk-estimator-doc-link fitted\" rel=\"noreferrer\" target=\"_blank\" href=\"https://scikit-learn.org/1.7/modules/generated/sklearn.linear_model.LogisticRegression.html\">?<span>Documentation for LogisticRegression</span></a><span class=\"sk-estimator-doc-link fitted\">i<span>Fitted</span></span></div></label><div class=\"sk-toggleable__content fitted\" data-param-prefix=\"\">\n",
              "        <div class=\"estimator-table\">\n",
              "            <details>\n",
              "                <summary>Parameters</summary>\n",
              "                <table class=\"parameters-table\">\n",
              "                  <tbody>\n",
              "                    \n",
              "        <tr class=\"default\">\n",
              "            <td><i class=\"copy-paste-icon\"\n",
              "                 onclick=\"copyToClipboard('penalty',\n",
              "                          this.parentElement.nextElementSibling)\"\n",
              "            ></i></td>\n",
              "            <td class=\"param\">penalty&nbsp;</td>\n",
              "            <td class=\"value\">&#x27;l2&#x27;</td>\n",
              "        </tr>\n",
              "    \n",
              "\n",
              "        <tr class=\"default\">\n",
              "            <td><i class=\"copy-paste-icon\"\n",
              "                 onclick=\"copyToClipboard('dual',\n",
              "                          this.parentElement.nextElementSibling)\"\n",
              "            ></i></td>\n",
              "            <td class=\"param\">dual&nbsp;</td>\n",
              "            <td class=\"value\">False</td>\n",
              "        </tr>\n",
              "    \n",
              "\n",
              "        <tr class=\"default\">\n",
              "            <td><i class=\"copy-paste-icon\"\n",
              "                 onclick=\"copyToClipboard('tol',\n",
              "                          this.parentElement.nextElementSibling)\"\n",
              "            ></i></td>\n",
              "            <td class=\"param\">tol&nbsp;</td>\n",
              "            <td class=\"value\">0.0001</td>\n",
              "        </tr>\n",
              "    \n",
              "\n",
              "        <tr class=\"default\">\n",
              "            <td><i class=\"copy-paste-icon\"\n",
              "                 onclick=\"copyToClipboard('C',\n",
              "                          this.parentElement.nextElementSibling)\"\n",
              "            ></i></td>\n",
              "            <td class=\"param\">C&nbsp;</td>\n",
              "            <td class=\"value\">1.0</td>\n",
              "        </tr>\n",
              "    \n",
              "\n",
              "        <tr class=\"default\">\n",
              "            <td><i class=\"copy-paste-icon\"\n",
              "                 onclick=\"copyToClipboard('fit_intercept',\n",
              "                          this.parentElement.nextElementSibling)\"\n",
              "            ></i></td>\n",
              "            <td class=\"param\">fit_intercept&nbsp;</td>\n",
              "            <td class=\"value\">True</td>\n",
              "        </tr>\n",
              "    \n",
              "\n",
              "        <tr class=\"default\">\n",
              "            <td><i class=\"copy-paste-icon\"\n",
              "                 onclick=\"copyToClipboard('intercept_scaling',\n",
              "                          this.parentElement.nextElementSibling)\"\n",
              "            ></i></td>\n",
              "            <td class=\"param\">intercept_scaling&nbsp;</td>\n",
              "            <td class=\"value\">1</td>\n",
              "        </tr>\n",
              "    \n",
              "\n",
              "        <tr class=\"default\">\n",
              "            <td><i class=\"copy-paste-icon\"\n",
              "                 onclick=\"copyToClipboard('class_weight',\n",
              "                          this.parentElement.nextElementSibling)\"\n",
              "            ></i></td>\n",
              "            <td class=\"param\">class_weight&nbsp;</td>\n",
              "            <td class=\"value\">None</td>\n",
              "        </tr>\n",
              "    \n",
              "\n",
              "        <tr class=\"default\">\n",
              "            <td><i class=\"copy-paste-icon\"\n",
              "                 onclick=\"copyToClipboard('random_state',\n",
              "                          this.parentElement.nextElementSibling)\"\n",
              "            ></i></td>\n",
              "            <td class=\"param\">random_state&nbsp;</td>\n",
              "            <td class=\"value\">None</td>\n",
              "        </tr>\n",
              "    \n",
              "\n",
              "        <tr class=\"default\">\n",
              "            <td><i class=\"copy-paste-icon\"\n",
              "                 onclick=\"copyToClipboard('solver',\n",
              "                          this.parentElement.nextElementSibling)\"\n",
              "            ></i></td>\n",
              "            <td class=\"param\">solver&nbsp;</td>\n",
              "            <td class=\"value\">&#x27;lbfgs&#x27;</td>\n",
              "        </tr>\n",
              "    \n",
              "\n",
              "        <tr class=\"user-set\">\n",
              "            <td><i class=\"copy-paste-icon\"\n",
              "                 onclick=\"copyToClipboard('max_iter',\n",
              "                          this.parentElement.nextElementSibling)\"\n",
              "            ></i></td>\n",
              "            <td class=\"param\">max_iter&nbsp;</td>\n",
              "            <td class=\"value\">1000</td>\n",
              "        </tr>\n",
              "    \n",
              "\n",
              "        <tr class=\"default\">\n",
              "            <td><i class=\"copy-paste-icon\"\n",
              "                 onclick=\"copyToClipboard('multi_class',\n",
              "                          this.parentElement.nextElementSibling)\"\n",
              "            ></i></td>\n",
              "            <td class=\"param\">multi_class&nbsp;</td>\n",
              "            <td class=\"value\">&#x27;deprecated&#x27;</td>\n",
              "        </tr>\n",
              "    \n",
              "\n",
              "        <tr class=\"default\">\n",
              "            <td><i class=\"copy-paste-icon\"\n",
              "                 onclick=\"copyToClipboard('verbose',\n",
              "                          this.parentElement.nextElementSibling)\"\n",
              "            ></i></td>\n",
              "            <td class=\"param\">verbose&nbsp;</td>\n",
              "            <td class=\"value\">0</td>\n",
              "        </tr>\n",
              "    \n",
              "\n",
              "        <tr class=\"default\">\n",
              "            <td><i class=\"copy-paste-icon\"\n",
              "                 onclick=\"copyToClipboard('warm_start',\n",
              "                          this.parentElement.nextElementSibling)\"\n",
              "            ></i></td>\n",
              "            <td class=\"param\">warm_start&nbsp;</td>\n",
              "            <td class=\"value\">False</td>\n",
              "        </tr>\n",
              "    \n",
              "\n",
              "        <tr class=\"default\">\n",
              "            <td><i class=\"copy-paste-icon\"\n",
              "                 onclick=\"copyToClipboard('n_jobs',\n",
              "                          this.parentElement.nextElementSibling)\"\n",
              "            ></i></td>\n",
              "            <td class=\"param\">n_jobs&nbsp;</td>\n",
              "            <td class=\"value\">None</td>\n",
              "        </tr>\n",
              "    \n",
              "\n",
              "        <tr class=\"default\">\n",
              "            <td><i class=\"copy-paste-icon\"\n",
              "                 onclick=\"copyToClipboard('l1_ratio',\n",
              "                          this.parentElement.nextElementSibling)\"\n",
              "            ></i></td>\n",
              "            <td class=\"param\">l1_ratio&nbsp;</td>\n",
              "            <td class=\"value\">None</td>\n",
              "        </tr>\n",
              "    \n",
              "                  </tbody>\n",
              "                </table>\n",
              "            </details>\n",
              "        </div>\n",
              "    </div></div></div></div></div><script>function copyToClipboard(text, element) {\n",
              "    // Get the parameter prefix from the closest toggleable content\n",
              "    const toggleableContent = element.closest('.sk-toggleable__content');\n",
              "    const paramPrefix = toggleableContent ? toggleableContent.dataset.paramPrefix : '';\n",
              "    const fullParamName = paramPrefix ? `${paramPrefix}${text}` : text;\n",
              "\n",
              "    const originalStyle = element.style;\n",
              "    const computedStyle = window.getComputedStyle(element);\n",
              "    const originalWidth = computedStyle.width;\n",
              "    const originalHTML = element.innerHTML.replace('Copied!', '');\n",
              "\n",
              "    navigator.clipboard.writeText(fullParamName)\n",
              "        .then(() => {\n",
              "            element.style.width = originalWidth;\n",
              "            element.style.color = 'green';\n",
              "            element.innerHTML = \"Copied!\";\n",
              "\n",
              "            setTimeout(() => {\n",
              "                element.innerHTML = originalHTML;\n",
              "                element.style = originalStyle;\n",
              "            }, 2000);\n",
              "        })\n",
              "        .catch(err => {\n",
              "            console.error('Failed to copy:', err);\n",
              "            element.style.color = 'red';\n",
              "            element.innerHTML = \"Failed!\";\n",
              "            setTimeout(() => {\n",
              "                element.innerHTML = originalHTML;\n",
              "                element.style = originalStyle;\n",
              "            }, 2000);\n",
              "        });\n",
              "    return false;\n",
              "}\n",
              "\n",
              "document.querySelectorAll('.fa-regular.fa-copy').forEach(function(element) {\n",
              "    const toggleableContent = element.closest('.sk-toggleable__content');\n",
              "    const paramPrefix = toggleableContent ? toggleableContent.dataset.paramPrefix : '';\n",
              "    const paramName = element.parentElement.nextElementSibling.textContent.trim();\n",
              "    const fullParamName = paramPrefix ? `${paramPrefix}${paramName}` : paramName;\n",
              "\n",
              "    element.setAttribute('title', fullParamName);\n",
              "});\n",
              "</script></body>"
            ],
            "text/plain": [
              "LogisticRegression(max_iter=1000)"
            ]
          },
          "execution_count": 66,
          "metadata": {},
          "output_type": "execute_result"
        }
      ],
      "source": [
        "model = LogisticRegression(max_iter=1000)\n",
        "model.fit(X_train_scaled, y_train_upsampled)"
      ]
    },
    {
      "cell_type": "code",
      "execution_count": 67,
      "metadata": {},
      "outputs": [
        {
          "name": "stdout",
          "output_type": "stream",
          "text": [
            "Accuracy: 89.55\n",
            "              precision    recall  f1-score   support\n",
            "\n",
            "           0       0.95      0.90      0.92      1387\n",
            "           1       0.80      0.89      0.84       613\n",
            "\n",
            "    accuracy                           0.90      2000\n",
            "   macro avg       0.87      0.89      0.88      2000\n",
            "weighted avg       0.90      0.90      0.90      2000\n",
            "\n"
          ]
        }
      ],
      "source": [
        "y_pred = model.predict(X_test_scaled)\n",
        "acc_log = accuracy_score(y_test, y_pred) * 100\n",
        "print(\"Accuracy:\", acc_log)\n",
        "print(classification_report(y_test, y_pred))"
      ]
    },
    {
      "cell_type": "code",
      "execution_count": 68,
      "metadata": {},
      "outputs": [
        {
          "data": {
            "image/png": "[encoded data removed]",
            "text/plain": [
              "<Figure size 640x480 with 2 Axes>"
            ]
          },
          "metadata": {},
          "output_type": "display_data"
        }
      ],
      "source": [
        "cm = confusion_matrix(y_test, y_pred)\n",
        "disp = ConfusionMatrixDisplay(confusion_matrix=cm)\n",
        "disp.plot(cmap='Blues', values_format='d')\n",
        "plt.title(\"Confusion Matrix - Logistic Regression\")\n",
        "plt.show()"
      ]
    },
    {
      "cell_type": "markdown",
      "metadata": {},
      "source": [
        "# Using Decision Tree"
      ]
    },
    {
      "cell_type": "code",
      "execution_count": 69,
      "metadata": {},
      "outputs": [
        {
          "data": {
            "text/html": [
              "<style>#sk-container-id-2 {\n",
              "  /* Definition of color scheme common for light and dark mode */\n",
              "  --sklearn-color-text: #000;\n",
              "  --sklearn-color-text-muted: #666;\n",
              "  --sklearn-color-line: gray;\n",
              "  /* Definition of color scheme for unfitted estimators */\n",
              "  --sklearn-color-unfitted-level-0: #fff5e6;\n",
              "  --sklearn-color-unfitted-level-1: #f6e4d2;\n",
              "  --sklearn-color-unfitted-level-2: #ffe0b3;\n",
              "  --sklearn-color-unfitted-level-3: chocolate;\n",
              "  /* Definition of color scheme for fitted estimators */\n",
              "  --sklearn-color-fitted-level-0: #f0f8ff;\n",
              "  --sklearn-color-fitted-level-1: #d4ebff;\n",
              "  --sklearn-color-fitted-level-2: #b3dbfd;\n",
              "  --sklearn-color-fitted-level-3: cornflowerblue;\n",
              "\n",
              "  /* Specific color for light theme */\n",
              "  --sklearn-color-text-on-default-background: var(--sg-text-color, var(--theme-code-foreground, var(--jp-content-font-color1, black)));\n",
              "  --sklearn-color-background: var(--sg-background-color, var(--theme-background, var(--jp-layout-color0, white)));\n",
              "  --sklearn-color-border-box: var(--sg-text-color, var(--theme-code-foreground, var(--jp-content-font-color1, black)));\n",
              "  --sklearn-color-icon: #696969;\n",
              "\n",
              "  @media (prefers-color-scheme: dark) {\n",
              "    /* Redefinition of color scheme for dark theme */\n",
              "    --sklearn-color-text-on-default-background: var(--sg-text-color, var(--theme-code-foreground, var(--jp-content-font-color1, white)));\n",
              "    --sklearn-color-background: var(--sg-background-color, var(--theme-background, var(--jp-layout-color0, #111)));\n",
              "    --sklearn-color-border-box: var(--sg-text-color, var(--theme-code-foreground, var(--jp-content-font-color1, white)));\n",
              "    --sklearn-color-icon: #878787;\n",
              "  }\n",
              "}\n",
              "\n",
              "#sk-container-id-2 {\n",
              "  color: var(--sklearn-color-text);\n",
              "}\n",
              "\n",
              "#sk-container-id-2 pre {\n",
              "  padding: 0;\n",
              "}\n",
              "\n",
              "#sk-container-id-2 input.sk-hidden--visually {\n",
              "  border: 0;\n",
              "  clip: rect(1px 1px 1px 1px);\n",
              "  clip: rect(1px, 1px, 1px, 1px);\n",
              "  height: 1px;\n",
              "  margin: -1px;\n",
              "  overflow: hidden;\n",
              "  padding: 0;\n",
              "  position: absolute;\n",
              "  width: 1px;\n",
              "}\n",
              "\n",
              "#sk-container-id-2 div.sk-dashed-wrapped {\n",
              "  border: 1px dashed var(--sklearn-color-line);\n",
              "  margin: 0 0.4em 0.5em 0.4em;\n",
              "  box-sizing: border-box;\n",
              "  padding-bottom: 0.4em;\n",
              "  background-color: var(--sklearn-color-background);\n",
              "}\n",
              "\n",
              "#sk-container-id-2 div.sk-container {\n",
              "  /* jupyter's `normalize.less` sets `[hidden] { display: none; }`\n",
              "     but bootstrap.min.css set `[hidden] { display: none !important; }`\n",
              "     so we also need the `!important` here to be able to override the\n",
              "     default hidden behavior on the sphinx rendered scikit-learn.org.\n",
              "     See: https://github.com/scikit-learn/scikit-learn/issues/21755 */\n",
              "  display: inline-block !important;\n",
              "  position: relative;\n",
              "}\n",
              "\n",
              "#sk-container-id-2 div.sk-text-repr-fallback {\n",
              "  display: none;\n",
              "}\n",
              "\n",
              "div.sk-parallel-item,\n",
              "div.sk-serial,\n",
              "div.sk-item {\n",
              "  /* draw centered vertical line to link estimators */\n",
              "  background-image: linear-gradient(var(--sklearn-color-text-on-default-background), var(--sklearn-color-text-on-default-background));\n",
              "  background-size: 2px 100%;\n",
              "  background-repeat: no-repeat;\n",
              "  background-position: center center;\n",
              "}\n",
              "\n",
              "/* Parallel-specific style estimator block */\n",
              "\n",
              "#sk-container-id-2 div.sk-parallel-item::after {\n",
              "  content: \"\";\n",
              "  width: 100%;\n",
              "  border-bottom: 2px solid var(--sklearn-color-text-on-default-background);\n",
              "  flex-grow: 1;\n",
              "}\n",
              "\n",
              "#sk-container-id-2 div.sk-parallel {\n",
              "  display: flex;\n",
              "  align-items: stretch;\n",
              "  justify-content: center;\n",
              "  background-color: var(--sklearn-color-background);\n",
              "  position: relative;\n",
              "}\n",
              "\n",
              "#sk-container-id-2 div.sk-parallel-item {\n",
              "  display: flex;\n",
              "  flex-direction: column;\n",
              "}\n",
              "\n",
              "#sk-container-id-2 div.sk-parallel-item:first-child::after {\n",
              "  align-self: flex-end;\n",
              "  width: 50%;\n",
              "}\n",
              "\n",
              "#sk-container-id-2 div.sk-parallel-item:last-child::after {\n",
              "  align-self: flex-start;\n",
              "  width: 50%;\n",
              "}\n",
              "\n",
              "#sk-container-id-2 div.sk-parallel-item:only-child::after {\n",
              "  width: 0;\n",
              "}\n",
              "\n",
              "/* Serial-specific style estimator block */\n",
              "\n",
              "#sk-container-id-2 div.sk-serial {\n",
              "  display: flex;\n",
              "  flex-direction: column;\n",
              "  align-items: center;\n",
              "  background-color: var(--sklearn-color-background);\n",
              "  padding-right: 1em;\n",
              "  padding-left: 1em;\n",
              "}\n",
              "\n",
              "\n",
              "/* Toggleable style: style used for estimator/Pipeline/ColumnTransformer box that is\n",
              "clickable and can be expanded/collapsed.\n",
              "- Pipeline and ColumnTransformer use this feature and define the default style\n",
              "- Estimators will overwrite some part of the style using the `sk-estimator` class\n",
              "*/\n",
              "\n",
              "/* Pipeline and ColumnTransformer style (default) */\n",
              "\n",
              "#sk-container-id-2 div.sk-toggleable {\n",
              "  /* Default theme specific background. It is overwritten whether we have a\n",
              "  specific estimator or a Pipeline/ColumnTransformer */\n",
              "  background-color: var(--sklearn-color-background);\n",
              "}\n",
              "\n",
              "/* Toggleable label */\n",
              "#sk-container-id-2 label.sk-toggleable__label {\n",
              "  cursor: pointer;\n",
              "  display: flex;\n",
              "  width: 100%;\n",
              "  margin-bottom: 0;\n",
              "  padding: 0.5em;\n",
              "  box-sizing: border-box;\n",
              "  text-align: center;\n",
              "  align-items: start;\n",
              "  justify-content: space-between;\n",
              "  gap: 0.5em;\n",
              "}\n",
              "\n",
              "#sk-container-id-2 label.sk-toggleable__label .caption {\n",
              "  font-size: 0.6rem;\n",
              "  font-weight: lighter;\n",
              "  color: var(--sklearn-color-text-muted);\n",
              "}\n",
              "\n",
              "#sk-container-id-2 label.sk-toggleable__label-arrow:before {\n",
              "  /* Arrow on the left of the label */\n",
              "  content: \"▸\";\n",
              "  float: left;\n",
              "  margin-right: 0.25em;\n",
              "  color: var(--sklearn-color-icon);\n",
              "}\n",
              "\n",
              "#sk-container-id-2 label.sk-toggleable__label-arrow:hover:before {\n",
              "  color: var(--sklearn-color-text);\n",
              "}\n",
              "\n",
              "/* Toggleable content - dropdown */\n",
              "\n",
              "#sk-container-id-2 div.sk-toggleable__content {\n",
              "  display: none;\n",
              "  text-align: left;\n",
              "  /* unfitted */\n",
              "  background-color: var(--sklearn-color-unfitted-level-0);\n",
              "}\n",
              "\n",
              "#sk-container-id-2 div.sk-toggleable__content.fitted {\n",
              "  /* fitted */\n",
              "  background-color: var(--sklearn-color-fitted-level-0);\n",
              "}\n",
              "\n",
              "#sk-container-id-2 div.sk-toggleable__content pre {\n",
              "  margin: 0.2em;\n",
              "  border-radius: 0.25em;\n",
              "  color: var(--sklearn-color-text);\n",
              "  /* unfitted */\n",
              "  background-color: var(--sklearn-color-unfitted-level-0);\n",
              "}\n",
              "\n",
              "#sk-container-id-2 div.sk-toggleable__content.fitted pre {\n",
              "  /* unfitted */\n",
              "  background-color: var(--sklearn-color-fitted-level-0);\n",
              "}\n",
              "\n",
              "#sk-container-id-2 input.sk-toggleable__control:checked~div.sk-toggleable__content {\n",
              "  /* Expand drop-down */\n",
              "  display: block;\n",
              "  width: 100%;\n",
              "  overflow: visible;\n",
              "}\n",
              "\n",
              "#sk-container-id-2 input.sk-toggleable__control:checked~label.sk-toggleable__label-arrow:before {\n",
              "  content: \"▾\";\n",
              "}\n",
              "\n",
              "/* Pipeline/ColumnTransformer-specific style */\n",
              "\n",
              "#sk-container-id-2 div.sk-label input.sk-toggleable__control:checked~label.sk-toggleable__label {\n",
              "  color: var(--sklearn-color-text);\n",
              "  background-color: var(--sklearn-color-unfitted-level-2);\n",
              "}\n",
              "\n",
              "#sk-container-id-2 div.sk-label.fitted input.sk-toggleable__control:checked~label.sk-toggleable__label {\n",
              "  background-color: var(--sklearn-color-fitted-level-2);\n",
              "}\n",
              "\n",
              "/* Estimator-specific style */\n",
              "\n",
              "/* Colorize estimator box */\n",
              "#sk-container-id-2 div.sk-estimator input.sk-toggleable__control:checked~label.sk-toggleable__label {\n",
              "  /* unfitted */\n",
              "  background-color: var(--sklearn-color-unfitted-level-2);\n",
              "}\n",
              "\n",
              "#sk-container-id-2 div.sk-estimator.fitted input.sk-toggleable__control:checked~label.sk-toggleable__label {\n",
              "  /* fitted */\n",
              "  background-color: var(--sklearn-color-fitted-level-2);\n",
              "}\n",
              "\n",
              "#sk-container-id-2 div.sk-label label.sk-toggleable__label,\n",
              "#sk-container-id-2 div.sk-label label {\n",
              "  /* The background is the default theme color */\n",
              "  color: var(--sklearn-color-text-on-default-background);\n",
              "}\n",
              "\n",
              "/* On hover, darken the color of the background */\n",
              "#sk-container-id-2 div.sk-label:hover label.sk-toggleable__label {\n",
              "  color: var(--sklearn-color-text);\n",
              "  background-color: var(--sklearn-color-unfitted-level-2);\n",
              "}\n",
              "\n",
              "/* Label box, darken color on hover, fitted */\n",
              "#sk-container-id-2 div.sk-label.fitted:hover label.sk-toggleable__label.fitted {\n",
              "  color: var(--sklearn-color-text);\n",
              "  background-color: var(--sklearn-color-fitted-level-2);\n",
              "}\n",
              "\n",
              "/* Estimator label */\n",
              "\n",
              "#sk-container-id-2 div.sk-label label {\n",
              "  font-family: monospace;\n",
              "  font-weight: bold;\n",
              "  display: inline-block;\n",
              "  line-height: 1.2em;\n",
              "}\n",
              "\n",
              "#sk-container-id-2 div.sk-label-container {\n",
              "  text-align: center;\n",
              "}\n",
              "\n",
              "/* Estimator-specific */\n",
              "#sk-container-id-2 div.sk-estimator {\n",
              "  font-family: monospace;\n",
              "  border: 1px dotted var(--sklearn-color-border-box);\n",
              "  border-radius: 0.25em;\n",
              "  box-sizing: border-box;\n",
              "  margin-bottom: 0.5em;\n",
              "  /* unfitted */\n",
              "  background-color: var(--sklearn-color-unfitted-level-0);\n",
              "}\n",
              "\n",
              "#sk-container-id-2 div.sk-estimator.fitted {\n",
              "  /* fitted */\n",
              "  background-color: var(--sklearn-color-fitted-level-0);\n",
              "}\n",
              "\n",
              "/* on hover */\n",
              "#sk-container-id-2 div.sk-estimator:hover {\n",
              "  /* unfitted */\n",
              "  background-color: var(--sklearn-color-unfitted-level-2);\n",
              "}\n",
              "\n",
              "#sk-container-id-2 div.sk-estimator.fitted:hover {\n",
              "  /* fitted */\n",
              "  background-color: var(--sklearn-color-fitted-level-2);\n",
              "}\n",
              "\n",
              "/* Specification for estimator info (e.g. \"i\" and \"?\") */\n",
              "\n",
              "/* Common style for \"i\" and \"?\" */\n",
              "\n",
              ".sk-estimator-doc-link,\n",
              "a:link.sk-estimator-doc-link,\n",
              "a:visited.sk-estimator-doc-link {\n",
              "  float: right;\n",
              "  font-size: smaller;\n",
              "  line-height: 1em;\n",
              "  font-family: monospace;\n",
              "  background-color: var(--sklearn-color-background);\n",
              "  border-radius: 1em;\n",
              "  height: 1em;\n",
              "  width: 1em;\n",
              "  text-decoration: none !important;\n",
              "  margin-left: 0.5em;\n",
              "  text-align: center;\n",
              "  /* unfitted */\n",
              "  border: var(--sklearn-color-unfitted-level-1) 1pt solid;\n",
              "  color: var(--sklearn-color-unfitted-level-1);\n",
              "}\n",
              "\n",
              ".sk-estimator-doc-link.fitted,\n",
              "a:link.sk-estimator-doc-link.fitted,\n",
              "a:visited.sk-estimator-doc-link.fitted {\n",
              "  /* fitted */\n",
              "  border: var(--sklearn-color-fitted-level-1) 1pt solid;\n",
              "  color: var(--sklearn-color-fitted-level-1);\n",
              "}\n",
              "\n",
              "/* On hover */\n",
              "div.sk-estimator:hover .sk-estimator-doc-link:hover,\n",
              ".sk-estimator-doc-link:hover,\n",
              "div.sk-label-container:hover .sk-estimator-doc-link:hover,\n",
              ".sk-estimator-doc-link:hover {\n",
              "  /* unfitted */\n",
              "  background-color: var(--sklearn-color-unfitted-level-3);\n",
              "  color: var(--sklearn-color-background);\n",
              "  text-decoration: none;\n",
              "}\n",
              "\n",
              "div.sk-estimator.fitted:hover .sk-estimator-doc-link.fitted:hover,\n",
              ".sk-estimator-doc-link.fitted:hover,\n",
              "div.sk-label-container:hover .sk-estimator-doc-link.fitted:hover,\n",
              ".sk-estimator-doc-link.fitted:hover {\n",
              "  /* fitted */\n",
              "  background-color: var(--sklearn-color-fitted-level-3);\n",
              "  color: var(--sklearn-color-background);\n",
              "  text-decoration: none;\n",
              "}\n",
              "\n",
              "/* Span, style for the box shown on hovering the info icon */\n",
              ".sk-estimator-doc-link span {\n",
              "  display: none;\n",
              "  z-index: 9999;\n",
              "  position: relative;\n",
              "  font-weight: normal;\n",
              "  right: .2ex;\n",
              "  padding: .5ex;\n",
              "  margin: .5ex;\n",
              "  width: min-content;\n",
              "  min-width: 20ex;\n",
              "  max-width: 50ex;\n",
              "  color: var(--sklearn-color-text);\n",
              "  box-shadow: 2pt 2pt 4pt #999;\n",
              "  /* unfitted */\n",
              "  background: var(--sklearn-color-unfitted-level-0);\n",
              "  border: .5pt solid var(--sklearn-color-unfitted-level-3);\n",
              "}\n",
              "\n",
              ".sk-estimator-doc-link.fitted span {\n",
              "  /* fitted */\n",
              "  background: var(--sklearn-color-fitted-level-0);\n",
              "  border: var(--sklearn-color-fitted-level-3);\n",
              "}\n",
              "\n",
              ".sk-estimator-doc-link:hover span {\n",
              "  display: block;\n",
              "}\n",
              "\n",
              "/* \"?\"-specific style due to the `<a>` HTML tag */\n",
              "\n",
              "#sk-container-id-2 a.estimator_doc_link {\n",
              "  float: right;\n",
              "  font-size: 1rem;\n",
              "  line-height: 1em;\n",
              "  font-family: monospace;\n",
              "  background-color: var(--sklearn-color-background);\n",
              "  border-radius: 1rem;\n",
              "  height: 1rem;\n",
              "  width: 1rem;\n",
              "  text-decoration: none;\n",
              "  /* unfitted */\n",
              "  color: var(--sklearn-color-unfitted-level-1);\n",
              "  border: var(--sklearn-color-unfitted-level-1) 1pt solid;\n",
              "}\n",
              "\n",
              "#sk-container-id-2 a.estimator_doc_link.fitted {\n",
              "  /* fitted */\n",
              "  border: var(--sklearn-color-fitted-level-1) 1pt solid;\n",
              "  color: var(--sklearn-color-fitted-level-1);\n",
              "}\n",
              "\n",
              "/* On hover */\n",
              "#sk-container-id-2 a.estimator_doc_link:hover {\n",
              "  /* unfitted */\n",
              "  background-color: var(--sklearn-color-unfitted-level-3);\n",
              "  color: var(--sklearn-color-background);\n",
              "  text-decoration: none;\n",
              "}\n",
              "\n",
              "#sk-container-id-2 a.estimator_doc_link.fitted:hover {\n",
              "  /* fitted */\n",
              "  background-color: var(--sklearn-color-fitted-level-3);\n",
              "}\n",
              "\n",
              ".estimator-table summary {\n",
              "    padding: .5rem;\n",
              "    font-family: monospace;\n",
              "    cursor: pointer;\n",
              "}\n",
              "\n",
              ".estimator-table details[open] {\n",
              "    padding-left: 0.1rem;\n",
              "    padding-right: 0.1rem;\n",
              "    padding-bottom: 0.3rem;\n",
              "}\n",
              "\n",
              ".estimator-table .parameters-table {\n",
              "    margin-left: auto !important;\n",
              "    margin-right: auto !important;\n",
              "}\n",
              "\n",
              ".estimator-table .parameters-table tr:nth-child(odd) {\n",
              "    background-color: #fff;\n",
              "}\n",
              "\n",
              ".estimator-table .parameters-table tr:nth-child(even) {\n",
              "    background-color: #f6f6f6;\n",
              "}\n",
              "\n",
              ".estimator-table .parameters-table tr:hover {\n",
              "    background-color: #e0e0e0;\n",
              "}\n",
              "\n",
              ".estimator-table table td {\n",
              "    border: 1px solid rgba(106, 105, 104, 0.232);\n",
              "}\n",
              "\n",
              ".user-set td {\n",
              "    color:rgb(255, 94, 0);\n",
              "    text-align: left;\n",
              "}\n",
              "\n",
              ".user-set td.value pre {\n",
              "    color:rgb(255, 94, 0) !important;\n",
              "    background-color: transparent !important;\n",
              "}\n",
              "\n",
              ".default td {\n",
              "    color: black;\n",
              "    text-align: left;\n",
              "}\n",
              "\n",
              ".user-set td i,\n",
              ".default td i {\n",
              "    color: black;\n",
              "}\n",
              "\n",
              ".copy-paste-icon {\n",
              "    background-image: url(data:image/svg+xml;base64,PHN2ZyB4bWxucz0iaHR0cDovL3d3dy53My5vcmcvMjAwMC9zdmciIHZpZXdCb3g9IjAgMCA0NDggNTEyIj48IS0tIUZvbnQgQXdlc29tZSBGcmVlIDYuNy4yIGJ5IEBmb250YXdlc29tZSAtIGh0dHBzOi8vZm9udGF3ZXNvbWUuY29tIExpY2Vuc2UgLSBodHRwczovL2ZvbnRhd2Vzb21lLmNvbS9saWNlbnNlL2ZyZWUgQ29weXJpZ2h0IDIwMjUgRm9udGljb25zLCBJbmMuLS0+PHBhdGggZD0iTTIwOCAwTDMzMi4xIDBjMTIuNyAwIDI0LjkgNS4xIDMzLjkgMTQuMWw2Ny45IDY3LjljOSA5IDE0LjEgMjEuMiAxNC4xIDMzLjlMNDQ4IDMzNmMwIDI2LjUtMjEuNSA0OC00OCA0OGwtMTkyIDBjLTI2LjUgMC00OC0yMS41LTQ4LTQ4bDAtMjg4YzAtMjYuNSAyMS41LTQ4IDQ4LTQ4ek00OCAxMjhsODAgMCAwIDY0LTY0IDAgMCAyNTYgMTkyIDAgMC0zMiA2NCAwIDAgNDhjMCAyNi41LTIxLjUgNDgtNDggNDhMNDggNTEyYy0yNi41IDAtNDgtMjEuNS00OC00OEwwIDE3NmMwLTI2LjUgMjEuNS00OCA0OC00OHoiLz48L3N2Zz4=);\n",
              "    background-repeat: no-repeat;\n",
              "    background-size: 14px 14px;\n",
              "    background-position: 0;\n",
              "    display: inline-block;\n",
              "    width: 14px;\n",
              "    height: 14px;\n",
              "    cursor: pointer;\n",
              "}\n",
              "</style><body><div id=\"sk-container-id-2\" class=\"sk-top-container\"><div class=\"sk-text-repr-fallback\"><pre>DecisionTreeClassifier()</pre><b>In a Jupyter environment, please rerun this cell to show the HTML representation or trust the notebook. <br />On GitHub, the HTML representation is unable to render, please try loading this page with nbviewer.org.</b></div><div class=\"sk-container\" hidden><div class=\"sk-item\"><div class=\"sk-estimator fitted sk-toggleable\"><input class=\"sk-toggleable__control sk-hidden--visually\" id=\"sk-estimator-id-2\" type=\"checkbox\" checked><label for=\"sk-estimator-id-2\" class=\"sk-toggleable__label fitted sk-toggleable__label-arrow\"><div><div>DecisionTreeClassifier</div></div><div><a class=\"sk-estimator-doc-link fitted\" rel=\"noreferrer\" target=\"_blank\" href=\"https://scikit-learn.org/1.7/modules/generated/sklearn.tree.DecisionTreeClassifier.html\">?<span>Documentation for DecisionTreeClassifier</span></a><span class=\"sk-estimator-doc-link fitted\">i<span>Fitted</span></span></div></label><div class=\"sk-toggleable__content fitted\" data-param-prefix=\"\">\n",
              "        <div class=\"estimator-table\">\n",
              "            <details>\n",
              "                <summary>Parameters</summary>\n",
              "                <table class=\"parameters-table\">\n",
              "                  <tbody>\n",
              "                    \n",
              "        <tr class=\"default\">\n",
              "            <td><i class=\"copy-paste-icon\"\n",
              "                 onclick=\"copyToClipboard('criterion',\n",
              "                          this.parentElement.nextElementSibling)\"\n",
              "            ></i></td>\n",
              "            <td class=\"param\">criterion&nbsp;</td>\n",
              "            <td class=\"value\">&#x27;gini&#x27;</td>\n",
              "        </tr>\n",
              "    \n",
              "\n",
              "        <tr class=\"default\">\n",
              "            <td><i class=\"copy-paste-icon\"\n",
              "                 onclick=\"copyToClipboard('splitter',\n",
              "                          this.parentElement.nextElementSibling)\"\n",
              "            ></i></td>\n",
              "            <td class=\"param\">splitter&nbsp;</td>\n",
              "            <td class=\"value\">&#x27;best&#x27;</td>\n",
              "        </tr>\n",
              "    \n",
              "\n",
              "        <tr class=\"default\">\n",
              "            <td><i class=\"copy-paste-icon\"\n",
              "                 onclick=\"copyToClipboard('max_depth',\n",
              "                          this.parentElement.nextElementSibling)\"\n",
              "            ></i></td>\n",
              "            <td class=\"param\">max_depth&nbsp;</td>\n",
              "            <td class=\"value\">None</td>\n",
              "        </tr>\n",
              "    \n",
              "\n",
              "        <tr class=\"default\">\n",
              "            <td><i class=\"copy-paste-icon\"\n",
              "                 onclick=\"copyToClipboard('min_samples_split',\n",
              "                          this.parentElement.nextElementSibling)\"\n",
              "            ></i></td>\n",
              "            <td class=\"param\">min_samples_split&nbsp;</td>\n",
              "            <td class=\"value\">2</td>\n",
              "        </tr>\n",
              "    \n",
              "\n",
              "        <tr class=\"default\">\n",
              "            <td><i class=\"copy-paste-icon\"\n",
              "                 onclick=\"copyToClipboard('min_samples_leaf',\n",
              "                          this.parentElement.nextElementSibling)\"\n",
              "            ></i></td>\n",
              "            <td class=\"param\">min_samples_leaf&nbsp;</td>\n",
              "            <td class=\"value\">1</td>\n",
              "        </tr>\n",
              "    \n",
              "\n",
              "        <tr class=\"default\">\n",
              "            <td><i class=\"copy-paste-icon\"\n",
              "                 onclick=\"copyToClipboard('min_weight_fraction_leaf',\n",
              "                          this.parentElement.nextElementSibling)\"\n",
              "            ></i></td>\n",
              "            <td class=\"param\">min_weight_fraction_leaf&nbsp;</td>\n",
              "            <td class=\"value\">0.0</td>\n",
              "        </tr>\n",
              "    \n",
              "\n",
              "        <tr class=\"default\">\n",
              "            <td><i class=\"copy-paste-icon\"\n",
              "                 onclick=\"copyToClipboard('max_features',\n",
              "                          this.parentElement.nextElementSibling)\"\n",
              "            ></i></td>\n",
              "            <td class=\"param\">max_features&nbsp;</td>\n",
              "            <td class=\"value\">None</td>\n",
              "        </tr>\n",
              "    \n",
              "\n",
              "        <tr class=\"default\">\n",
              "            <td><i class=\"copy-paste-icon\"\n",
              "                 onclick=\"copyToClipboard('random_state',\n",
              "                          this.parentElement.nextElementSibling)\"\n",
              "            ></i></td>\n",
              "            <td class=\"param\">random_state&nbsp;</td>\n",
              "            <td class=\"value\">None</td>\n",
              "        </tr>\n",
              "    \n",
              "\n",
              "        <tr class=\"default\">\n",
              "            <td><i class=\"copy-paste-icon\"\n",
              "                 onclick=\"copyToClipboard('max_leaf_nodes',\n",
              "                          this.parentElement.nextElementSibling)\"\n",
              "            ></i></td>\n",
              "            <td class=\"param\">max_leaf_nodes&nbsp;</td>\n",
              "            <td class=\"value\">None</td>\n",
              "        </tr>\n",
              "    \n",
              "\n",
              "        <tr class=\"default\">\n",
              "            <td><i class=\"copy-paste-icon\"\n",
              "                 onclick=\"copyToClipboard('min_impurity_decrease',\n",
              "                          this.parentElement.nextElementSibling)\"\n",
              "            ></i></td>\n",
              "            <td class=\"param\">min_impurity_decrease&nbsp;</td>\n",
              "            <td class=\"value\">0.0</td>\n",
              "        </tr>\n",
              "    \n",
              "\n",
              "        <tr class=\"default\">\n",
              "            <td><i class=\"copy-paste-icon\"\n",
              "                 onclick=\"copyToClipboard('class_weight',\n",
              "                          this.parentElement.nextElementSibling)\"\n",
              "            ></i></td>\n",
              "            <td class=\"param\">class_weight&nbsp;</td>\n",
              "            <td class=\"value\">None</td>\n",
              "        </tr>\n",
              "    \n",
              "\n",
              "        <tr class=\"default\">\n",
              "            <td><i class=\"copy-paste-icon\"\n",
              "                 onclick=\"copyToClipboard('ccp_alpha',\n",
              "                          this.parentElement.nextElementSibling)\"\n",
              "            ></i></td>\n",
              "            <td class=\"param\">ccp_alpha&nbsp;</td>\n",
              "            <td class=\"value\">0.0</td>\n",
              "        </tr>\n",
              "    \n",
              "\n",
              "        <tr class=\"default\">\n",
              "            <td><i class=\"copy-paste-icon\"\n",
              "                 onclick=\"copyToClipboard('monotonic_cst',\n",
              "                          this.parentElement.nextElementSibling)\"\n",
              "            ></i></td>\n",
              "            <td class=\"param\">monotonic_cst&nbsp;</td>\n",
              "            <td class=\"value\">None</td>\n",
              "        </tr>\n",
              "    \n",
              "                  </tbody>\n",
              "                </table>\n",
              "            </details>\n",
              "        </div>\n",
              "    </div></div></div></div></div><script>function copyToClipboard(text, element) {\n",
              "    // Get the parameter prefix from the closest toggleable content\n",
              "    const toggleableContent = element.closest('.sk-toggleable__content');\n",
              "    const paramPrefix = toggleableContent ? toggleableContent.dataset.paramPrefix : '';\n",
              "    const fullParamName = paramPrefix ? `${paramPrefix}${text}` : text;\n",
              "\n",
              "    const originalStyle = element.style;\n",
              "    const computedStyle = window.getComputedStyle(element);\n",
              "    const originalWidth = computedStyle.width;\n",
              "    const originalHTML = element.innerHTML.replace('Copied!', '');\n",
              "\n",
              "    navigator.clipboard.writeText(fullParamName)\n",
              "        .then(() => {\n",
              "            element.style.width = originalWidth;\n",
              "            element.style.color = 'green';\n",
              "            element.innerHTML = \"Copied!\";\n",
              "\n",
              "            setTimeout(() => {\n",
              "                element.innerHTML = originalHTML;\n",
              "                element.style = originalStyle;\n",
              "            }, 2000);\n",
              "        })\n",
              "        .catch(err => {\n",
              "            console.error('Failed to copy:', err);\n",
              "            element.style.color = 'red';\n",
              "            element.innerHTML = \"Failed!\";\n",
              "            setTimeout(() => {\n",
              "                element.innerHTML = originalHTML;\n",
              "                element.style = originalStyle;\n",
              "            }, 2000);\n",
              "        });\n",
              "    return false;\n",
              "}\n",
              "\n",
              "document.querySelectorAll('.fa-regular.fa-copy').forEach(function(element) {\n",
              "    const toggleableContent = element.closest('.sk-toggleable__content');\n",
              "    const paramPrefix = toggleableContent ? toggleableContent.dataset.paramPrefix : '';\n",
              "    const paramName = element.parentElement.nextElementSibling.textContent.trim();\n",
              "    const fullParamName = paramPrefix ? `${paramPrefix}${paramName}` : paramName;\n",
              "\n",
              "    element.setAttribute('title', fullParamName);\n",
              "});\n",
              "</script></body>"
            ],
            "text/plain": [
              "DecisionTreeClassifier()"
            ]
          },
          "execution_count": 69,
          "metadata": {},
          "output_type": "execute_result"
        }
      ],
      "source": [
        "from sklearn.tree import DecisionTreeClassifier\n",
        "\n",
        "model = DecisionTreeClassifier()\n",
        "model.fit(X_train_upsampled , y_train_upsampled)"
      ]
    },
    {
      "cell_type": "code",
      "execution_count": 70,
      "metadata": {},
      "outputs": [
        {
          "name": "stdout",
          "output_type": "stream",
          "text": [
            "Accuracy 87.25\n",
            "              precision    recall  f1-score   support\n",
            "\n",
            "           0       0.90      0.92      0.91      1387\n",
            "           1       0.81      0.77      0.79       613\n",
            "\n",
            "    accuracy                           0.87      2000\n",
            "   macro avg       0.85      0.84      0.85      2000\n",
            "weighted avg       0.87      0.87      0.87      2000\n",
            "\n"
          ]
        }
      ],
      "source": [
        "y_pred = model.predict(X_test)\n",
        "acc_dec_tree = accuracy_score(y_test, y_pred) * 100\n",
        "print(\"Accuracy\", acc_dec_tree)\n",
        "print(classification_report(y_test, y_pred))"
      ]
    },
    {
      "cell_type": "code",
      "execution_count": 71,
      "metadata": {},
      "outputs": [
        {
          "data": {
            "image/png": "[encoded data removed]",
            "text/plain": [
              "<Figure size 640x480 with 2 Axes>"
            ]
          },
          "metadata": {},
          "output_type": "display_data"
        }
      ],
      "source": [
        "cm = confusion_matrix(y_test, y_pred)\n",
        "disp = ConfusionMatrixDisplay(confusion_matrix=cm)\n",
        "disp.plot(cmap='Blues', values_format='d')\n",
        "plt.title(\"Confusion Matrix - Decision Tree\")\n",
        "plt.show()"
      ]
    },
    {
      "cell_type": "markdown",
      "metadata": {
        "id": "gZCzuHmRPqFX"
      },
      "source": [
        "# Using Random Forest"
      ]
    },
    {
      "cell_type": "code",
      "execution_count": 72,
      "metadata": {
        "colab": {
          "base_uri": "https://localhost:8080/"
        },
        "id": "_P127WJbIhvL",
        "outputId": "ce6389a0-1343-4f6f-a6a0-592fdd98ac0e"
      },
      "outputs": [
        {
          "name": "stdout",
          "output_type": "stream",
          "text": [
            "Accuracy train: 0.881125\n",
            "Accuracy test: 0.8795\n",
            "Recall: 0.833605220228385\n"
          ]
        }
      ],
      "source": [
        "from sklearn.ensemble import RandomForestClassifier\n",
        "from sklearn.metrics import accuracy_score, recall_score\n",
        "\n",
        "model = RandomForestClassifier(n_estimators=100, max_depth=4, random_state=42, class_weight='balanced')\n",
        "model.fit(X_train, y_train)\n",
        "\n",
        "y_pred = model.predict(X_test)\n",
        "y_train_pred = model.predict(X_train)\n",
        "\n",
        "print(\"Accuracy train:\", accuracy_score(y_train, y_train_pred))\n",
        "print(\"Accuracy test:\", accuracy_score(y_test, y_pred))\n",
        "print(\"Recall:\",recall_score(y_test, y_pred))\n",
        "acc_random_forest = accuracy_score(y_train, y_train_pred) * 100"
      ]
    },
    {
      "cell_type": "code",
      "execution_count": 73,
      "metadata": {
        "colab": {
          "base_uri": "https://localhost:8080/"
        },
        "id": "vEF46F2PSNgg",
        "outputId": "093e450e-8c94-4d4b-eebc-0a6d6b32b59c"
      },
      "outputs": [
        {
          "name": "stdout",
          "output_type": "stream",
          "text": [
            "              precision    recall  f1-score   support\n",
            "\n",
            "           0       0.92      0.90      0.91      1387\n",
            "           1       0.79      0.83      0.81       613\n",
            "\n",
            "    accuracy                           0.88      2000\n",
            "   macro avg       0.86      0.87      0.86      2000\n",
            "weighted avg       0.88      0.88      0.88      2000\n",
            "\n"
          ]
        }
      ],
      "source": [
        "from sklearn.metrics import classification_report\n",
        "print(classification_report(y_test, y_pred))"
      ]
    },
    {
      "cell_type": "code",
      "execution_count": 74,
      "metadata": {
        "colab": {
          "base_uri": "https://localhost:8080/",
          "height": 178
        },
        "id": "XuseOa4kOBqs",
        "outputId": "427f2ec5-eb58-4e52-f7de-4db1ddd8d936"
      },
      "outputs": [
        {
          "data": {
            "application/vnd.microsoft.datawrangler.viewer.v0+json": {
              "columns": [
                {
                  "name": "target_finish_e",
                  "rawType": "int64",
                  "type": "integer"
                },
                {
                  "name": "count",
                  "rawType": "int64",
                  "type": "integer"
                }
              ],
              "ref": "fc4c34e1-1f97-414d-a6ed-ec89799da64c",
              "rows": [
                [
                  "0",
                  "5718"
                ],
                [
                  "1",
                  "2282"
                ]
              ],
              "shape": {
                "columns": 1,
                "rows": 2
              }
            },
            "text/plain": [
              "target_finish_e\n",
              "0    5718\n",
              "1    2282\n",
              "Name: count, dtype: int64"
            ]
          },
          "execution_count": 74,
          "metadata": {},
          "output_type": "execute_result"
        }
      ],
      "source": [
        "y_train.value_counts()\n",
        "   #Used the class_wieght parameter to balance out the data"
      ]
    },
    {
      "cell_type": "code",
      "execution_count": 75,
      "metadata": {
        "colab": {
          "base_uri": "https://localhost:8080/",
          "height": 472
        },
        "id": "wEM68Hc7RdGV",
        "outputId": "e475b657-f4f7-4078-ec23-0a0dd7f5cb63"
      },
      "outputs": [
        {
          "data": {
            "image/png": "[encoded data removed]",
            "text/plain": [
              "<Figure size 640x480 with 2 Axes>"
            ]
          },
          "metadata": {},
          "output_type": "display_data"
        }
      ],
      "source": [
        "from sklearn.metrics import confusion_matrix, ConfusionMatrixDisplay\n",
        "\n",
        "cm = confusion_matrix(y_test, y_pred)\n",
        "disp = ConfusionMatrixDisplay(confusion_matrix=cm)\n",
        "disp.plot(cmap='Blues', values_format='d')\n",
        "plt.title(\"Confusion Matrix - Random Forest\")\n",
        "plt.show()\n"
      ]
    },
    {
      "cell_type": "code",
      "execution_count": 76,
      "metadata": {
        "id": "DyBRFmqSPTph"
      },
      "outputs": [],
      "source": [
        "from imblearn.over_sampling import SMOTE\n",
        "smote = SMOTE()\n",
        "X_train_upsampled, y_train_upsampled = smote.fit_resample(X_train, y_train)"
      ]
    },
    {
      "cell_type": "code",
      "execution_count": 77,
      "metadata": {
        "colab": {
          "base_uri": "https://localhost:8080/"
        },
        "id": "sB0boDloAIwm",
        "outputId": "108862bc-b047-4686-b1da-86afd86398c9"
      },
      "outputs": [
        {
          "name": "stdout",
          "output_type": "stream",
          "text": [
            "Accuracy train: 0.870846449807625\n",
            "Accuracy test: 0.874\n",
            "Recall: 0.8417618270799347\n"
          ]
        }
      ],
      "source": [
        "from sklearn.ensemble import RandomForestClassifier\n",
        "from sklearn.metrics import accuracy_score, recall_score\n",
        "\n",
        "rf_model = RandomForestClassifier(n_estimators=100, max_depth=4, random_state=42)\n",
        "rf_model.fit(X_train_upsampled, y_train_upsampled)\n",
        "\n",
        "y_pred = rf_model.predict(X_test)\n",
        "y_train_pred = rf_model.predict(X_train_upsampled)\n",
        "\n",
        "print(\"Accuracy train:\", accuracy_score(y_train_upsampled, y_train_pred))\n",
        "print(\"Accuracy test:\", accuracy_score(y_test, y_pred))\n",
        "print(\"Recall:\",recall_score(y_test, y_pred))\n",
        "acc_rf = accuracy_score(y_train_upsampled, y_train_pred) * 100"
      ]
    },
    {
      "cell_type": "code",
      "execution_count": 78,
      "metadata": {
        "colab": {
          "base_uri": "https://localhost:8080/",
          "height": 472
        },
        "id": "oPYhtO9fAl0y",
        "outputId": "7ec6ce03-6207-4595-c5aa-565d4fbd5312"
      },
      "outputs": [
        {
          "data": {
            "image/png": "[encoded data removed]",
            "text/plain": [
              "<Figure size 640x480 with 2 Axes>"
            ]
          },
          "metadata": {},
          "output_type": "display_data"
        }
      ],
      "source": [
        "from sklearn.metrics import confusion_matrix, ConfusionMatrixDisplay\n",
        "\n",
        "cm = confusion_matrix(y_test, y_pred)\n",
        "disp = ConfusionMatrixDisplay(confusion_matrix=cm)\n",
        "disp.plot(cmap='Blues', values_format='d')\n",
        "plt.title(\"Confusion Matrix - Random Forest\")\n",
        "plt.show()"
      ]
    },
    {
      "cell_type": "markdown",
      "metadata": {
        "id": "Pi5QN7L3Bsqn"
      },
      "source": [
        "# Using XGBoost"
      ]
    },
    {
      "cell_type": "code",
      "execution_count": 79,
      "metadata": {
        "colab": {
          "base_uri": "https://localhost:8080/"
        },
        "id": "tGaqHNq-CTwk",
        "outputId": "ec3c6fa2-fe6c-4da2-f7d5-22588dd29eba"
      },
      "outputs": [
        {
          "name": "stdout",
          "output_type": "stream",
          "text": [
            "Accuracy: 0.894\n",
            "              precision    recall  f1-score   support\n",
            "\n",
            "           0       0.91      0.94      0.92      1387\n",
            "           1       0.86      0.78      0.82       613\n",
            "\n",
            "    accuracy                           0.89      2000\n",
            "   macro avg       0.88      0.86      0.87      2000\n",
            "weighted avg       0.89      0.89      0.89      2000\n",
            "\n"
          ]
        }
      ],
      "source": [
        "from xgboost import XGBClassifier\n",
        "from sklearn.model_selection import train_test_split\n",
        "from sklearn.metrics import accuracy_score, classification_report\n",
        "\n",
        "xgb_model = XGBClassifier(\n",
        "    n_estimators=100,\n",
        "    learning_rate=0.1,\n",
        "    max_depth=6,\n",
        "    subsample=0.8,\n",
        "    colsample_bytree=0.8,\n",
        "    random_state=42,\n",
        "    eval_metric='logloss'\n",
        ")\n",
        "\n",
        "xgb_model.fit(X_train, y_train)\n",
        "\n",
        "\n",
        "y_pred = xgb_model.predict(X_test)\n",
        "\n",
        "\n",
        "print(\"Accuracy:\", accuracy_score(y_test, y_pred))\n",
        "print(classification_report(y_test, y_pred))\n"
      ]
    },
    {
      "cell_type": "code",
      "execution_count": 80,
      "metadata": {
        "colab": {
          "base_uri": "https://localhost:8080/",
          "height": 472
        },
        "id": "3w99qmY8E9Rf",
        "outputId": "c8bdc745-64b1-4cdf-c5eb-ce01a327e372"
      },
      "outputs": [
        {
          "data": {
            "image/png": "[encoded data removed]",
            "text/plain": [
              "<Figure size 640x480 with 2 Axes>"
            ]
          },
          "metadata": {},
          "output_type": "display_data"
        }
      ],
      "source": [
        "from sklearn.metrics import confusion_matrix, ConfusionMatrixDisplay\n",
        "\n",
        "cm = confusion_matrix(y_test, y_pred)\n",
        "disp = ConfusionMatrixDisplay(confusion_matrix=cm)\n",
        "disp.plot(cmap='Blues', values_format='d')\n",
        "plt.title(\"Confusion Matrix - XGBoost\")\n",
        "plt.show()"
      ]
    },
    {
      "cell_type": "code",
      "execution_count": 81,
      "metadata": {
        "colab": {
          "base_uri": "https://localhost:8080/"
        },
        "id": "eOH98ReJFbTK",
        "outputId": "68739399-ccd2-4fb0-efc5-7eebb12f341b"
      },
      "outputs": [
        {
          "name": "stdout",
          "output_type": "stream",
          "text": [
            "Accuracy: 0.888\n",
            "              precision    recall  f1-score   support\n",
            "\n",
            "           0       0.93      0.90      0.92      1387\n",
            "           1       0.80      0.85      0.82       613\n",
            "\n",
            "    accuracy                           0.89      2000\n",
            "   macro avg       0.86      0.88      0.87      2000\n",
            "weighted avg       0.89      0.89      0.89      2000\n",
            "\n"
          ]
        }
      ],
      "source": [
        "from xgboost import XGBClassifier\n",
        "from sklearn.model_selection import train_test_split\n",
        "from sklearn.metrics import accuracy_score, classification_report\n",
        "\n",
        "xgb_model = XGBClassifier(\n",
        "    n_estimators=100,\n",
        "    learning_rate=0.1,\n",
        "    max_depth=6,\n",
        "    subsample=0.8,\n",
        "    colsample_bytree=0.8,\n",
        "    random_state=42,\n",
        "    eval_metric='logloss'\n",
        ")\n",
        "\n",
        "xgb_model.fit(X_train_upsampled, y_train_upsampled)\n",
        "\n",
        "\n",
        "y_pred = xgb_model.predict(X_test)\n",
        "\n",
        "\n",
        "print(\"Accuracy:\", accuracy_score(y_test, y_pred))\n",
        "print(classification_report(y_test, y_pred))\n",
        "acc_xg = accuracy_score(y_test, y_pred) * 100"
      ]
    },
    {
      "cell_type": "code",
      "execution_count": 82,
      "metadata": {
        "colab": {
          "base_uri": "https://localhost:8080/",
          "height": 472
        },
        "id": "V1GpJOGOFhq5",
        "outputId": "b0f157c3-dc20-4485-a3b3-2bb3e5ea5a3c"
      },
      "outputs": [
        {
          "data": {
            "image/png": "[encoded data removed]",
            "text/plain": [
              "<Figure size 640x480 with 2 Axes>"
            ]
          },
          "metadata": {},
          "output_type": "display_data"
        }
      ],
      "source": [
        "from sklearn.metrics import confusion_matrix, ConfusionMatrixDisplay\n",
        "\n",
        "cm = confusion_matrix(y_test, y_pred)\n",
        "disp = ConfusionMatrixDisplay(confusion_matrix=cm)\n",
        "disp.plot(cmap='Blues', values_format='d')\n",
        "plt.title(\"Confusion Matrix - XGBoost\")\n",
        "plt.show()"
      ]
    },
    {
      "cell_type": "markdown",
      "metadata": {
        "id": "-wxUjI7IFkjh"
      },
      "source": [
        "# Using SVM"
      ]
    },
    {
      "cell_type": "code",
      "execution_count": 83,
      "metadata": {
        "id": "SSakgAPTHlBN"
      },
      "outputs": [],
      "source": [
        "from sklearn.preprocessing import StandardScaler\n",
        "from sklearn.compose import ColumnTransformer\n",
        "\n",
        "preprocessor = ColumnTransformer(\n",
        "    transformers=[\n",
        "        ('num', StandardScaler(), numeric_features),\n",
        "        ('cat', 'passthrough', [col for col in X_train.columns if col not in numeric_features])\n",
        "    ]\n",
        ")\n",
        "\n",
        "X_train_scaled = preprocessor.fit_transform(X_train)\n",
        "X_test_scaled = preprocessor.transform(X_test)"
      ]
    },
    {
      "cell_type": "code",
      "execution_count": 84,
      "metadata": {
        "id": "32VbxtYQHovB"
      },
      "outputs": [],
      "source": [
        "from sklearn.svm import SVC\n",
        "from sklearn.metrics import mean_squared_error"
      ]
    },
    {
      "cell_type": "code",
      "execution_count": 85,
      "metadata": {
        "colab": {
          "base_uri": "https://localhost:8080/"
        },
        "id": "sDUYD785NNK7",
        "outputId": "d2e1f271-ec2d-472a-b2e5-397b1a4f4850"
      },
      "outputs": [
        {
          "name": "stdout",
          "output_type": "stream",
          "text": [
            "Accuracy: 87.1\n"
          ]
        }
      ],
      "source": [
        "from imblearn.over_sampling import SMOTE\n",
        "smote = SMOTE()\n",
        "X_train_final, y_train_final = smote.fit_resample(X_train_scaled, y_train)\n",
        "\n",
        "svr = SVC(kernel='rbf', C=1.0, gamma='scale')\n",
        "svr.fit(X_train_final, y_train_final)\n",
        "\n",
        "y_pred = svr.predict(X_test_scaled)\n",
        "print(\"Accuracy:\", accuracy_score(y_test, y_pred) * 100)"
      ]
    },
    {
      "cell_type": "code",
      "execution_count": 86,
      "metadata": {
        "id": "oOf7uxXhLkpN"
      },
      "outputs": [],
      "source": [
        "acc_svm = accuracy_score(y_test, y_pred) * 100"
      ]
    },
    {
      "cell_type": "code",
      "execution_count": 87,
      "metadata": {
        "colab": {
          "base_uri": "https://localhost:8080/",
          "height": 472
        },
        "id": "Q0RNbqyVN_O1",
        "outputId": "35d1995d-225a-4da5-8203-e21460c588b7"
      },
      "outputs": [
        {
          "data": {
            "image/png": "[encoded data removed]",
            "text/plain": [
              "<Figure size 640x480 with 2 Axes>"
            ]
          },
          "metadata": {},
          "output_type": "display_data"
        }
      ],
      "source": [
        "from sklearn.metrics import confusion_matrix, ConfusionMatrixDisplay\n",
        "\n",
        "cm = confusion_matrix(y_test, y_pred)\n",
        "disp = ConfusionMatrixDisplay(confusion_matrix=cm)\n",
        "disp.plot(cmap='Blues', values_format='d')\n",
        "plt.title(\"Confusion Matrix - SVM\")\n",
        "plt.show()"
      ]
    },
    {
      "cell_type": "markdown",
      "metadata": {
        "id": "RNvy_IwSOpwy"
      },
      "source": [
        "# Summary"
      ]
    },
    {
      "cell_type": "code",
      "execution_count": 88,
      "metadata": {
        "id": "HNzXDypwVTuL"
      },
      "outputs": [],
      "source": [
        "accuracies = {\"Logistic Regression\" : acc_log,\n",
        "              \"Decision Tree\": acc_dec_tree,\n",
        "            \"Random Forest\":acc_rf,\n",
        "            \"XGBoost\": acc_xg,\n",
        "            \"SVM\":acc_svm,\n",
        "}"
      ]
    },
    {
      "cell_type": "code",
      "execution_count": 89,
      "metadata": {
        "colab": {
          "base_uri": "https://localhost:8080/",
          "height": 143
        },
        "id": "Zy97ets0XRul",
        "outputId": "5d263280-2096-4c15-d8c9-f5e835e61189"
      },
      "outputs": [
        {
          "data": {
            "application/vnd.microsoft.datawrangler.viewer.v0+json": {
              "columns": [
                {
                  "name": "index",
                  "rawType": "int64",
                  "type": "integer"
                },
                {
                  "name": "Model",
                  "rawType": "object",
                  "type": "string"
                },
                {
                  "name": "Accuracy",
                  "rawType": "float64",
                  "type": "float"
                }
              ],
              "ref": "1f1c44a2-34fc-408c-89c2-886fbbc1bcd2",
              "rows": [
                [
                  "0",
                  "Logistic Regression",
                  "89.55"
                ],
                [
                  "1",
                  "Decision Tree",
                  "87.25"
                ],
                [
                  "2",
                  "Random Forest",
                  "87.0846449807625"
                ],
                [
                  "3",
                  "XGBoost",
                  "88.8"
                ],
                [
                  "4",
                  "SVM",
                  "87.1"
                ]
              ],
              "shape": {
                "columns": 2,
                "rows": 5
              }
            },
            "text/html": [
              "<div>\n",
              "<style scoped>\n",
              "    .dataframe tbody tr th:only-of-type {\n",
              "        vertical-align: middle;\n",
              "    }\n",
              "\n",
              "    .dataframe tbody tr th {\n",
              "        vertical-align: top;\n",
              "    }\n",
              "\n",
              "    .dataframe thead th {\n",
              "        text-align: right;\n",
              "    }\n",
              "</style>\n",
              "<table border=\"1\" class=\"dataframe\">\n",
              "  <thead>\n",
              "    <tr style=\"text-align: right;\">\n",
              "      <th></th>\n",
              "      <th>Model</th>\n",
              "      <th>Accuracy</th>\n",
              "    </tr>\n",
              "  </thead>\n",
              "  <tbody>\n",
              "    <tr>\n",
              "      <th>0</th>\n",
              "      <td>Logistic Regression</td>\n",
              "      <td>89.550000</td>\n",
              "    </tr>\n",
              "    <tr>\n",
              "      <th>1</th>\n",
              "      <td>Decision Tree</td>\n",
              "      <td>87.250000</td>\n",
              "    </tr>\n",
              "    <tr>\n",
              "      <th>2</th>\n",
              "      <td>Random Forest</td>\n",
              "      <td>87.084645</td>\n",
              "    </tr>\n",
              "    <tr>\n",
              "      <th>3</th>\n",
              "      <td>XGBoost</td>\n",
              "      <td>88.800000</td>\n",
              "    </tr>\n",
              "    <tr>\n",
              "      <th>4</th>\n",
              "      <td>SVM</td>\n",
              "      <td>87.100000</td>\n",
              "    </tr>\n",
              "  </tbody>\n",
              "</table>\n",
              "</div>"
            ],
            "text/plain": [
              "                 Model   Accuracy\n",
              "0  Logistic Regression  89.550000\n",
              "1        Decision Tree  87.250000\n",
              "2        Random Forest  87.084645\n",
              "3              XGBoost  88.800000\n",
              "4                  SVM  87.100000"
            ]
          },
          "execution_count": 89,
          "metadata": {},
          "output_type": "execute_result"
        }
      ],
      "source": [
        "acc_df = pd.DataFrame(list(accuracies.items()), columns=['Model', 'Accuracy'])\n",
        "acc_df"
      ]
    },
    {
      "cell_type": "code",
      "execution_count": 90,
      "metadata": {
        "colab": {
          "base_uri": "https://localhost:8080/",
          "height": 487
        },
        "id": "dM-1-DsEXeei",
        "outputId": "3f515f56-823a-4b37-b9eb-2abd7e0150f9"
      },
      "outputs": [
        {
          "data": {
            "image/png": "[encoded data removed]",
            "text/plain": [
              "<Figure size 800x500 with 1 Axes>"
            ]
          },
          "metadata": {},
          "output_type": "display_data"
        }
      ],
      "source": [
        "import seaborn as sns\n",
        "plt.figure(figsize=(8,5))\n",
        "ax = sns.barplot(x='Model', y='Accuracy', data=acc_df, hue='Model', legend=False, palette='viridis')\n",
        "plt.ylabel('Accuracy(%)')\n",
        "plt.xlabel('Model used')\n",
        "plt.title('Model Accuracy Comparison')\n",
        "plt.ylim(0, 100)\n",
        "\n",
        "for container in ax.containers: \n",
        "    for bar in container:\n",
        "        height = bar.get_height()\n",
        "        ax.text(bar.get_x() + bar.get_width() / 2, \n",
        "                height + 1,                         \n",
        "                f'{height:.2f}',                    \n",
        "                ha='center', va='bottom',           \n",
        "                fontsize=10, color='black')\n",
        "\n",
        "plt.show()\n"
      ]
    }
  ],
  "metadata": {
    "accelerator": "GPU",
    "colab": {
      "gpuType": "T4",
      "provenance": []
    },
    "kernelspec": {
      "display_name": "Python 3",
      "name": "python3"
    },
    "language_info": {
      "codemirror_mode": {
        "name": "ipython",
        "version": 3
      },
      "file_extension": ".py",
      "mimetype": "text/x-python",
      "name": "python",
      "nbconvert_exporter": "python",
      "pygments_lexer": "ipython3",
      "version": "3.13.3"
    }
  },
  "nbformat": 4,
  "nbformat_minor": 0
}
